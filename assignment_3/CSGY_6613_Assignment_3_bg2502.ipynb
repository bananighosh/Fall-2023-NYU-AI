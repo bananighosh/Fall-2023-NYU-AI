{
  "cells": [
    {
      "cell_type": "markdown",
      "metadata": {
        "id": "view-in-github",
        "colab_type": "text"
      },
      "source": [
        "<a href=\"https://colab.research.google.com/github/bananighosh/Fall-2023-NYU-AI/blob/main/assignment_3/CSGY_6613_Assignment_3_bg2502.ipynb\" target=\"_parent\"><img src=\"https://colab.research.google.com/assets/colab-badge.svg\" alt=\"Open In Colab\"/></a>"
      ]
    },
    {
      "cell_type": "markdown",
      "metadata": {
        "id": "asolfFYwdK_1"
      },
      "source": []
    },
    {
      "cell_type": "markdown",
      "metadata": {
        "id": "1QRusWc5EJct"
      },
      "source": [
        "## Data Preprocessing"
      ]
    },
    {
      "cell_type": "code",
      "source": [
        "!pip install pytube"
      ],
      "metadata": {
        "colab": {
          "base_uri": "https://localhost:8080/"
        },
        "id": "cWB7Lz6m3QeS",
        "outputId": "6859ac1e-ff11-4378-ab6c-871307bed4a4"
      },
      "execution_count": null,
      "outputs": [
        {
          "output_type": "stream",
          "name": "stdout",
          "text": [
            "Collecting pytube\n",
            "  Downloading pytube-15.0.0-py3-none-any.whl (57 kB)\n",
            "\u001b[2K     \u001b[90m━━━━━━━━━━━━━━━━━━━━━━━━━━━━━━━━━━━━━━━━\u001b[0m \u001b[32m57.6/57.6 kB\u001b[0m \u001b[31m2.2 MB/s\u001b[0m eta \u001b[36m0:00:00\u001b[0m\n",
            "\u001b[?25hInstalling collected packages: pytube\n",
            "Successfully installed pytube-15.0.0\n"
          ]
        }
      ]
    },
    {
      "cell_type": "code",
      "execution_count": null,
      "metadata": {
        "id": "H71UtWFyZkhI"
      },
      "outputs": [],
      "source": [
        "from pytube import YouTube\n",
        "import pathlib\n",
        "import cv2"
      ]
    },
    {
      "cell_type": "code",
      "execution_count": null,
      "metadata": {
        "id": "IiLBV-DP2dNU",
        "outputId": "85edae06-4bdb-4be9-83a8-1834c8696c2c"
      },
      "outputs": [
        {
          "name": "stdout",
          "output_type": "stream",
          "text": [
            "Video 'Drone Tracking 1' has been downloaded to ./drone_videos/videos\n",
            "Video 'Drone tracking 2' has been downloaded to ./drone_videos/videos\n"
          ]
        }
      ],
      "source": [
        "# Replace 'your_video_url' with the actual URL of the video you want to download\n",
        "video_urls = ['https://www.youtube.com/watch?v=DhmZ6W1UAv4&ab',\n",
        "              'https://www.youtube.com/watch?v=YrydHPwRelI'\n",
        "]\n",
        "\n",
        "for video_url in video_urls:\n",
        "    # Create a YouTube object\n",
        "    yt = YouTube(video_url, use_oauth=True, allow_oauth_cache=True)\n",
        "\n",
        "    # Get the highest resolution stream available\n",
        "    video_stream = yt.streams.get_highest_resolution()\n",
        "\n",
        "    # Specify the download destination (optional)\n",
        "    download_path = './drone_videos/videos'\n",
        "\n",
        "    # Download the video\n",
        "    video_stream.download(download_path)\n",
        "\n",
        "    print(f\"Video '{yt.title}' has been downloaded to {download_path}\")"
      ]
    },
    {
      "cell_type": "code",
      "execution_count": null,
      "metadata": {
        "id": "2EiJzuKG2dNU",
        "outputId": "0e993492-2a7d-4251-d398-3d9f8c0294f0"
      },
      "outputs": [
        {
          "name": "stdout",
          "output_type": "stream",
          "text": [
            "Frame 290 saved as ./drone_videos/video_2/Drone Tracking 1_frame_290.jpg\n",
            "Frame 580 saved as ./drone_videos/video_2/Drone Tracking 1_frame_580.jpg\n",
            "Frame 870 saved as ./drone_videos/video_2/Drone Tracking 1_frame_870.jpg\n",
            "Frame 1160 saved as ./drone_videos/video_2/Drone Tracking 1_frame_1160.jpg\n",
            "Frame 1450 saved as ./drone_videos/video_2/Drone Tracking 1_frame_1450.jpg\n",
            "Frame 1740 saved as ./drone_videos/video_2/Drone Tracking 1_frame_1740.jpg\n",
            "Frame 2030 saved as ./drone_videos/video_2/Drone Tracking 1_frame_2030.jpg\n",
            "Frame 2320 saved as ./drone_videos/video_2/Drone Tracking 1_frame_2320.jpg\n",
            "Frame 2610 saved as ./drone_videos/video_2/Drone Tracking 1_frame_2610.jpg\n",
            "Frame 2900 saved as ./drone_videos/video_2/Drone Tracking 1_frame_2900.jpg\n",
            "Frame 3190 saved as ./drone_videos/video_2/Drone Tracking 1_frame_3190.jpg\n",
            "Frame 3480 saved as ./drone_videos/video_2/Drone Tracking 1_frame_3480.jpg\n",
            "Frame 3770 saved as ./drone_videos/video_2/Drone Tracking 1_frame_3770.jpg\n",
            "Frame 4060 saved as ./drone_videos/video_2/Drone Tracking 1_frame_4060.jpg\n",
            "Frame 4350 saved as ./drone_videos/video_2/Drone Tracking 1_frame_4350.jpg\n",
            "Frame 4640 saved as ./drone_videos/video_2/Drone Tracking 1_frame_4640.jpg\n",
            "Frame 4930 saved as ./drone_videos/video_2/Drone Tracking 1_frame_4930.jpg\n"
          ]
        }
      ],
      "source": [
        "# Replace 'your_video_url' with the actual URL of the video you want to extract images from\n",
        "# video_url = 'https://www.youtube.com/watch?v=DhmZ6W1UAv4&ab'\n",
        "\n",
        "video_url = 'https://www.youtube.com/watch?v=DhmZ6W1UAv4&ab'\n",
        "\n",
        "# Create a YouTube object\n",
        "yt = YouTube(video_url, use_oauth=True, allow_oauth_cache=True)\n",
        "\n",
        "# Get the video stream with the highest resolution\n",
        "video_stream = yt.streams.get_highest_resolution()\n",
        "\n",
        "# Get the video title for naming the images\n",
        "video_title = yt.title\n",
        "\n",
        "# Create a VideoCapture object\n",
        "cap = cv2.VideoCapture(video_stream.url)\n",
        "\n",
        "# Set the frame rate and initialize variables\n",
        "fps = int(cap.get(cv2.CAP_PROP_FPS))\n",
        "interval = 10  # Extract a frame every 10 seconds\n",
        "frame_number = 1\n",
        "\n",
        "download_path = \"./drone_videos/video_2/\"\n",
        "pathlib.Path(download_path).mkdir(parents=True, exist_ok=True)\n",
        "\n",
        "while True:\n",
        "    # Read the next frame\n",
        "    ret, frame = cap.read()\n",
        "\n",
        "    # Break the loop if the video is finished\n",
        "    if not ret:\n",
        "        break\n",
        "\n",
        "    # Extract a frame every 'interval' seconds\n",
        "    if frame_number % (fps * interval) == 0:\n",
        "        # Save the frame as an image\n",
        "        image_path = f\"{download_path}{video_title}_frame_{frame_number}.jpg\"\n",
        "        cv2.imwrite(image_path, frame)\n",
        "        print(f\"Frame {frame_number} saved as {image_path}\")\n",
        "\n",
        "    frame_number += 1\n",
        "\n",
        "# Release the VideoCapture object\n",
        "cap.release()"
      ]
    },
    {
      "cell_type": "code",
      "source": [
        "!pip install ultralytics"
      ],
      "metadata": {
        "colab": {
          "base_uri": "https://localhost:8080/"
        },
        "id": "YY7jowtL3Vo9",
        "outputId": "4651826a-4748-46f2-add0-05986ede61b1"
      },
      "execution_count": null,
      "outputs": [
        {
          "output_type": "stream",
          "name": "stdout",
          "text": [
            "Collecting ultralytics\n",
            "  Downloading ultralytics-8.0.208-py3-none-any.whl (645 kB)\n",
            "\u001b[?25l     \u001b[90m━━━━━━━━━━━━━━━━━━━━━━━━━━━━━━━━━━━━━━━━\u001b[0m \u001b[32m0.0/645.2 kB\u001b[0m \u001b[31m?\u001b[0m eta \u001b[36m-:--:--\u001b[0m\r\u001b[2K     \u001b[91m━━━━━━━━━\u001b[0m\u001b[91m╸\u001b[0m\u001b[90m━━━━━━━━━━━━━━━━━━━━━━━━━━━━━━\u001b[0m \u001b[32m153.6/645.2 kB\u001b[0m \u001b[31m4.4 MB/s\u001b[0m eta \u001b[36m0:00:01\u001b[0m\r\u001b[2K     \u001b[91m━━━━━━━━━━━━━━━━━━━━━━━━━━━━\u001b[0m\u001b[91m╸\u001b[0m\u001b[90m━━━━━━━━━━━\u001b[0m \u001b[32m460.8/645.2 kB\u001b[0m \u001b[31m6.7 MB/s\u001b[0m eta \u001b[36m0:00:01\u001b[0m\r\u001b[2K     \u001b[90m━━━━━━━━━━━━━━━━━━━━━━━━━━━━━━━━━━━━━━━━\u001b[0m \u001b[32m645.2/645.2 kB\u001b[0m \u001b[31m6.7 MB/s\u001b[0m eta \u001b[36m0:00:00\u001b[0m\n",
            "\u001b[?25hRequirement already satisfied: matplotlib>=3.3.0 in /usr/local/lib/python3.10/dist-packages (from ultralytics) (3.7.1)\n",
            "Requirement already satisfied: numpy>=1.22.2 in /usr/local/lib/python3.10/dist-packages (from ultralytics) (1.23.5)\n",
            "Requirement already satisfied: opencv-python>=4.6.0 in /usr/local/lib/python3.10/dist-packages (from ultralytics) (4.8.0.76)\n",
            "Requirement already satisfied: pillow>=7.1.2 in /usr/local/lib/python3.10/dist-packages (from ultralytics) (9.4.0)\n",
            "Requirement already satisfied: pyyaml>=5.3.1 in /usr/local/lib/python3.10/dist-packages (from ultralytics) (6.0.1)\n",
            "Requirement already satisfied: requests>=2.23.0 in /usr/local/lib/python3.10/dist-packages (from ultralytics) (2.31.0)\n",
            "Requirement already satisfied: scipy>=1.4.1 in /usr/local/lib/python3.10/dist-packages (from ultralytics) (1.11.3)\n",
            "Requirement already satisfied: torch>=1.8.0 in /usr/local/lib/python3.10/dist-packages (from ultralytics) (2.1.0+cu118)\n",
            "Requirement already satisfied: torchvision>=0.9.0 in /usr/local/lib/python3.10/dist-packages (from ultralytics) (0.16.0+cu118)\n",
            "Requirement already satisfied: tqdm>=4.64.0 in /usr/local/lib/python3.10/dist-packages (from ultralytics) (4.66.1)\n",
            "Requirement already satisfied: pandas>=1.1.4 in /usr/local/lib/python3.10/dist-packages (from ultralytics) (1.5.3)\n",
            "Requirement already satisfied: seaborn>=0.11.0 in /usr/local/lib/python3.10/dist-packages (from ultralytics) (0.12.2)\n",
            "Requirement already satisfied: psutil in /usr/local/lib/python3.10/dist-packages (from ultralytics) (5.9.5)\n",
            "Requirement already satisfied: py-cpuinfo in /usr/local/lib/python3.10/dist-packages (from ultralytics) (9.0.0)\n",
            "Collecting thop>=0.1.1 (from ultralytics)\n",
            "  Downloading thop-0.1.1.post2209072238-py3-none-any.whl (15 kB)\n",
            "Requirement already satisfied: contourpy>=1.0.1 in /usr/local/lib/python3.10/dist-packages (from matplotlib>=3.3.0->ultralytics) (1.2.0)\n",
            "Requirement already satisfied: cycler>=0.10 in /usr/local/lib/python3.10/dist-packages (from matplotlib>=3.3.0->ultralytics) (0.12.1)\n",
            "Requirement already satisfied: fonttools>=4.22.0 in /usr/local/lib/python3.10/dist-packages (from matplotlib>=3.3.0->ultralytics) (4.44.0)\n",
            "Requirement already satisfied: kiwisolver>=1.0.1 in /usr/local/lib/python3.10/dist-packages (from matplotlib>=3.3.0->ultralytics) (1.4.5)\n",
            "Requirement already satisfied: packaging>=20.0 in /usr/local/lib/python3.10/dist-packages (from matplotlib>=3.3.0->ultralytics) (23.2)\n",
            "Requirement already satisfied: pyparsing>=2.3.1 in /usr/local/lib/python3.10/dist-packages (from matplotlib>=3.3.0->ultralytics) (3.1.1)\n",
            "Requirement already satisfied: python-dateutil>=2.7 in /usr/local/lib/python3.10/dist-packages (from matplotlib>=3.3.0->ultralytics) (2.8.2)\n",
            "Requirement already satisfied: pytz>=2020.1 in /usr/local/lib/python3.10/dist-packages (from pandas>=1.1.4->ultralytics) (2023.3.post1)\n",
            "Requirement already satisfied: charset-normalizer<4,>=2 in /usr/local/lib/python3.10/dist-packages (from requests>=2.23.0->ultralytics) (3.3.2)\n",
            "Requirement already satisfied: idna<4,>=2.5 in /usr/local/lib/python3.10/dist-packages (from requests>=2.23.0->ultralytics) (3.4)\n",
            "Requirement already satisfied: urllib3<3,>=1.21.1 in /usr/local/lib/python3.10/dist-packages (from requests>=2.23.0->ultralytics) (2.0.7)\n",
            "Requirement already satisfied: certifi>=2017.4.17 in /usr/local/lib/python3.10/dist-packages (from requests>=2.23.0->ultralytics) (2023.7.22)\n",
            "Requirement already satisfied: filelock in /usr/local/lib/python3.10/dist-packages (from torch>=1.8.0->ultralytics) (3.13.1)\n",
            "Requirement already satisfied: typing-extensions in /usr/local/lib/python3.10/dist-packages (from torch>=1.8.0->ultralytics) (4.5.0)\n",
            "Requirement already satisfied: sympy in /usr/local/lib/python3.10/dist-packages (from torch>=1.8.0->ultralytics) (1.12)\n",
            "Requirement already satisfied: networkx in /usr/local/lib/python3.10/dist-packages (from torch>=1.8.0->ultralytics) (3.2.1)\n",
            "Requirement already satisfied: jinja2 in /usr/local/lib/python3.10/dist-packages (from torch>=1.8.0->ultralytics) (3.1.2)\n",
            "Requirement already satisfied: fsspec in /usr/local/lib/python3.10/dist-packages (from torch>=1.8.0->ultralytics) (2023.6.0)\n",
            "Requirement already satisfied: triton==2.1.0 in /usr/local/lib/python3.10/dist-packages (from torch>=1.8.0->ultralytics) (2.1.0)\n",
            "Requirement already satisfied: six>=1.5 in /usr/local/lib/python3.10/dist-packages (from python-dateutil>=2.7->matplotlib>=3.3.0->ultralytics) (1.16.0)\n",
            "Requirement already satisfied: MarkupSafe>=2.0 in /usr/local/lib/python3.10/dist-packages (from jinja2->torch>=1.8.0->ultralytics) (2.1.3)\n",
            "Requirement already satisfied: mpmath>=0.19 in /usr/local/lib/python3.10/dist-packages (from sympy->torch>=1.8.0->ultralytics) (1.3.0)\n",
            "Installing collected packages: thop, ultralytics\n",
            "Successfully installed thop-0.1.1.post2209072238 ultralytics-8.0.208\n"
          ]
        }
      ]
    },
    {
      "cell_type": "code",
      "source": [
        "from google.colab import drive\n",
        "\n",
        "drive.mount('/content/gdrive')"
      ],
      "metadata": {
        "colab": {
          "base_uri": "https://localhost:8080/"
        },
        "id": "YH-SQpvQ3-H2",
        "outputId": "8f4a4442-6363-475d-b634-0cdc4ad7b571"
      },
      "execution_count": null,
      "outputs": [
        {
          "output_type": "stream",
          "name": "stdout",
          "text": [
            "Mounted at /content/gdrive\n"
          ]
        }
      ]
    },
    {
      "cell_type": "code",
      "source": [
        "# ROOT_DIR = '/content/gdrive/My Drive/ComputerVisionDeveloper/TrainYolov8CustomDataset'\n",
        "ROOT_DIR = '/content/gdrive/MyDrive/Colab Notebooks/assignment 3'"
      ],
      "metadata": {
        "id": "2IbP3uPV4IFW"
      },
      "execution_count": null,
      "outputs": []
    },
    {
      "cell_type": "code",
      "source": [
        "from ultralytics import YOLO\n",
        "import os"
      ],
      "metadata": {
        "id": "3E6L8Krb4XcC"
      },
      "execution_count": null,
      "outputs": []
    },
    {
      "cell_type": "markdown",
      "source": [
        "## Train the Yolov8 model"
      ],
      "metadata": {
        "id": "1d41bLr07cDd"
      }
    },
    {
      "cell_type": "code",
      "source": [
        "# Load a model\n",
        "model = YOLO(\"yolov8n.yaml\")  # build a new model from scratch\n",
        "\n",
        "# # Use the model\n",
        "# results = model.train(data=\"config.yaml\", epochs=1)  # train the model\n",
        "# Use the model\n",
        "results = model.train(data=os.path.join(ROOT_DIR, \"google_colab_config.yaml\"), epochs=100)  # train the model"
      ],
      "metadata": {
        "colab": {
          "base_uri": "https://localhost:8080/"
        },
        "id": "2rOnaz1O2l3i",
        "outputId": "fa63746f-c16d-4e5f-c490-3ccb41de6b78"
      },
      "execution_count": null,
      "outputs": [
        {
          "output_type": "stream",
          "name": "stderr",
          "text": [
            "\n",
            "                   from  n    params  module                                       arguments                     \n",
            "  0                  -1  1       464  ultralytics.nn.modules.conv.Conv             [3, 16, 3, 2]                 \n",
            "  1                  -1  1      4672  ultralytics.nn.modules.conv.Conv             [16, 32, 3, 2]                \n",
            "  2                  -1  1      7360  ultralytics.nn.modules.block.C2f             [32, 32, 1, True]             \n",
            "  3                  -1  1     18560  ultralytics.nn.modules.conv.Conv             [32, 64, 3, 2]                \n",
            "  4                  -1  2     49664  ultralytics.nn.modules.block.C2f             [64, 64, 2, True]             \n",
            "  5                  -1  1     73984  ultralytics.nn.modules.conv.Conv             [64, 128, 3, 2]               \n",
            "  6                  -1  2    197632  ultralytics.nn.modules.block.C2f             [128, 128, 2, True]           \n",
            "  7                  -1  1    295424  ultralytics.nn.modules.conv.Conv             [128, 256, 3, 2]              \n",
            "  8                  -1  1    460288  ultralytics.nn.modules.block.C2f             [256, 256, 1, True]           \n",
            "  9                  -1  1    164608  ultralytics.nn.modules.block.SPPF            [256, 256, 5]                 \n",
            " 10                  -1  1         0  torch.nn.modules.upsampling.Upsample         [None, 2, 'nearest']          \n",
            " 11             [-1, 6]  1         0  ultralytics.nn.modules.conv.Concat           [1]                           \n",
            " 12                  -1  1    148224  ultralytics.nn.modules.block.C2f             [384, 128, 1]                 \n",
            " 13                  -1  1         0  torch.nn.modules.upsampling.Upsample         [None, 2, 'nearest']          \n",
            " 14             [-1, 4]  1         0  ultralytics.nn.modules.conv.Concat           [1]                           \n",
            " 15                  -1  1     37248  ultralytics.nn.modules.block.C2f             [192, 64, 1]                  \n",
            " 16                  -1  1     36992  ultralytics.nn.modules.conv.Conv             [64, 64, 3, 2]                \n",
            " 17            [-1, 12]  1         0  ultralytics.nn.modules.conv.Concat           [1]                           \n",
            " 18                  -1  1    123648  ultralytics.nn.modules.block.C2f             [192, 128, 1]                 \n",
            " 19                  -1  1    147712  ultralytics.nn.modules.conv.Conv             [128, 128, 3, 2]              \n",
            " 20             [-1, 9]  1         0  ultralytics.nn.modules.conv.Concat           [1]                           \n",
            " 21                  -1  1    493056  ultralytics.nn.modules.block.C2f             [384, 256, 1]                 \n",
            " 22        [15, 18, 21]  1    897664  ultralytics.nn.modules.head.Detect           [80, [64, 128, 256]]          \n",
            "YOLOv8n summary: 225 layers, 3157200 parameters, 3157184 gradients, 8.9 GFLOPs\n",
            "\n",
            "Ultralytics YOLOv8.0.208 🚀 Python-3.10.12 torch-2.1.0+cu118 CUDA:0 (Tesla T4, 15102MiB)\n",
            "\u001b[34m\u001b[1mengine/trainer: \u001b[0mtask=detect, mode=train, model=yolov8n.yaml, data=/content/gdrive/MyDrive/Colab Notebooks/assignment 3/google_colab_config.yaml, epochs=100, patience=50, batch=16, imgsz=640, save=True, save_period=-1, cache=False, device=None, workers=8, project=None, name=train, exist_ok=False, pretrained=True, optimizer=auto, verbose=True, seed=0, deterministic=True, single_cls=False, rect=False, cos_lr=False, close_mosaic=10, resume=False, amp=True, fraction=1.0, profile=False, freeze=None, overlap_mask=True, mask_ratio=4, dropout=0.0, val=True, split=val, save_json=False, save_hybrid=False, conf=None, iou=0.7, max_det=300, half=False, dnn=False, plots=True, source=None, show=False, save_txt=False, save_conf=False, save_crop=False, show_labels=True, show_conf=True, vid_stride=1, stream_buffer=False, line_width=None, visualize=False, augment=False, agnostic_nms=False, classes=None, retina_masks=False, boxes=True, format=torchscript, keras=False, optimize=False, int8=False, dynamic=False, simplify=False, opset=None, workspace=4, nms=False, lr0=0.01, lrf=0.01, momentum=0.937, weight_decay=0.0005, warmup_epochs=3.0, warmup_momentum=0.8, warmup_bias_lr=0.1, box=7.5, cls=0.5, dfl=1.5, pose=12.0, kobj=1.0, label_smoothing=0.0, nbs=64, hsv_h=0.015, hsv_s=0.7, hsv_v=0.4, degrees=0.0, translate=0.1, scale=0.5, shear=0.0, perspective=0.0, flipud=0.0, fliplr=0.5, mosaic=1.0, mixup=0.0, copy_paste=0.0, cfg=None, tracker=botsort.yaml, save_dir=runs/detect/train\n",
            "Downloading https://ultralytics.com/assets/Arial.ttf to '/root/.config/Ultralytics/Arial.ttf'...\n",
            "100%|██████████| 755k/755k [00:00<00:00, 22.8MB/s]\n",
            "Overriding model.yaml nc=80 with nc=1\n",
            "\n",
            "                   from  n    params  module                                       arguments                     \n",
            "  0                  -1  1       464  ultralytics.nn.modules.conv.Conv             [3, 16, 3, 2]                 \n",
            "  1                  -1  1      4672  ultralytics.nn.modules.conv.Conv             [16, 32, 3, 2]                \n",
            "  2                  -1  1      7360  ultralytics.nn.modules.block.C2f             [32, 32, 1, True]             \n",
            "  3                  -1  1     18560  ultralytics.nn.modules.conv.Conv             [32, 64, 3, 2]                \n",
            "  4                  -1  2     49664  ultralytics.nn.modules.block.C2f             [64, 64, 2, True]             \n",
            "  5                  -1  1     73984  ultralytics.nn.modules.conv.Conv             [64, 128, 3, 2]               \n",
            "  6                  -1  2    197632  ultralytics.nn.modules.block.C2f             [128, 128, 2, True]           \n",
            "  7                  -1  1    295424  ultralytics.nn.modules.conv.Conv             [128, 256, 3, 2]              \n",
            "  8                  -1  1    460288  ultralytics.nn.modules.block.C2f             [256, 256, 1, True]           \n",
            "  9                  -1  1    164608  ultralytics.nn.modules.block.SPPF            [256, 256, 5]                 \n",
            " 10                  -1  1         0  torch.nn.modules.upsampling.Upsample         [None, 2, 'nearest']          \n",
            " 11             [-1, 6]  1         0  ultralytics.nn.modules.conv.Concat           [1]                           \n",
            " 12                  -1  1    148224  ultralytics.nn.modules.block.C2f             [384, 128, 1]                 \n",
            " 13                  -1  1         0  torch.nn.modules.upsampling.Upsample         [None, 2, 'nearest']          \n",
            " 14             [-1, 4]  1         0  ultralytics.nn.modules.conv.Concat           [1]                           \n",
            " 15                  -1  1     37248  ultralytics.nn.modules.block.C2f             [192, 64, 1]                  \n",
            " 16                  -1  1     36992  ultralytics.nn.modules.conv.Conv             [64, 64, 3, 2]                \n",
            " 17            [-1, 12]  1         0  ultralytics.nn.modules.conv.Concat           [1]                           \n",
            " 18                  -1  1    123648  ultralytics.nn.modules.block.C2f             [192, 128, 1]                 \n",
            " 19                  -1  1    147712  ultralytics.nn.modules.conv.Conv             [128, 128, 3, 2]              \n",
            " 20             [-1, 9]  1         0  ultralytics.nn.modules.conv.Concat           [1]                           \n",
            " 21                  -1  1    493056  ultralytics.nn.modules.block.C2f             [384, 256, 1]                 \n",
            " 22        [15, 18, 21]  1    751507  ultralytics.nn.modules.head.Detect           [1, [64, 128, 256]]           \n",
            "YOLOv8n summary: 225 layers, 3011043 parameters, 3011027 gradients, 8.2 GFLOPs\n",
            "\n",
            "\u001b[34m\u001b[1mTensorBoard: \u001b[0mStart with 'tensorboard --logdir runs/detect/train', view at http://localhost:6006/\n",
            "Freezing layer 'model.22.dfl.conv.weight'\n",
            "\u001b[34m\u001b[1mAMP: \u001b[0mrunning Automatic Mixed Precision (AMP) checks with YOLOv8n...\n",
            "Downloading https://github.com/ultralytics/assets/releases/download/v0.0.0/yolov8n.pt to 'yolov8n.pt'...\n",
            "100%|██████████| 6.23M/6.23M [00:00<00:00, 129MB/s]\n",
            "\u001b[34m\u001b[1mAMP: \u001b[0mchecks passed ✅\n",
            "\u001b[34m\u001b[1mtrain: \u001b[0mScanning /content/gdrive/MyDrive/Colab Notebooks/assignment 3/datasets/data/labels/train.cache... 1359 images, 0 backgrounds, 0 corrupt: 100%|██████████| 1359/1359 [00:00<?, ?it/s]\n",
            "\u001b[34m\u001b[1mtrain: \u001b[0mWARNING ⚠️ /content/gdrive/MyDrive/Colab Notebooks/assignment 3/datasets/data/images/train/pic_722.jpg: corrupt JPEG restored and saved\n",
            "\u001b[34m\u001b[1malbumentations: \u001b[0mBlur(p=0.01, blur_limit=(3, 7)), MedianBlur(p=0.01, blur_limit=(3, 7)), ToGray(p=0.01), CLAHE(p=0.01, clip_limit=(1, 4.0), tile_grid_size=(8, 8))\n",
            "\u001b[34m\u001b[1mval: \u001b[0mScanning /content/gdrive/MyDrive/Colab Notebooks/assignment 3/datasets/data/labels/train.cache... 1359 images, 0 backgrounds, 0 corrupt: 100%|██████████| 1359/1359 [00:00<?, ?it/s]\n",
            "\u001b[34m\u001b[1mtrain: \u001b[0mWARNING ⚠️ /content/gdrive/MyDrive/Colab Notebooks/assignment 3/datasets/data/images/train/pic_722.jpg: corrupt JPEG restored and saved\n",
            "Plotting labels to runs/detect/train/labels.jpg... \n",
            "\u001b[34m\u001b[1moptimizer:\u001b[0m 'optimizer=auto' found, ignoring 'lr0=0.01' and 'momentum=0.937' and determining best 'optimizer', 'lr0' and 'momentum' automatically... \n",
            "\u001b[34m\u001b[1moptimizer:\u001b[0m AdamW(lr=0.002, momentum=0.9) with parameter groups 57 weight(decay=0.0), 64 weight(decay=0.0005), 63 bias(decay=0.0)\n",
            "Image sizes 640 train, 640 val\n",
            "Using 2 dataloader workers\n",
            "Logging results to \u001b[1mruns/detect/train\u001b[0m\n",
            "Starting training for 100 epochs...\n",
            "\n",
            "      Epoch    GPU_mem   box_loss   cls_loss   dfl_loss  Instances       Size\n",
            "      1/100      2.26G       3.15      3.442      4.024         38        640: 100%|██████████| 85/85 [01:03<00:00,  1.34it/s]\n",
            "                 Class     Images  Instances      Box(P          R      mAP50  mAP50-95): 100%|██████████| 43/43 [00:35<00:00,  1.20it/s]\n",
            "                   all       1359       1486    0.00309      0.699     0.0141    0.00359\n",
            "\n",
            "      Epoch    GPU_mem   box_loss   cls_loss   dfl_loss  Instances       Size\n",
            "      2/100      2.31G      2.744      2.981       3.33         48        640: 100%|██████████| 85/85 [00:49<00:00,  1.72it/s]\n",
            "                 Class     Images  Instances      Box(P          R      mAP50  mAP50-95): 100%|██████████| 43/43 [00:32<00:00,  1.30it/s]\n",
            "                   all       1359       1486     0.0324      0.215     0.0311    0.00967\n",
            "\n",
            "      Epoch    GPU_mem   box_loss   cls_loss   dfl_loss  Instances       Size\n",
            "      3/100      2.26G      2.483      2.694       3.07         33        640: 100%|██████████| 85/85 [00:48<00:00,  1.76it/s]\n",
            "                 Class     Images  Instances      Box(P          R      mAP50  mAP50-95): 100%|██████████| 43/43 [00:32<00:00,  1.32it/s]\n",
            "                   all       1359       1486      0.255      0.359      0.184     0.0605\n",
            "\n",
            "      Epoch    GPU_mem   box_loss   cls_loss   dfl_loss  Instances       Size\n",
            "      4/100      2.26G      2.228      2.484      2.828         33        640: 100%|██████████| 85/85 [00:46<00:00,  1.81it/s]\n",
            "                 Class     Images  Instances      Box(P          R      mAP50  mAP50-95): 100%|██████████| 43/43 [00:29<00:00,  1.45it/s]\n",
            "                   all       1359       1486      0.391      0.395      0.303     0.0994\n",
            "\n",
            "      Epoch    GPU_mem   box_loss   cls_loss   dfl_loss  Instances       Size\n",
            "      5/100      2.26G      2.092      2.344      2.679         45        640: 100%|██████████| 85/85 [00:45<00:00,  1.88it/s]\n",
            "                 Class     Images  Instances      Box(P          R      mAP50  mAP50-95): 100%|██████████| 43/43 [00:30<00:00,  1.39it/s]\n",
            "                   all       1359       1486       0.38      0.422       0.35      0.138\n",
            "\n",
            "      Epoch    GPU_mem   box_loss   cls_loss   dfl_loss  Instances       Size\n",
            "      6/100      2.26G      1.974      2.218      2.535         41        640: 100%|██████████| 85/85 [00:47<00:00,  1.79it/s]\n",
            "                 Class     Images  Instances      Box(P          R      mAP50  mAP50-95): 100%|██████████| 43/43 [00:32<00:00,  1.32it/s]\n",
            "                   all       1359       1486      0.569      0.497      0.508      0.219\n",
            "\n",
            "      Epoch    GPU_mem   box_loss   cls_loss   dfl_loss  Instances       Size\n",
            "      7/100      2.26G      1.898      2.092      2.439         48        640: 100%|██████████| 85/85 [00:46<00:00,  1.81it/s]\n",
            "                 Class     Images  Instances      Box(P          R      mAP50  mAP50-95): 100%|██████████| 43/43 [00:31<00:00,  1.35it/s]\n",
            "                   all       1359       1486      0.544      0.475       0.45      0.175\n",
            "\n",
            "      Epoch    GPU_mem   box_loss   cls_loss   dfl_loss  Instances       Size\n",
            "      8/100      2.26G      1.863      1.964      2.376         49        640: 100%|██████████| 85/85 [00:45<00:00,  1.87it/s]\n",
            "                 Class     Images  Instances      Box(P          R      mAP50  mAP50-95): 100%|██████████| 43/43 [00:32<00:00,  1.34it/s]\n",
            "                   all       1359       1486      0.512      0.485      0.484      0.223\n",
            "\n",
            "      Epoch    GPU_mem   box_loss   cls_loss   dfl_loss  Instances       Size\n",
            "      9/100      2.26G       1.78      1.855      2.257         32        640: 100%|██████████| 85/85 [00:46<00:00,  1.82it/s]\n",
            "                 Class     Images  Instances      Box(P          R      mAP50  mAP50-95): 100%|██████████| 43/43 [00:32<00:00,  1.32it/s]\n",
            "                   all       1359       1486      0.636      0.522      0.582       0.27\n",
            "\n",
            "      Epoch    GPU_mem   box_loss   cls_loss   dfl_loss  Instances       Size\n",
            "     10/100      2.26G      1.759      1.883      2.255         43        640: 100%|██████████| 85/85 [00:45<00:00,  1.85it/s]\n",
            "                 Class     Images  Instances      Box(P          R      mAP50  mAP50-95): 100%|██████████| 43/43 [00:32<00:00,  1.32it/s]\n",
            "                   all       1359       1486       0.73      0.579      0.673      0.328\n",
            "\n",
            "      Epoch    GPU_mem   box_loss   cls_loss   dfl_loss  Instances       Size\n",
            "     11/100      2.27G      1.703      1.788      2.184         37        640: 100%|██████████| 85/85 [00:47<00:00,  1.79it/s]\n",
            "                 Class     Images  Instances      Box(P          R      mAP50  mAP50-95): 100%|██████████| 43/43 [00:32<00:00,  1.33it/s]\n",
            "                   all       1359       1486      0.664      0.581      0.621      0.321\n",
            "\n",
            "      Epoch    GPU_mem   box_loss   cls_loss   dfl_loss  Instances       Size\n",
            "     12/100      2.26G      1.683      1.705      2.147         36        640: 100%|██████████| 85/85 [00:47<00:00,  1.79it/s]\n",
            "                 Class     Images  Instances      Box(P          R      mAP50  mAP50-95): 100%|██████████| 43/43 [00:33<00:00,  1.29it/s]\n",
            "                   all       1359       1486      0.766      0.631      0.725      0.381\n",
            "\n",
            "      Epoch    GPU_mem   box_loss   cls_loss   dfl_loss  Instances       Size\n",
            "     13/100      2.26G      1.657      1.664      2.099         40        640: 100%|██████████| 85/85 [00:47<00:00,  1.77it/s]\n",
            "                 Class     Images  Instances      Box(P          R      mAP50  mAP50-95): 100%|██████████| 43/43 [00:31<00:00,  1.37it/s]\n",
            "                   all       1359       1486      0.761       0.62      0.726      0.399\n",
            "\n",
            "      Epoch    GPU_mem   box_loss   cls_loss   dfl_loss  Instances       Size\n",
            "     14/100      2.26G      1.629      1.609      2.077         43        640: 100%|██████████| 85/85 [00:47<00:00,  1.78it/s]\n",
            "                 Class     Images  Instances      Box(P          R      mAP50  mAP50-95): 100%|██████████| 43/43 [00:31<00:00,  1.36it/s]\n",
            "                   all       1359       1486      0.736      0.581      0.707      0.377\n",
            "\n",
            "      Epoch    GPU_mem   box_loss   cls_loss   dfl_loss  Instances       Size\n",
            "     15/100      2.26G      1.614      1.615      2.057         39        640: 100%|██████████| 85/85 [00:48<00:00,  1.75it/s]\n",
            "                 Class     Images  Instances      Box(P          R      mAP50  mAP50-95): 100%|██████████| 43/43 [00:32<00:00,  1.31it/s]\n",
            "                   all       1359       1486      0.831       0.67      0.767      0.404\n",
            "\n",
            "      Epoch    GPU_mem   box_loss   cls_loss   dfl_loss  Instances       Size\n",
            "     16/100      2.26G      1.592      1.568      2.016         38        640: 100%|██████████| 85/85 [00:47<00:00,  1.80it/s]\n",
            "                 Class     Images  Instances      Box(P          R      mAP50  mAP50-95): 100%|██████████| 43/43 [00:32<00:00,  1.33it/s]\n",
            "                   all       1359       1486      0.791      0.679      0.779      0.403\n",
            "\n",
            "      Epoch    GPU_mem   box_loss   cls_loss   dfl_loss  Instances       Size\n",
            "     17/100      2.26G      1.555      1.551      2.005         43        640: 100%|██████████| 85/85 [00:47<00:00,  1.78it/s]\n",
            "                 Class     Images  Instances      Box(P          R      mAP50  mAP50-95): 100%|██████████| 43/43 [00:32<00:00,  1.33it/s]\n",
            "                   all       1359       1486      0.611      0.522      0.562      0.243\n",
            "\n",
            "      Epoch    GPU_mem   box_loss   cls_loss   dfl_loss  Instances       Size\n",
            "     18/100      2.25G      1.575      1.502      1.985         37        640: 100%|██████████| 85/85 [00:47<00:00,  1.80it/s]\n",
            "                 Class     Images  Instances      Box(P          R      mAP50  mAP50-95): 100%|██████████| 43/43 [00:32<00:00,  1.32it/s]\n",
            "                   all       1359       1486      0.798      0.705      0.796      0.401\n",
            "\n",
            "      Epoch    GPU_mem   box_loss   cls_loss   dfl_loss  Instances       Size\n",
            "     19/100      2.26G      1.532      1.492      1.971         44        640: 100%|██████████| 85/85 [00:46<00:00,  1.82it/s]\n",
            "                 Class     Images  Instances      Box(P          R      mAP50  mAP50-95): 100%|██████████| 43/43 [00:33<00:00,  1.30it/s]\n",
            "                   all       1359       1486      0.819      0.725      0.829      0.452\n",
            "\n",
            "      Epoch    GPU_mem   box_loss   cls_loss   dfl_loss  Instances       Size\n",
            "     20/100      2.27G       1.53      1.478      1.956         39        640: 100%|██████████| 85/85 [00:49<00:00,  1.72it/s]\n",
            "                 Class     Images  Instances      Box(P          R      mAP50  mAP50-95): 100%|██████████| 43/43 [00:32<00:00,  1.32it/s]\n",
            "                   all       1359       1486      0.824      0.746      0.836      0.464\n",
            "\n",
            "      Epoch    GPU_mem   box_loss   cls_loss   dfl_loss  Instances       Size\n",
            "     21/100      2.25G      1.529      1.426      1.962         36        640: 100%|██████████| 85/85 [00:48<00:00,  1.77it/s]\n",
            "                 Class     Images  Instances      Box(P          R      mAP50  mAP50-95): 100%|██████████| 43/43 [00:33<00:00,  1.28it/s]\n",
            "                   all       1359       1486       0.82       0.74      0.835       0.48\n",
            "\n",
            "      Epoch    GPU_mem   box_loss   cls_loss   dfl_loss  Instances       Size\n",
            "     22/100      2.26G      1.514       1.45      1.948         38        640: 100%|██████████| 85/85 [00:47<00:00,  1.77it/s]\n",
            "                 Class     Images  Instances      Box(P          R      mAP50  mAP50-95): 100%|██████████| 43/43 [00:33<00:00,  1.29it/s]\n",
            "                   all       1359       1486      0.856      0.754      0.864      0.508\n",
            "\n",
            "      Epoch    GPU_mem   box_loss   cls_loss   dfl_loss  Instances       Size\n",
            "     23/100      2.25G      1.462      1.408      1.902         39        640: 100%|██████████| 85/85 [00:48<00:00,  1.76it/s]\n",
            "                 Class     Images  Instances      Box(P          R      mAP50  mAP50-95): 100%|██████████| 43/43 [00:33<00:00,  1.27it/s]\n",
            "                   all       1359       1486      0.821      0.737      0.838      0.475\n",
            "\n",
            "      Epoch    GPU_mem   box_loss   cls_loss   dfl_loss  Instances       Size\n",
            "     24/100      2.28G      1.481      1.351      1.905         42        640: 100%|██████████| 85/85 [00:47<00:00,  1.77it/s]\n",
            "                 Class     Images  Instances      Box(P          R      mAP50  mAP50-95): 100%|██████████| 43/43 [00:33<00:00,  1.27it/s]\n",
            "                   all       1359       1486      0.846      0.752      0.852      0.513\n",
            "\n",
            "      Epoch    GPU_mem   box_loss   cls_loss   dfl_loss  Instances       Size\n",
            "     25/100      2.26G      1.441      1.334      1.863         36        640: 100%|██████████| 85/85 [00:48<00:00,  1.77it/s]\n",
            "                 Class     Images  Instances      Box(P          R      mAP50  mAP50-95): 100%|██████████| 43/43 [00:31<00:00,  1.37it/s]\n",
            "                   all       1359       1486      0.883      0.765      0.885      0.529\n",
            "\n",
            "      Epoch    GPU_mem   box_loss   cls_loss   dfl_loss  Instances       Size\n",
            "     26/100      2.25G      1.436      1.333      1.861         39        640: 100%|██████████| 85/85 [00:48<00:00,  1.76it/s]\n",
            "                 Class     Images  Instances      Box(P          R      mAP50  mAP50-95): 100%|██████████| 43/43 [00:32<00:00,  1.33it/s]\n",
            "                   all       1359       1486       0.88      0.783      0.875      0.544\n",
            "\n",
            "      Epoch    GPU_mem   box_loss   cls_loss   dfl_loss  Instances       Size\n",
            "     27/100      2.25G      1.446      1.284      1.856         46        640:  60%|██████    | 51/85 [00:28<00:13,  2.45it/s]"
          ]
        }
      ]
    },
    {
      "cell_type": "code",
      "source": [
        "!scp -r /content/runs '/content/gdrive/MyDrive/Colab Notebooks/assignment 3/output'"
      ],
      "metadata": {
        "id": "hkAB6LxJDAjv"
      },
      "execution_count": null,
      "outputs": []
    },
    {
      "cell_type": "markdown",
      "source": [
        "## Predict the given videos"
      ],
      "metadata": {
        "id": "OsgCRIDX7X69"
      }
    },
    {
      "cell_type": "markdown",
      "source": [
        "### Drone Tracking Video 1\n"
      ],
      "metadata": {
        "id": "5XgmvtELFKQC"
      }
    },
    {
      "cell_type": "code",
      "source": [
        "VIDEOS_DIR = os.path.join('.', 'drone_videos', 'videos')\n",
        "\n",
        "video_path = os.path.join(VIDEOS_DIR, 'Drone Tracking 1.mp4')\n",
        "video_path_out = '{}_out.mp4'.format(video_path)\n",
        "\n",
        "cap = cv2.VideoCapture(video_path)\n",
        "ret, frame = cap.read()\n",
        "H, W, _ = frame.shape\n",
        "out = cv2.VideoWriter(video_path_out, cv2.VideoWriter_fourcc(*'MP4V'), int(cap.get(cv2.CAP_PROP_FPS)), (W, H))\n",
        "\n",
        "model_path = os.path.join('.', 'runs', 'detect', 'train', 'weights', 'last.pt')\n",
        "\n",
        "# Load a model\n",
        "model = YOLO(model_path)  # load a custom model\n",
        "\n",
        "threshold = 0.5\n",
        "\n",
        "while ret:\n",
        "\n",
        "    results = model(frame)[0]\n",
        "\n",
        "    for result in results.boxes.data.tolist():\n",
        "        x1, y1, x2, y2, score, class_id = result\n",
        "\n",
        "        if score > threshold:\n",
        "            cv2.rectangle(frame, (int(x1), int(y1)), (int(x2), int(y2)), (0, 255, 0), 4)\n",
        "            cv2.putText(frame, results.names[int(class_id)].upper(), (int(x1), int(y1 - 10)),\n",
        "                        cv2.FONT_HERSHEY_SIMPLEX, 1.3, (0, 255, 0), 3, cv2.LINE_AA)\n",
        "\n",
        "    out.write(frame)\n",
        "    ret, frame = cap.read()\n",
        "\n",
        "cap.release()\n",
        "out.release()\n",
        "cv2.destroyAllWindows()"
      ],
      "metadata": {
        "id": "NjgQPDBm633O"
      },
      "execution_count": null,
      "outputs": []
    },
    {
      "cell_type": "code",
      "source": [],
      "metadata": {
        "id": "EsbdV-EpSkJT"
      },
      "execution_count": null,
      "outputs": []
    },
    {
      "cell_type": "markdown",
      "source": [
        "### Drone Tracking Video 2"
      ],
      "metadata": {
        "id": "9rlCTJQEFfyE"
      }
    },
    {
      "cell_type": "code",
      "source": [
        "VIDEOS_DIR = os.path.join('.', 'drone_videos/videos')\n",
        "\n",
        "video_path = os.path.join(VIDEOS_DIR, 'Drone Tracking 2.mp4')\n",
        "video_path_out = '{}_out.mp4'.format(video_path)\n",
        "\n",
        "cap = cv2.VideoCapture(video_path)\n",
        "ret, frame = cap.read()\n",
        "H, W, _ = frame.shape\n",
        "out = cv2.VideoWriter(video_path_out, cv2.VideoWriter_fourcc(*'MP4V'), int(cap.get(cv2.CAP_PROP_FPS)), (W, H))\n",
        "\n",
        "model_path = os.path.join('.', 'runs', 'detect', 'train', 'weights', 'last.pt')\n",
        "\n",
        "# Load a model\n",
        "model = YOLO(model_path)  # load a custom model\n",
        "\n",
        "threshold = 0.5\n",
        "\n",
        "while ret:\n",
        "\n",
        "    results = model(frame)[0]\n",
        "\n",
        "    for result in results.boxes.data.tolist():\n",
        "        x1, y1, x2, y2, score, class_id = result\n",
        "\n",
        "        if score > threshold:\n",
        "            cv2.rectangle(frame, (int(x1), int(y1)), (int(x2), int(y2)), (0, 255, 0), 4)\n",
        "            cv2.putText(frame, results.names[int(class_id)].upper(), (int(x1), int(y1 - 10)),\n",
        "                        cv2.FONT_HERSHEY_SIMPLEX, 1.3, (0, 255, 0), 3, cv2.LINE_AA)\n",
        "\n",
        "    out.write(frame)\n",
        "    ret, frame = cap.read()\n",
        "\n",
        "cap.release()\n",
        "out.release()\n",
        "cv2.destroyAllWindows()"
      ],
      "metadata": {
        "id": "KgE77_ZpFZiF"
      },
      "execution_count": null,
      "outputs": []
    },
    {
      "cell_type": "markdown",
      "metadata": {
        "id": "t0iP4NWY2dNV"
      },
      "source": [
        "## Download dataset"
      ]
    },
    {
      "cell_type": "code",
      "execution_count": null,
      "metadata": {
        "id": "z_ET-zcp2dNV",
        "outputId": "dc13f45c-2803-4c3b-b62f-cf0f1bdbb572"
      },
      "outputs": [
        {
          "name": "stdout",
          "output_type": "stream",
          "text": [
            "Defaulting to user installation because normal site-packages is not writeable\n",
            "Collecting patool\n",
            "  Downloading patool-1.15.0-py2.py3-none-any.whl (91 kB)\n",
            "\u001b[K     |████████████████████████████████| 91 kB 4.5 MB/s eta 0:00:01\n",
            "\u001b[?25hInstalling collected packages: patool\n",
            "Successfully installed patool-1.15.0\n",
            "\u001b[33mWARNING: You are using pip version 21.2.4; however, version 23.3.1 is available.\n",
            "You should consider upgrading via the '/Library/Developer/CommandLineTools/usr/bin/python3 -m pip install --upgrade pip' command.\u001b[0m\n",
            "Note: you may need to restart the kernel to use updated packages.\n"
          ]
        }
      ],
      "source": [
        "%pip install patool"
      ]
    },
    {
      "cell_type": "code",
      "execution_count": null,
      "metadata": {
        "id": "lutPHHEg2dNV"
      },
      "outputs": [],
      "source": [
        "import patoolib\n",
        "\n",
        "# Replace 'your_file.rar' with the actual name of your RAR file\n",
        "rar_file = './datasets/dataset_xml_format.rar'\n",
        "\n",
        "# Extract the contents\n",
        "patoolib.extract_archive(rar_file, outdir='output_directory')\n"
      ]
    },
    {
      "cell_type": "code",
      "execution_count": null,
      "metadata": {
        "id": "NJdv9HXw2dNW",
        "outputId": "a38ca58a-0fa4-47f1-c904-8c12a43763ab"
      },
      "outputs": [
        {
          "name": "stderr",
          "output_type": "stream",
          "text": [
            "Ultralytics YOLOv8.0.208 🚀 Python-3.9.6 torch-2.1.0 CPU (Apple M2 Pro)\n",
            "Setup complete ✅ (10 CPUs, 16.0 GB RAM, 184.5/460.4 GB disk)\n"
          ]
        }
      ],
      "source": [
        "# Pip install method (recommended)\n",
        "%pip install ultralytics\n",
        "import ultralytics\n",
        "ultralytics.checks()"
      ]
    },
    {
      "cell_type": "code",
      "execution_count": null,
      "metadata": {
        "id": "nkTaGCge2dNW",
        "outputId": "1517d4f8-f011-41ce-d8e2-c9077f2d193c"
      },
      "outputs": [
        {
          "ename": "DistutilsFileError",
          "evalue": "cannot copy tree '/kaggle/input/yolo-drone-detection-dataset': not a directory",
          "output_type": "error",
          "traceback": [
            "\u001b[0;31m---------------------------------------------------------------------------\u001b[0m",
            "\u001b[0;31mDistutilsFileError\u001b[0m                        Traceback (most recent call last)",
            "\u001b[1;32m/Users/banani/Documents/NYU/Semesters/Fall 2023/AI/Assignments/Assignment 3/CSGY_6613_Assignment_3_bg2502.ipynb Cell 8\u001b[0m line \u001b[0;36m7\n\u001b[1;32m      <a href='vscode-notebook-cell:/Users/banani/Documents/NYU/Semesters/Fall%202023/AI/Assignments/Assignment%203/CSGY_6613_Assignment_3_bg2502.ipynb#X15sZmlsZQ%3D%3D?line=3'>4</a>\u001b[0m fromDir \u001b[39m=\u001b[39m \u001b[39m\"\u001b[39m\u001b[39m/kaggle/input/yolo-drone-detection-dataset\u001b[39m\u001b[39m\"\u001b[39m\n\u001b[1;32m      <a href='vscode-notebook-cell:/Users/banani/Documents/NYU/Semesters/Fall%202023/AI/Assignments/Assignment%203/CSGY_6613_Assignment_3_bg2502.ipynb#X15sZmlsZQ%3D%3D?line=4'>5</a>\u001b[0m toDir \u001b[39m=\u001b[39m \u001b[39m\"\u001b[39m\u001b[39mtemp\u001b[39m\u001b[39m\"\u001b[39m\n\u001b[0;32m----> <a href='vscode-notebook-cell:/Users/banani/Documents/NYU/Semesters/Fall%202023/AI/Assignments/Assignment%203/CSGY_6613_Assignment_3_bg2502.ipynb#X15sZmlsZQ%3D%3D?line=6'>7</a>\u001b[0m copy_tree(fromDir,toDir)\n",
            "File \u001b[0;32m/Library/Developer/CommandLineTools/Library/Frameworks/Python3.framework/Versions/3.9/lib/python3.9/distutils/dir_util.py:123\u001b[0m, in \u001b[0;36mcopy_tree\u001b[0;34m(src, dst, preserve_mode, preserve_times, preserve_symlinks, update, verbose, dry_run)\u001b[0m\n\u001b[1;32m    120\u001b[0m \u001b[39mfrom\u001b[39;00m \u001b[39mdistutils\u001b[39;00m\u001b[39m.\u001b[39;00m\u001b[39mfile_util\u001b[39;00m \u001b[39mimport\u001b[39;00m copy_file\n\u001b[1;32m    122\u001b[0m \u001b[39mif\u001b[39;00m \u001b[39mnot\u001b[39;00m dry_run \u001b[39mand\u001b[39;00m \u001b[39mnot\u001b[39;00m os\u001b[39m.\u001b[39mpath\u001b[39m.\u001b[39misdir(src):\n\u001b[0;32m--> 123\u001b[0m     \u001b[39mraise\u001b[39;00m DistutilsFileError(\n\u001b[1;32m    124\u001b[0m           \u001b[39m\"\u001b[39m\u001b[39mcannot copy tree \u001b[39m\u001b[39m'\u001b[39m\u001b[39m%s\u001b[39;00m\u001b[39m'\u001b[39m\u001b[39m: not a directory\u001b[39m\u001b[39m\"\u001b[39m \u001b[39m%\u001b[39m src)\n\u001b[1;32m    125\u001b[0m \u001b[39mtry\u001b[39;00m:\n\u001b[1;32m    126\u001b[0m     names \u001b[39m=\u001b[39m os\u001b[39m.\u001b[39mlistdir(src)\n",
            "\u001b[0;31mDistutilsFileError\u001b[0m: cannot copy tree '/kaggle/input/yolo-drone-detection-dataset': not a directory"
          ]
        }
      ],
      "source": [
        "import os\n",
        "from distutils.dir_util import copy_tree\n",
        "\n",
        "fromDir = \"/kaggle/input/yolo-drone-detection-dataset\"\n",
        "toDir = \"temp\"\n",
        "\n",
        "copy_tree(fromDir,toDir)"
      ]
    },
    {
      "cell_type": "markdown",
      "metadata": {
        "id": "GXLiBGYH2dNW"
      },
      "source": [
        "## Setup Env"
      ]
    },
    {
      "cell_type": "code",
      "execution_count": null,
      "metadata": {
        "id": "-uxArZd62dNW",
        "outputId": "7e2436b9-1778-4ba3-89bf-e4c2d4879972"
      },
      "outputs": [
        {
          "name": "stdout",
          "output_type": "stream",
          "text": [
            "\u001b[33m  WARNING: Value for prefixed-purelib does not match. Please report this to <https://github.com/pypa/pip/issues/10151>\n",
            "  distutils: /private/var/folders/xy/1x8f1vlx569_ch145p3563j80000gn/T/pip-build-env-ij4al_ca/normal/lib/python3.9/site-packages\n",
            "  sysconfig: /Library/Python/3.9/site-packages\u001b[0m\n",
            "\u001b[33m  WARNING: Value for prefixed-platlib does not match. Please report this to <https://github.com/pypa/pip/issues/10151>\n",
            "  distutils: /private/var/folders/xy/1x8f1vlx569_ch145p3563j80000gn/T/pip-build-env-ij4al_ca/normal/lib/python3.9/site-packages\n",
            "  sysconfig: /Library/Python/3.9/site-packages\u001b[0m\n",
            "\u001b[33m  WARNING: Additional context:\n",
            "  user = False\n",
            "  home = None\n",
            "  root = None\n",
            "  prefix = '/private/var/folders/xy/1x8f1vlx569_ch145p3563j80000gn/T/pip-build-env-ij4al_ca/normal'\u001b[0m\n",
            "\u001b[33m  WARNING: Value for prefixed-purelib does not match. Please report this to <https://github.com/pypa/pip/issues/10151>\n",
            "  distutils: /private/var/folders/xy/1x8f1vlx569_ch145p3563j80000gn/T/pip-build-env-ij4al_ca/overlay/lib/python3.9/site-packages\n",
            "  sysconfig: /Library/Python/3.9/site-packages\u001b[0m\n",
            "\u001b[33m  WARNING: Value for prefixed-platlib does not match. Please report this to <https://github.com/pypa/pip/issues/10151>\n",
            "  distutils: /private/var/folders/xy/1x8f1vlx569_ch145p3563j80000gn/T/pip-build-env-ij4al_ca/overlay/lib/python3.9/site-packages\n",
            "  sysconfig: /Library/Python/3.9/site-packages\u001b[0m\n",
            "\u001b[33m  WARNING: Additional context:\n",
            "  user = False\n",
            "  home = None\n",
            "  root = None\n",
            "  prefix = '/private/var/folders/xy/1x8f1vlx569_ch145p3563j80000gn/T/pip-build-env-ij4al_ca/overlay'\u001b[0m\n",
            "\u001b[33mWARNING: You are using pip version 21.2.4; however, version 23.3.1 is available.\n",
            "You should consider upgrading via the '/Library/Developer/CommandLineTools/usr/bin/python3 -m pip install --upgrade pip' command.\u001b[0m\n"
          ]
        }
      ],
      "source": [
        "!pip3 install --upgrade git+https://github.com/keras-team/keras-cv -q"
      ]
    },
    {
      "cell_type": "code",
      "execution_count": null,
      "metadata": {
        "id": "jxWa3cSR2dNX",
        "outputId": "d8c14986-0008-41dc-cf85-5787c553c979"
      },
      "outputs": [
        {
          "name": "stderr",
          "output_type": "stream",
          "text": [
            "/Users/banani/Library/Python/3.9/lib/python/site-packages/tqdm/auto.py:21: TqdmWarning: IProgress not found. Please update jupyter and ipywidgets. See https://ipywidgets.readthedocs.io/en/stable/user_install.html\n",
            "  from .autonotebook import tqdm as notebook_tqdm\n"
          ]
        },
        {
          "name": "stdout",
          "output_type": "stream",
          "text": [
            "Using TensorFlow backend\n"
          ]
        }
      ],
      "source": [
        "import os\n",
        "from tqdm.auto import tqdm\n",
        "import xml.etree.ElementTree as ET\n",
        "\n",
        "import tensorflow as tf\n",
        "from tensorflow import keras\n",
        "\n",
        "import keras_cv\n",
        "from keras_cv import bounding_box\n",
        "from keras_cv import visualization"
      ]
    },
    {
      "cell_type": "code",
      "execution_count": null,
      "metadata": {
        "id": "UOVwC7XA2dNX",
        "outputId": "45550506-03a8-4f58-d74a-1964a5792591"
      },
      "outputs": [
        {
          "ename": "FileNotFoundError",
          "evalue": "[Errno 2] No such file or directory: '/kaggle/input/dataset/data/annotations/'",
          "output_type": "error",
          "traceback": [
            "\u001b[0;31m---------------------------------------------------------------------------\u001b[0m",
            "\u001b[0;31mFileNotFoundError\u001b[0m                         Traceback (most recent call last)",
            "\u001b[1;32m/Users/banani/Documents/NYU/Semesters/Fall 2023/AI/Assignments/Assignment 3/CSGY_6613_Assignment_3_bg2502.ipynb Cell 9\u001b[0m line \u001b[0;36m1\n\u001b[1;32m     <a href='vscode-notebook-cell:/Users/banani/Documents/NYU/Semesters/Fall%202023/AI/Assignments/Assignment%203/CSGY_6613_Assignment_3_bg2502.ipynb#X13sZmlsZQ%3D%3D?line=11'>12</a>\u001b[0m path_annot \u001b[39m=\u001b[39m \u001b[39m\"\u001b[39m\u001b[39m/kaggle/input/dataset/data/annotations/\u001b[39m\u001b[39m\"\u001b[39m\n\u001b[1;32m     <a href='vscode-notebook-cell:/Users/banani/Documents/NYU/Semesters/Fall%202023/AI/Assignments/Assignment%203/CSGY_6613_Assignment_3_bg2502.ipynb#X13sZmlsZQ%3D%3D?line=13'>14</a>\u001b[0m \u001b[39m# Get all XML file paths in path_annot and sort them\u001b[39;00m\n\u001b[1;32m     <a href='vscode-notebook-cell:/Users/banani/Documents/NYU/Semesters/Fall%202023/AI/Assignments/Assignment%203/CSGY_6613_Assignment_3_bg2502.ipynb#X13sZmlsZQ%3D%3D?line=14'>15</a>\u001b[0m xml_files \u001b[39m=\u001b[39m \u001b[39msorted\u001b[39m(\n\u001b[1;32m     <a href='vscode-notebook-cell:/Users/banani/Documents/NYU/Semesters/Fall%202023/AI/Assignments/Assignment%203/CSGY_6613_Assignment_3_bg2502.ipynb#X13sZmlsZQ%3D%3D?line=15'>16</a>\u001b[0m     [\n\u001b[1;32m     <a href='vscode-notebook-cell:/Users/banani/Documents/NYU/Semesters/Fall%202023/AI/Assignments/Assignment%203/CSGY_6613_Assignment_3_bg2502.ipynb#X13sZmlsZQ%3D%3D?line=16'>17</a>\u001b[0m         os\u001b[39m.\u001b[39mpath\u001b[39m.\u001b[39mjoin(path_annot, file_name)\n\u001b[0;32m---> <a href='vscode-notebook-cell:/Users/banani/Documents/NYU/Semesters/Fall%202023/AI/Assignments/Assignment%203/CSGY_6613_Assignment_3_bg2502.ipynb#X13sZmlsZQ%3D%3D?line=17'>18</a>\u001b[0m         \u001b[39mfor\u001b[39;00m file_name \u001b[39min\u001b[39;00m os\u001b[39m.\u001b[39;49mlistdir(path_annot)\n\u001b[1;32m     <a href='vscode-notebook-cell:/Users/banani/Documents/NYU/Semesters/Fall%202023/AI/Assignments/Assignment%203/CSGY_6613_Assignment_3_bg2502.ipynb#X13sZmlsZQ%3D%3D?line=18'>19</a>\u001b[0m         \u001b[39mif\u001b[39;00m file_name\u001b[39m.\u001b[39mendswith(\u001b[39m\"\u001b[39m\u001b[39m.xml\u001b[39m\u001b[39m\"\u001b[39m)\n\u001b[1;32m     <a href='vscode-notebook-cell:/Users/banani/Documents/NYU/Semesters/Fall%202023/AI/Assignments/Assignment%203/CSGY_6613_Assignment_3_bg2502.ipynb#X13sZmlsZQ%3D%3D?line=19'>20</a>\u001b[0m     ]\n\u001b[1;32m     <a href='vscode-notebook-cell:/Users/banani/Documents/NYU/Semesters/Fall%202023/AI/Assignments/Assignment%203/CSGY_6613_Assignment_3_bg2502.ipynb#X13sZmlsZQ%3D%3D?line=20'>21</a>\u001b[0m )\n\u001b[1;32m     <a href='vscode-notebook-cell:/Users/banani/Documents/NYU/Semesters/Fall%202023/AI/Assignments/Assignment%203/CSGY_6613_Assignment_3_bg2502.ipynb#X13sZmlsZQ%3D%3D?line=22'>23</a>\u001b[0m \u001b[39m# Get all JPEG image file paths in path_images and sort them\u001b[39;00m\n\u001b[1;32m     <a href='vscode-notebook-cell:/Users/banani/Documents/NYU/Semesters/Fall%202023/AI/Assignments/Assignment%203/CSGY_6613_Assignment_3_bg2502.ipynb#X13sZmlsZQ%3D%3D?line=23'>24</a>\u001b[0m jpg_files \u001b[39m=\u001b[39m \u001b[39msorted\u001b[39m(\n\u001b[1;32m     <a href='vscode-notebook-cell:/Users/banani/Documents/NYU/Semesters/Fall%202023/AI/Assignments/Assignment%203/CSGY_6613_Assignment_3_bg2502.ipynb#X13sZmlsZQ%3D%3D?line=24'>25</a>\u001b[0m     [\n\u001b[1;32m     <a href='vscode-notebook-cell:/Users/banani/Documents/NYU/Semesters/Fall%202023/AI/Assignments/Assignment%203/CSGY_6613_Assignment_3_bg2502.ipynb#X13sZmlsZQ%3D%3D?line=25'>26</a>\u001b[0m         os\u001b[39m.\u001b[39mpath\u001b[39m.\u001b[39mjoin(path_images, file_name)\n\u001b[0;32m   (...)\u001b[0m\n\u001b[1;32m     <a href='vscode-notebook-cell:/Users/banani/Documents/NYU/Semesters/Fall%202023/AI/Assignments/Assignment%203/CSGY_6613_Assignment_3_bg2502.ipynb#X13sZmlsZQ%3D%3D?line=28'>29</a>\u001b[0m     ]\n\u001b[1;32m     <a href='vscode-notebook-cell:/Users/banani/Documents/NYU/Semesters/Fall%202023/AI/Assignments/Assignment%203/CSGY_6613_Assignment_3_bg2502.ipynb#X13sZmlsZQ%3D%3D?line=29'>30</a>\u001b[0m )\n",
            "\u001b[0;31mFileNotFoundError\u001b[0m: [Errno 2] No such file or directory: '/kaggle/input/dataset/data/annotations/'"
          ]
        }
      ],
      "source": [
        "class_ids = [\n",
        "    \"drone\",\n",
        "    # \"pedestrian\",\n",
        "    # \"trafficLight\",\n",
        "    # \"biker\",\n",
        "    # \"truck\",\n",
        "]\n",
        "class_mapping = dict(zip(range(len(class_ids)), class_ids))\n",
        "\n",
        "# Path to images and annotations\n",
        "path_images = \"/kaggle/input/dataset/data/images/\"\n",
        "path_annot = \"/kaggle/input/dataset/data/annotations/\"\n",
        "\n",
        "# Get all XML file paths in path_annot and sort them\n",
        "xml_files = sorted(\n",
        "    [\n",
        "        os.path.join(path_annot, file_name)\n",
        "        for file_name in os.listdir(path_annot)\n",
        "        if file_name.endswith(\".xml\")\n",
        "    ]\n",
        ")\n",
        "\n",
        "# Get all JPEG image file paths in path_images and sort them\n",
        "jpg_files = sorted(\n",
        "    [\n",
        "        os.path.join(path_images, file_name)\n",
        "        for file_name in os.listdir(path_images)\n",
        "        if file_name.endswith(\".jpg\")\n",
        "    ]\n",
        ")"
      ]
    },
    {
      "cell_type": "markdown",
      "metadata": {
        "id": "iQfhdV5-dRWW"
      },
      "source": [
        "#"
      ]
    }
  ],
  "metadata": {
    "colab": {
      "provenance": [],
      "gpuType": "T4",
      "include_colab_link": true
    },
    "kernelspec": {
      "display_name": "Python 3",
      "name": "python3"
    },
    "language_info": {
      "codemirror_mode": {
        "name": "ipython",
        "version": 3
      },
      "file_extension": ".py",
      "mimetype": "text/x-python",
      "name": "python",
      "nbconvert_exporter": "python",
      "pygments_lexer": "ipython3",
      "version": "3.9.6"
    },
    "accelerator": "GPU"
  },
  "nbformat": 4,
  "nbformat_minor": 0
}