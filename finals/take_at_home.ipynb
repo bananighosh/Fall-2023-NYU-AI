{
  "cells": [
    {
      "cell_type": "markdown",
      "metadata": {
        "id": "view-in-github",
        "colab_type": "text"
      },
      "source": [
        "<a href=\"https://colab.research.google.com/github/bananighosh/Fall-2023-NYU-AI/blob/main/finals/take_at_home.ipynb\" target=\"_parent\"><img src=\"https://colab.research.google.com/assets/colab-badge.svg\" alt=\"Open In Colab\"/></a>"
      ]
    },
    {
      "cell_type": "markdown",
      "metadata": {
        "id": "P1meZPKDIeez"
      },
      "source": [
        "## PROBLEM SET 1 - TAKE AT HOME (25 POINTS)\n",
        "\n",
        "**You will lose all corresponding points if we can't access the implementation notebook URL or the Github URL. We will NOT message you. Do NOT invite the TAs to your Github repo (option 2 below) EARLIER than the morning of the day of the exam, since invites expire in 7 days.**"
      ]
    },
    {
      "cell_type": "markdown",
      "metadata": {
        "id": "-BA8Wey4Iee2"
      },
      "source": [
        "## Introduction\n",
        "\n",
        "In the last few years, the field of generative modeling has seen a lot of progress. The techniques that have been developed in this field are very useful for other tasks such as semi-supervised learning, representation learning, and reinforcement learning. In this problem statement we attempt to prepare you to understand the basics of a technique that has been very successful in generative modeling: Variational Autoencoders (VAEs). Understanding VAEs is  the key for you to get a head start with more advanced models such as [Stable Diffusion that are all the rage these days](https://clipdrop.co/stable-diffusion-turbo).\n",
        "\n"
      ]
    },
    {
      "cell_type": "markdown",
      "metadata": {
        "id": "3tiYW2vSIee2"
      },
      "source": [
        "## Task 1: Study what VAEs are and how they work (0 points)\n",
        "\n",
        "Consult this [blog post](https://jaan.io/what-is-variational-autoencoder-vae-tutorial/) and its [2D VAE autoencoder implemenation for the MNIST dataset](https://github.com/jaanli/variational-autoencoder).\n",
        "\n",
        "## Task 2: Replicate the VAE for the MNIST dataset (25 points)\n",
        "\n",
        "Implement the VAE model for the MNIST dataset and train it ensuring that you plot the loss curves for the training and validation sets and perform hyperparameter optimization on the size of the latent space as well as on the optimizer parameters. To all points you need to include as comments in the code or as markdown cells what each function in the code is doing. Don't be frugal in your commentary. (15 points)\n",
        "\n",
        "Replicate the figure showing the final latent variable space shown below. Note that you will not produce the animated figure shown below but show only the final latent space $(z_1, z_2)$. (5 points)\n",
        "\n",
        "Show VAE generated images for all digits 0-9 after model training. (5 points)\n",
        "\n",
        "![](latent-variables.gif)"
      ]
    },
    {
      "cell_type": "code",
      "source": [
        "import keras\n",
        "\n",
        "from keras.datasets import mnist"
      ],
      "metadata": {
        "id": "O6jtx3alIkwQ"
      },
      "execution_count": 1,
      "outputs": []
    },
    {
      "cell_type": "code",
      "source": [
        "# Load the data\n",
        "(X_train, y_train) ,  (X_test, y_test) = mnist.load_data()"
      ],
      "metadata": {
        "id": "wO3DyqVJIyzw"
      },
      "execution_count": 3,
      "outputs": []
    },
    {
      "cell_type": "code",
      "source": [
        "print(X_train.shape, y_train.shape, X_test.shape, y_test.shape)"
      ],
      "metadata": {
        "colab": {
          "base_uri": "https://localhost:8080/"
        },
        "id": "mC0Dfzn_I9KB",
        "outputId": "0a47aa8e-a01e-44b4-fb80-2739bb7e8c0c"
      },
      "execution_count": 6,
      "outputs": [
        {
          "output_type": "stream",
          "name": "stdout",
          "text": [
            "(60000, 28, 28) (60000,) (10000, 28, 28) (10000,)\n"
          ]
        }
      ]
    },
    {
      "cell_type": "markdown",
      "metadata": {
        "id": "CrbCnKlFIee3"
      },
      "source": [
        "You have two implementation options: (1) All in one notebook (2) Github repo.\n",
        "\n",
        "### Option 1: All in one Colab notebook\n",
        "\n",
        "You submit a single Colab notebook URL that contains all the code and the outputs. Your notebook should be self-contained and can be launched in Google Colab using a corresponding button at the top of the notebook. See the regression notebook in the course site for an example of such button. You **need to save all outputs in the notebook** so that the TAs can check that your code is working properly.\n",
        "\n",
        "### Option 2: Github repo\n",
        "\n",
        "If you prefer to work without notebooks, with containers or not, you can submit the implementation python scripts and version control your code in a private Github repo. You have to submit the Github URL and clearly document the way to launch the runtime / install requirements.txt and include all required figures in the README.md file.\n",
        "\n",
        "IMPORTANT: Ensure that the github repo remains private. If you submit a public github repo you will be held responsible for violating the honor code."
      ]
    }
  ],
  "metadata": {
    "language_info": {
      "name": "python"
    },
    "colab": {
      "provenance": [],
      "toc_visible": true,
      "include_colab_link": true
    },
    "kernelspec": {
      "name": "python3",
      "display_name": "Python 3"
    }
  },
  "nbformat": 4,
  "nbformat_minor": 0
}