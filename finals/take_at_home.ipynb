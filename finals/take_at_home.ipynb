{
  "cells": [
    {
      "cell_type": "markdown",
      "metadata": {
        "id": "view-in-github",
        "colab_type": "text"
      },
      "source": [
        "<a href=\"https://colab.research.google.com/github/bananighosh/Fall-2023-NYU-AI/blob/main/finals/take_at_home.ipynb\" target=\"_parent\"><img src=\"https://colab.research.google.com/assets/colab-badge.svg\" alt=\"Open In Colab\"/></a>"
      ]
    },
    {
      "cell_type": "markdown",
      "metadata": {
        "id": "P1meZPKDIeez"
      },
      "source": [
        "## PROBLEM SET 1 - TAKE AT HOME (25 POINTS)\n",
        "\n",
        "**You will lose all corresponding points if we can't access the implementation notebook URL or the Github URL. We will NOT message you. Do NOT invite the TAs to your Github repo (option 2 below) EARLIER than the morning of the day of the exam, since invites expire in 7 days.**"
      ]
    },
    {
      "cell_type": "markdown",
      "metadata": {
        "id": "-BA8Wey4Iee2"
      },
      "source": [
        "## Introduction\n",
        "\n",
        "In the last few years, the field of generative modeling has seen a lot of progress. The techniques that have been developed in this field are very useful for other tasks such as semi-supervised learning, representation learning, and reinforcement learning. In this problem statement we attempt to prepare you to understand the basics of a technique that has been very successful in generative modeling: Variational Autoencoders (VAEs). Understanding VAEs is  the key for you to get a head start with more advanced models such as [Stable Diffusion that are all the rage these days](https://clipdrop.co/stable-diffusion-turbo).\n",
        "\n"
      ]
    },
    {
      "cell_type": "markdown",
      "metadata": {
        "id": "3tiYW2vSIee2"
      },
      "source": [
        "## Task 1: Study what VAEs are and how they work (0 points)\n",
        "\n",
        "Consult this [blog post](https://jaan.io/what-is-variational-autoencoder-vae-tutorial/) and its [2D VAE autoencoder implemenation for the MNIST dataset](https://github.com/jaanli/variational-autoencoder).\n",
        "\n",
        "## Task 2: Replicate the VAE for the MNIST dataset (25 points)\n",
        "\n",
        "Implement the VAE model for the MNIST dataset and train it ensuring that you plot the loss curves for the training and validation sets and perform hyperparameter optimization on the size of the latent space as well as on the optimizer parameters. To all points you need to include as comments in the code or as markdown cells what each function in the code is doing. Don't be frugal in your commentary. (15 points)\n",
        "\n",
        "Replicate the figure showing the final latent variable space shown below. Note that you will not produce the animated figure shown below but show only the final latent space $(z_1, z_2)$. (5 points)\n",
        "\n",
        "Show VAE generated images for all digits 0-9 after model training. (5 points)\n",
        "\n",
        "![](latent-variables.gif)"
      ]
    },
    {
      "cell_type": "code",
      "source": [
        "import keras\n",
        "from keras.datasets import mnist\n",
        "from keras.layers import Input, Conv2D, Flatten, Dense, Lambda\n",
        "from keras import backend as K\n",
        "from keras.models import Model\n",
        "\n",
        "import matplotlib.pyplot as plt"
      ],
      "metadata": {
        "id": "O6jtx3alIkwQ"
      },
      "execution_count": 31,
      "outputs": []
    },
    {
      "cell_type": "code",
      "source": [
        "# Load the data\n",
        "(X_train, y_train) ,  (X_test, y_test) = mnist.load_data()"
      ],
      "metadata": {
        "id": "wO3DyqVJIyzw"
      },
      "execution_count": 3,
      "outputs": []
    },
    {
      "cell_type": "code",
      "source": [
        "print(X_train.shape, y_train.shape, X_test.shape, y_test.shape)"
      ],
      "metadata": {
        "colab": {
          "base_uri": "https://localhost:8080/"
        },
        "id": "mC0Dfzn_I9KB",
        "outputId": "0a47aa8e-a01e-44b4-fb80-2739bb7e8c0c"
      },
      "execution_count": 6,
      "outputs": [
        {
          "output_type": "stream",
          "name": "stdout",
          "text": [
            "(60000, 28, 28) (60000,) (10000, 28, 28) (10000,)\n"
          ]
        }
      ]
    },
    {
      "cell_type": "code",
      "source": [
        "X_train = X_train.astype('float32') / 255\n",
        "X_test = X_test.astype('float32') / 255"
      ],
      "metadata": {
        "id": "8ZUHao9jXxTw"
      },
      "execution_count": 7,
      "outputs": []
    },
    {
      "cell_type": "code",
      "source": [
        "img_width = X_train.shape[1]\n",
        "img_height = X_train.shape[2]\n",
        "\n",
        "# As MNIST is grey scale , sp channel is 1\n",
        "num_channels = 1\n",
        "X_train = X_train.reshape(X_train.shape[0], img_height, img_width, num_channels)\n",
        "X_test = X_test.reshape(X_test.shape[0], img_height, img_width, num_channels)\n",
        "input_shape = (img_height, img_width, num_channels)\n",
        "\n",
        "input_shape"
      ],
      "metadata": {
        "colab": {
          "base_uri": "https://localhost:8080/"
        },
        "id": "GwPgGHFyYU3F",
        "outputId": "64ff2cc7-08e4-4655-9583-7869c44cde7d"
      },
      "execution_count": 12,
      "outputs": [
        {
          "output_type": "execute_result",
          "data": {
            "text/plain": [
              "(28, 28, 1)"
            ]
          },
          "metadata": {},
          "execution_count": 12
        }
      ]
    },
    {
      "cell_type": "code",
      "source": [
        "# View few images\n",
        "\n",
        "plt.figure(1)\n",
        "plt.subplot(221)\n",
        "plt.imshow(X_train[42][:, :, 0])\n",
        "\n",
        "plt.subplot(222)\n",
        "plt.imshow(X_train[420][:, :, 0])\n",
        "\n",
        "plt.subplot(223)\n",
        "plt.imshow(X_train[4200][:, :, 0])\n",
        "\n",
        "plt.subplot(224)\n",
        "plt.imshow(X_train[42000][:, :, 0])\n",
        "\n",
        "plt.show()"
      ],
      "metadata": {
        "colab": {
          "base_uri": "https://localhost:8080/",
          "height": 432
        },
        "id": "OwXR491oaP4V",
        "outputId": "8a03a6f5-0cab-4008-afa7-142455487224"
      },
      "execution_count": 18,
      "outputs": [
        {
          "output_type": "display_data",
          "data": {
            "text/plain": [
              "<Figure size 640x480 with 4 Axes>"
            ],
            "image/png": "[encoded data removed]"
          },
          "metadata": {}
        }
      ]
    },
    {
      "cell_type": "markdown",
      "source": [
        "## Build the model"
      ],
      "metadata": {
        "id": "7XZy-N2EePsk"
      }
    },
    {
      "cell_type": "code",
      "source": [
        "# Number of latent vector dim parameters\n",
        "latent_dim = 2\n",
        "\n",
        "input_img = Input(shape=input_shape, name = 'encoder_input')\n",
        "x = Conv2D(32, 3, padding = 'same', activation='relu')(input_img)\n",
        "x = Conv2D(64, 3, padding = 'same', activation='relu', strides=(2,2))(x)\n",
        "x = Conv2D(64, 3, padding = 'same', activation='relu')(x)\n",
        "x = Conv2D(64, 3, padding = 'same', activation='relu')(x)\n",
        "\n",
        "conv_shape = K.int_shape(x)\n",
        "\n",
        "# Flatten\n",
        "x = Flatten()(x)\n",
        "x = Dense(32, activation = 'relu')(x)\n",
        "\n",
        "z_mu = Dense(latent_dim, name='latent_mu')(x)\n",
        "z_sigma = Dense(latent_dim, name = 'latent_sigma')(x)\n"
      ],
      "metadata": {
        "colab": {
          "base_uri": "https://localhost:8080/"
        },
        "id": "XJGesCVwbEaP",
        "outputId": "77f146b0-784f-448d-9727-4a70968ddab8"
      },
      "execution_count": 25,
      "outputs": [
        {
          "output_type": "stream",
          "name": "stdout",
          "text": [
            "KerasTensor(type_spec=TensorSpec(shape=(None, 2), dtype=tf.float32, name=None), name='latent_mu/BiasAdd:0', description=\"created by layer 'latent_mu'\")\n"
          ]
        }
      ]
    },
    {
      "cell_type": "code",
      "source": [
        "print(z_mu, z_sigma)"
      ],
      "metadata": {
        "colab": {
          "base_uri": "https://localhost:8080/"
        },
        "id": "lGPNa0UbgRT8",
        "outputId": "f87e2a9c-f79a-43d4-9cd4-8b80e661d89f"
      },
      "execution_count": 26,
      "outputs": [
        {
          "output_type": "stream",
          "name": "stdout",
          "text": [
            "KerasTensor(type_spec=TensorSpec(shape=(None, 2), dtype=tf.float32, name=None), name='latent_mu/BiasAdd:0', description=\"created by layer 'latent_mu'\") KerasTensor(type_spec=TensorSpec(shape=(None, 2), dtype=tf.float32, name=None), name='latent_sigma/BiasAdd:0', description=\"created by layer 'latent_sigma'\")\n"
          ]
        }
      ]
    },
    {
      "cell_type": "code",
      "source": [
        "def sample_z(args):\n",
        "  z_mu, z_sigma = args\n",
        "  eps = K.random_normal(shape = (K.shape(z_mu)[0], K.int_shape(z_mu)[1]))\n",
        "  return z_mu + K.exp(z_sigma / 2) * eps"
      ],
      "metadata": {
        "id": "u2dkTy8OgVKB"
      },
      "execution_count": 27,
      "outputs": []
    },
    {
      "cell_type": "code",
      "source": [
        "z = Lambda(sample_z, output_shape=(latent_dim, ), name='z')([z_mu, z_sigma])\n",
        "z"
      ],
      "metadata": {
        "colab": {
          "base_uri": "https://localhost:8080/"
        },
        "id": "jS_oupXriB7o",
        "outputId": "18855eb0-2599-4537-a7a7-687e049abdfb"
      },
      "execution_count": 29,
      "outputs": [
        {
          "output_type": "execute_result",
          "data": {
            "text/plain": [
              "<KerasTensor: shape=(None, 2) dtype=float32 (created by layer 'z')>"
            ]
          },
          "metadata": {},
          "execution_count": 29
        }
      ]
    },
    {
      "cell_type": "markdown",
      "source": [
        "## Encoder"
      ],
      "metadata": {
        "id": "WCLHskOzj3mT"
      }
    },
    {
      "cell_type": "code",
      "source": [
        "encoder = Model(input_img, [z_mu, z_sigma, z], name = 'encoder')\n",
        "print(encoder.summary())"
      ],
      "metadata": {
        "colab": {
          "base_uri": "https://localhost:8080/"
        },
        "id": "wZn9zNkRj0vq",
        "outputId": "d5c73bbd-7e57-4704-878e-1c2f33bc25de"
      },
      "execution_count": 34,
      "outputs": [
        {
          "output_type": "stream",
          "name": "stdout",
          "text": [
            "Model: \"encoder\"\n",
            "__________________________________________________________________________________________________\n",
            " Layer (type)                Output Shape                 Param #   Connected to                  \n",
            "==================================================================================================\n",
            " encoder_input (InputLayer)  [(None, 28, 28, 1)]          0         []                            \n",
            "                                                                                                  \n",
            " conv2d_13 (Conv2D)          (None, 28, 28, 32)           320       ['encoder_input[0][0]']       \n",
            "                                                                                                  \n",
            " conv2d_14 (Conv2D)          (None, 14, 14, 64)           18496     ['conv2d_13[0][0]']           \n",
            "                                                                                                  \n",
            " conv2d_15 (Conv2D)          (None, 14, 14, 64)           36928     ['conv2d_14[0][0]']           \n",
            "                                                                                                  \n",
            " conv2d_16 (Conv2D)          (None, 14, 14, 64)           36928     ['conv2d_15[0][0]']           \n",
            "                                                                                                  \n",
            " flatten_2 (Flatten)         (None, 12544)                0         ['conv2d_16[0][0]']           \n",
            "                                                                                                  \n",
            " dense_2 (Dense)             (None, 32)                   401440    ['flatten_2[0][0]']           \n",
            "                                                                                                  \n",
            " latent_mu (Dense)           (None, 2)                    66        ['dense_2[0][0]']             \n",
            "                                                                                                  \n",
            " latent_sigma (Dense)        (None, 2)                    66        ['dense_2[0][0]']             \n",
            "                                                                                                  \n",
            " z (Lambda)                  (None, 2)                    0         ['latent_mu[0][0]',           \n",
            "                                                                     'latent_sigma[0][0]']        \n",
            "                                                                                                  \n",
            "==================================================================================================\n",
            "Total params: 494244 (1.89 MB)\n",
            "Trainable params: 494244 (1.89 MB)\n",
            "Non-trainable params: 0 (0.00 Byte)\n",
            "__________________________________________________________________________________________________\n",
            "None\n"
          ]
        }
      ]
    },
    {
      "cell_type": "markdown",
      "metadata": {
        "id": "CrbCnKlFIee3"
      },
      "source": [
        "You have two implementation options: (1) All in one notebook (2) Github repo.\n",
        "\n",
        "### Option 1: All in one Colab notebook\n",
        "\n",
        "You submit a single Colab notebook URL that contains all the code and the outputs. Your notebook should be self-contained and can be launched in Google Colab using a corresponding button at the top of the notebook. See the regression notebook in the course site for an example of such button. You **need to save all outputs in the notebook** so that the TAs can check that your code is working properly.\n",
        "\n",
        "### Option 2: Github repo\n",
        "\n",
        "If you prefer to work without notebooks, with containers or not, you can submit the implementation python scripts and version control your code in a private Github repo. You have to submit the Github URL and clearly document the way to launch the runtime / install requirements.txt and include all required figures in the README.md file.\n",
        "\n",
        "IMPORTANT: Ensure that the github repo remains private. If you submit a public github repo you will be held responsible for violating the honor code."
      ]
    }
  ],
  "metadata": {
    "language_info": {
      "name": "python"
    },
    "colab": {
      "provenance": [],
      "toc_visible": true,
      "include_colab_link": true
    },
    "kernelspec": {
      "name": "python3",
      "display_name": "Python 3"
    }
  },
  "nbformat": 4,
  "nbformat_minor": 0
}