{
  "cells": [
    {
      "cell_type": "markdown",
      "metadata": {
        "id": "view-in-github",
        "colab_type": "text"
      },
      "source": [
        "<a href=\"https://colab.research.google.com/github/bananighosh/Fall-2023-NYU-AI/blob/main/assignment_2/Part1/CS_GY6613_AI1_Assignment2_Banani_Ghosh_bg2502.ipynb\" target=\"_parent\"><img src=\"https://colab.research.google.com/assets/colab-badge.svg\" alt=\"Open In Colab\"/></a>"
      ]
    },
    {
      "cell_type": "markdown",
      "metadata": {
        "id": "SGzdZrvjw3j0"
      },
      "source": [
        "# Assignment 2 :\n",
        "## Part 1: Neural Network optimization with SGD and Adam"
      ]
    },
    {
      "cell_type": "code",
      "execution_count": 2,
      "metadata": {
        "id": "BQSGgtbVw299"
      },
      "outputs": [],
      "source": [
        "import numpy as np\n",
        "import matplotlib.pyplot as plt\n",
        "\n",
        "import tensorflow as tf\n",
        "\n",
        "from sklearn.feature_extraction.text import CountVectorizer\n"
      ]
    },
    {
      "cell_type": "code",
      "execution_count": 3,
      "metadata": {
        "id": "JrNZN9O-fDLZ"
      },
      "outputs": [],
      "source": [
        "(x_train, y_train_bow), (x_test, y_test_bow) = tf.keras.datasets.imdb.load_data(\n",
        "    path='imdb.npz',\n",
        "    num_words=10000,\n",
        "    skip_top=0,\n",
        "    maxlen=None,\n",
        "    seed=113,\n",
        "    start_char=1,\n",
        "    oov_char=2,\n",
        "    index_from=3,\n",
        ")"
      ]
    },
    {
      "cell_type": "code",
      "execution_count": 4,
      "metadata": {
        "colab": {
          "base_uri": "https://localhost:8080/"
        },
        "id": "zOjIQZg5xBEa",
        "outputId": "6319ff24-432a-4592-db04-bcd7ae7e1fba"
      },
      "outputs": [
        {
          "output_type": "stream",
          "name": "stdout",
          "text": [
            "(25000,) (25000,) (25000,) (25000,)\n"
          ]
        }
      ],
      "source": [
        "print(x_train.shape, y_train_bow.shape, x_test.shape, y_test_bow.shape)"
      ]
    },
    {
      "cell_type": "markdown",
      "metadata": {
        "id": "C2RKNqDa4KlP"
      },
      "source": [
        "# Create the BoW feature vectors (10 points)\n",
        "\n",
        "Create the word vectors using Bag of Words (BoW) representation. You can use the following code to get the BoW representation of the dataset. You can read more about BoW here"
      ]
    },
    {
      "cell_type": "code",
      "execution_count": 5,
      "metadata": {
        "id": "VCmHPYvKxgLQ"
      },
      "outputs": [],
      "source": [
        "vectorizer = CountVectorizer(max_features=10000)"
      ]
    },
    {
      "cell_type": "code",
      "source": [
        "word_index = tf.keras.datasets.imdb.get_word_index()\n",
        "reverse_word_index = dict([(value, key) for (key, value) in word_index.items()])"
      ],
      "metadata": {
        "id": "cXlDIl6tfWFC"
      },
      "execution_count": 6,
      "outputs": []
    },
    {
      "cell_type": "code",
      "execution_count": 7,
      "metadata": {
        "id": "NV8GOJKJxyiW"
      },
      "outputs": [],
      "source": [
        "# x_train_text = [' '.join([str(word) for word in x]) for x in x_train]\n",
        "x_train_text =  [' '.join([reverse_word_index.get(i - 3, '?') for i in sequence]) for sequence in x_train]\n",
        "x_train_bow = vectorizer.fit_transform(x_train_text).astype('float32') #.toarray()#.astype('float32')\n",
        "# x_train_bow = np.array(x_train_bow)"
      ]
    },
    {
      "cell_type": "code",
      "source": [
        "features = vectorizer.get_feature_names_out()\n",
        "print(features)"
      ],
      "metadata": {
        "colab": {
          "base_uri": "https://localhost:8080/"
        },
        "id": "cL78jXh2xCPR",
        "outputId": "dfd2b34a-4bcb-45e0-efd6-1e65593e2463"
      },
      "execution_count": 8,
      "outputs": [
        {
          "output_type": "stream",
          "name": "stdout",
          "text": [
            "['00' '000' '10' ... 'zoom' 'zorro' 'zu']\n"
          ]
        }
      ]
    },
    {
      "cell_type": "code",
      "execution_count": 9,
      "metadata": {
        "colab": {
          "base_uri": "https://localhost:8080/"
        },
        "id": "3NxLyL4S27Av",
        "outputId": "871ce432-4402-470a-aeca-b163b66839e7"
      },
      "outputs": [
        {
          "output_type": "stream",
          "name": "stdout",
          "text": [
            "  (0, 230)\t1.0\n",
            "  (0, 312)\t1.0\n",
            "  (0, 387)\t3.0\n",
            "  (0, 412)\t1.0\n",
            "  (0, 429)\t3.0\n",
            "  (0, 456)\t1.0\n",
            "  (0, 463)\t9.0\n",
            "  (0, 583)\t3.0\n",
            "  (0, 632)\t3.0\n",
            "  (0, 676)\t2.0\n",
            "  (0, 868)\t1.0\n",
            "  (0, 888)\t2.0\n",
            "  (0, 896)\t1.0\n",
            "  (0, 919)\t2.0\n",
            "  (0, 979)\t1.0\n",
            "  (0, 1132)\t1.0\n",
            "  (0, 1144)\t1.0\n",
            "  (0, 1201)\t3.0\n",
            "  (0, 1298)\t1.0\n",
            "  (0, 1332)\t1.0\n",
            "  (0, 1440)\t1.0\n",
            "  (0, 1593)\t2.0\n",
            "  (0, 1936)\t1.0\n",
            "  (0, 2070)\t1.0\n",
            "  (0, 2152)\t1.0\n",
            "  :\t:\n",
            "  (24999, 7513)\t1.0\n",
            "  (24999, 7742)\t1.0\n",
            "  (24999, 7744)\t1.0\n",
            "  (24999, 7753)\t1.0\n",
            "  (24999, 7758)\t1.0\n",
            "  (24999, 7875)\t1.0\n",
            "  (24999, 8055)\t1.0\n",
            "  (24999, 8066)\t1.0\n",
            "  (24999, 8338)\t1.0\n",
            "  (24999, 8443)\t2.0\n",
            "  (24999, 8713)\t1.0\n",
            "  (24999, 8763)\t10.0\n",
            "  (24999, 8783)\t1.0\n",
            "  (24999, 8805)\t2.0\n",
            "  (24999, 8886)\t4.0\n",
            "  (24999, 9035)\t1.0\n",
            "  (24999, 9081)\t1.0\n",
            "  (24999, 9388)\t1.0\n",
            "  (24999, 9431)\t1.0\n",
            "  (24999, 9446)\t1.0\n",
            "  (24999, 9463)\t1.0\n",
            "  (24999, 9472)\t1.0\n",
            "  (24999, 9541)\t1.0\n",
            "  (24999, 9632)\t1.0\n",
            "  (24999, 9668)\t1.0\n"
          ]
        }
      ],
      "source": [
        "# print(x_train_bow.shape, x_train_bow, type(x_train_bow))\n",
        "print(x_train_bow)"
      ]
    },
    {
      "cell_type": "code",
      "execution_count": 10,
      "metadata": {
        "id": "7tofldSR2Ka6"
      },
      "outputs": [],
      "source": [
        "# x_test_text = [' '.join([str(word) for word in x]) for x in x_test]\n",
        "x_test_text =  [' '.join([reverse_word_index.get(i - 3, '?') for i in sequence]) for sequence in x_test]\n",
        "x_test_bow = vectorizer.fit_transform(x_test_text).astype('float32')\n",
        "# x_test_bow = np.array(x_test_bow)\n",
        "# x_test_bow = vectorizer.transform(x_test_text).toarray().astype('float32')"
      ]
    },
    {
      "cell_type": "code",
      "source": [
        "features = vectorizer.get_feature_names_out()\n",
        "print(features)"
      ],
      "metadata": {
        "colab": {
          "base_uri": "https://localhost:8080/"
        },
        "id": "qS0uEHPmxMsj",
        "outputId": "d0ba5fbc-89ca-4356-a562-d9bb8218815e"
      },
      "execution_count": 11,
      "outputs": [
        {
          "output_type": "stream",
          "name": "stdout",
          "text": [
            "['00' '000' '10' ... 'zoom' 'zorro' 'zu']\n"
          ]
        }
      ]
    },
    {
      "cell_type": "code",
      "execution_count": 12,
      "metadata": {
        "colab": {
          "base_uri": "https://localhost:8080/"
        },
        "id": "0Z-y2HZq3exS",
        "outputId": "cba87b7d-71e4-4868-9174-357863aabd88"
      },
      "outputs": [
        {
          "output_type": "stream",
          "name": "stdout",
          "text": [
            "(25000, 9725)   (0, 387)\t1.0\n",
            "  (0, 400)\t1.0\n",
            "  (0, 405)\t1.0\n",
            "  (0, 462)\t2.0\n",
            "  (0, 1142)\t4.0\n",
            "  (0, 1428)\t1.0\n",
            "  (0, 2059)\t1.0\n",
            "  (0, 2672)\t1.0\n",
            "  (0, 3289)\t1.0\n",
            "  (0, 3464)\t3.0\n",
            "  (0, 3792)\t2.0\n",
            "  (0, 3832)\t1.0\n",
            "  (0, 4073)\t1.0\n",
            "  (0, 4085)\t1.0\n",
            "  (0, 4191)\t2.0\n",
            "  (0, 4292)\t1.0\n",
            "  (0, 4668)\t1.0\n",
            "  (0, 4922)\t2.0\n",
            "  (0, 5312)\t2.0\n",
            "  (0, 5570)\t1.0\n",
            "  (0, 5640)\t2.0\n",
            "  (0, 6053)\t1.0\n",
            "  (0, 6093)\t1.0\n",
            "  (0, 6095)\t2.0\n",
            "  (0, 6163)\t1.0\n",
            "  :\t:\n",
            "  (24999, 7674)\t1.0\n",
            "  (24999, 7786)\t1.0\n",
            "  (24999, 7821)\t2.0\n",
            "  (24999, 7825)\t1.0\n",
            "  (24999, 7905)\t1.0\n",
            "  (24999, 7996)\t1.0\n",
            "  (24999, 8320)\t1.0\n",
            "  (24999, 8328)\t1.0\n",
            "  (24999, 8329)\t1.0\n",
            "  (24999, 8717)\t1.0\n",
            "  (24999, 8722)\t1.0\n",
            "  (24999, 8724)\t8.0\n",
            "  (24999, 8734)\t1.0\n",
            "  (24999, 8744)\t2.0\n",
            "  (24999, 8766)\t2.0\n",
            "  (24999, 8846)\t2.0\n",
            "  (24999, 8882)\t1.0\n",
            "  (24999, 8905)\t1.0\n",
            "  (24999, 9185)\t1.0\n",
            "  (24999, 9223)\t1.0\n",
            "  (24999, 9275)\t1.0\n",
            "  (24999, 9421)\t1.0\n",
            "  (24999, 9444)\t1.0\n",
            "  (24999, 9587)\t4.0\n",
            "  (24999, 9696)\t1.0\n"
          ]
        }
      ],
      "source": [
        "print(x_test_bow.shape, x_test_bow)"
      ]
    },
    {
      "cell_type": "code",
      "source": [
        "y_train_bow = y_train_bow.astype('float32')\n",
        "y_test_bow = y_test_bow.astype('float32')"
      ],
      "metadata": {
        "id": "xbjmV2KZdEdh"
      },
      "execution_count": 13,
      "outputs": []
    },
    {
      "cell_type": "code",
      "source": [
        "# y_train_bow = y_train_bow.astype('float32')\n",
        "# y_test_bow = y_test_bow.astype('float32')\n",
        "print(y_test_bow, y_train_bow)"
      ],
      "metadata": {
        "id": "n7K-HNHudc8n",
        "colab": {
          "base_uri": "https://localhost:8080/"
        },
        "outputId": "a40ebcb9-8505-4e86-fbeb-7a9a274ae070"
      },
      "execution_count": 14,
      "outputs": [
        {
          "output_type": "stream",
          "name": "stdout",
          "text": [
            "[0. 1. 1. ... 0. 0. 0.] [1. 0. 0. ... 0. 1. 0.]\n"
          ]
        }
      ]
    },
    {
      "cell_type": "markdown",
      "metadata": {
        "id": "jZhzKCewUDCn"
      },
      "source": [
        "### Therefore Bag Of Words (BoW) vector created on the input data set - x_train and x_test"
      ]
    },
    {
      "cell_type": "markdown",
      "metadata": {
        "id": "cfmMioyuULyb"
      },
      "source": [
        "# Implement the models (10 points)\n",
        "You need to implement Logistic Regression, MLP and CNN models."
      ]
    },
    {
      "cell_type": "code",
      "source": [
        "from keras.models import Sequential\n",
        "from keras.layers import Flatten, Dense, Dropout, Conv2D, MaxPooling2D\n",
        "from keras.optimizers import Adam, SGD\n",
        "from keras.regularizers import l2\n",
        "\n",
        "from keras import backend as K\n",
        "\n",
        "from keras.datasets import mnist, cifar10"
      ],
      "metadata": {
        "id": "cQ9RiNrYxtqG"
      },
      "execution_count": 15,
      "outputs": []
    },
    {
      "cell_type": "markdown",
      "source": [
        "## Logistic Regression"
      ],
      "metadata": {
        "id": "asAJ0LF2x7RB"
      }
    },
    {
      "cell_type": "markdown",
      "source": [
        "#### Logistic Regression for Multi-class for MNIST dataset"
      ],
      "metadata": {
        "id": "4Qc5pI2fyHnN"
      }
    },
    {
      "cell_type": "code",
      "source": [
        "# function to build and train a logistic regression model\n",
        "def build_logistic_regression_model(optimizer_name, trial, learning_rate,\n",
        "                                    beta_1, beta_2 ):\n",
        "\n",
        "    model = Sequential()\n",
        "    model.add(Flatten(input_shape=(784,)))\n",
        "    model.add(Dense(10, activation='softmax', kernel_regularizer=l2(1e-6)))\n",
        "\n",
        "    if optimizer_name == 'adam':\n",
        "        # optimizer = Adam(learning_rate=learning_rate, beta_1=0.9, beta_2=0.999, epsilon=1e-8)\n",
        "        optimizer = Adam(learning_rate=learning_rate, beta_1=beta_1, beta_2=beta_2, epsilon=1e-8)\n",
        "    elif optimizer_name == 'sgd':\n",
        "        # optimizer = SGD(learning_rate=0.001/np.sqrt(45), momentum=0.9, nesterov=True)\n",
        "        optimizer = SGD(learning_rate=learning_rate, momentum=0.9, nesterov=True)\n",
        "    else:\n",
        "        raise ValueError(\"Invalid optimizer name\")\n",
        "\n",
        "    model.compile(optimizer=optimizer, loss='sparse_categorical_crossentropy', metrics=['accuracy'])\n",
        "\n",
        "    return model"
      ],
      "metadata": {
        "id": "bgEQTOJPxxAM"
      },
      "execution_count": 16,
      "outputs": []
    },
    {
      "cell_type": "code",
      "source": [
        "# function to build and train a logistic regression model\n",
        "# def build_logistic_regression_model(optimizer_name, trial, learning_rate,\n",
        "#                                     beta_1, beta_2 ):\n",
        "\n",
        "#     model = Sequential()\n",
        "#     model.add(Flatten(input_shape=(784,)))\n",
        "#     model.add(Dense(10, activation='softmax', kernel_regularizer=l2(1e-6)))\n",
        "\n",
        "#     # class CustomLRScheduler(tf.keras.callbacks.Callback):\n",
        "#     #   def on_epoch_begin(self, epoch, logs=None):\n",
        "#     #       new_lr = 1 / np.sqrt(epoch+1)\n",
        "#     #       K.set_value(self.model.optimizer.lr, new_lr)\n",
        "#     #       print(f'Epoch {epoch + 1}: Learning Rate = {new_lr}')\n",
        "\n",
        "#     if optimizer_name == 'adam':\n",
        "#         # optimizer = Adam(learning_rate=learning_rate, beta_1=0.9, beta_2=0.999, epsilon=1e-8)\n",
        "#         optimizer = Adam(learning_rate=learning_rate, beta_1=beta_1, beta_2=beta_2, epsilon=1e-8)\n",
        "#     elif optimizer_name == 'sgd':\n",
        "#         # optimizer = SGD(learning_rate=0.001/np.sqrt(45), momentum=0.9, nesterov=True)\n",
        "#         optimizer = SGD(learning_rate=learning_rate, momentum=0.9, nesterov=True)\n",
        "#     else:\n",
        "#         raise ValueError(\"Invalid optimizer name\")\n",
        "\n",
        "#     model.compile(optimizer=optimizer, loss='sparse_categorical_crossentropy', metrics=['accuracy'])\n",
        "\n",
        "#     return model"
      ],
      "metadata": {
        "id": "JP4PDwvQmvAE"
      },
      "execution_count": 17,
      "outputs": []
    },
    {
      "cell_type": "markdown",
      "source": [
        "#### Logistic Regression for Binary classes for IMDB review"
      ],
      "metadata": {
        "id": "Jsw2fYpnyOWL"
      }
    },
    {
      "cell_type": "code",
      "source": [
        "# Create a function to build and train a logistic regression model\n",
        "def build_logistic_regression_bin_model(optimizer_name, trial, learning_rate,\n",
        "                                        beta_1, beta_2):\n",
        "    model = Sequential()\n",
        "    model.add(Flatten(input_shape=x_train_bow.shape[1:]))\n",
        "    model.add(Dropout(0.5))\n",
        "    model.add(Dense(1, activation='sigmoid'))\n",
        "\n",
        "    if optimizer_name == 'adam':\n",
        "        optimizer = Adam(learning_rate=learning_rate, beta_1=beta_1, beta_2=beta_2, epsilon=1e-8)\n",
        "    elif optimizer_name == 'sgd':\n",
        "        optimizer = SGD(learning_rate=learning_rate, momentum=0.9, nesterov=True)\n",
        "    else:\n",
        "        raise ValueError(\"Invalid optimizer name\")\n",
        "\n",
        "    model.compile(optimizer=optimizer, loss='binary_crossentropy', metrics=['accuracy'])\n",
        "\n",
        "    return model"
      ],
      "metadata": {
        "id": "vuxbBL-6ySYI"
      },
      "execution_count": 18,
      "outputs": []
    },
    {
      "cell_type": "markdown",
      "source": [
        "## Multi-layer Perceptron (MLP)"
      ],
      "metadata": {
        "id": "3lILTDl5x8zb"
      }
    },
    {
      "cell_type": "code",
      "source": [
        "# Create a function to build and train a MLP model\n",
        "def build_multi_layer_perceptrons_model(optimizer_name, trial, learning_rate,\n",
        "                                        beta_1, beta_2, l2_decay):\n",
        "    # Create an MLP model\n",
        "    mlp_model = Sequential()\n",
        "    # mlp_model.add(input(shape=[28, 28]))\n",
        "    mlp_model.add(Flatten(input_shape=(X_train.shape[1],)))\n",
        "    # mlp_model.add(Dropout(0.5))\n",
        "    mlp_model.add(Dense(1000, activation=\"relu\", kernel_regularizer=l2(l2_decay)))\n",
        "    mlp_model.add(Dropout(0.5))\n",
        "    mlp_model.add(Dense(1000, activation=\"relu\", kernel_regularizer=l2(l2_decay)))\n",
        "    mlp_model.add(Dropout(0.5))\n",
        "    mlp_model.add(Dense(10, activation=\"softmax\"))\n",
        "\n",
        "    # Create a custom learning rate schedule that decreases as 1/sqrt(t)\n",
        "    # initial_learning_rate = 0.001\n",
        "    # # decay_steps = len(X_train) // 128  # Adjust as needed\n",
        "    # decay_steps = epochs\n",
        "    # lr_schedule = tf.keras.optimizers.schedules.ExponentialDecay(\n",
        "    #     initial_learning_rate, decay_steps=decay_steps, decay_rate=1/np.sqrt(epochs), staircase=False\n",
        "    # )\n",
        "\n",
        "    if optimizer_name == 'adam':\n",
        "        optimizer = Adam(learning_rate=learning_rate, beta_1=beta_1, beta_2=beta_2, epsilon=1e-8)\n",
        "    elif optimizer_name == 'sgd':\n",
        "        optimizer = SGD(learning_rate=learning_rate, momentum=0.9, nesterov=True)\n",
        "    else:\n",
        "        raise ValueError(\"Invalid optimizer name\")\n",
        "\n",
        "    # Compile the model\n",
        "    mlp_model.compile(optimizer=optimizer,\n",
        "                  loss='sparse_categorical_crossentropy',\n",
        "                  metrics=['accuracy'])\n",
        "\n",
        "    # Evaluate the model\n",
        "    mlp_loss, mlp_accuracy = mlp_model.evaluate(X_test, y_test)\n",
        "    print(f\"MLP - Test Loss: {mlp_loss}, Test Accuracy: {mlp_accuracy}\")\n",
        "\n",
        "    return mlp_model"
      ],
      "metadata": {
        "id": "e3nt_Ty3yBV6"
      },
      "execution_count": 54,
      "outputs": []
    },
    {
      "cell_type": "markdown",
      "source": [
        "## Convolutional Neural Network (CNN)"
      ],
      "metadata": {
        "id": "aK0fc8pE6snG"
      }
    },
    {
      "cell_type": "code",
      "source": [
        "# Create CNN model\n",
        "def build_cnn_model(optimizer_name, trial, learning_rate,\n",
        "                          beta_1, beta_2, l2_reg):\n",
        "    # Define the CNN architecture\n",
        "    cnn_model = Sequential([\n",
        "        Conv2D(32, (5, 5), activation='relu', input_shape=(32, 32, 3), padding='same'),\n",
        "        MaxPooling2D(pool_size=(3, 3), strides=2),\n",
        "        Conv2D(64, (5, 5), activation='relu', padding='same'),\n",
        "        MaxPooling2D(pool_size=(3, 3), strides=2),\n",
        "        Conv2D(128, (5, 5), activation='relu', padding='same'),\n",
        "        MaxPooling2D(pool_size=(3, 3), strides=2),\n",
        "        Flatten(),\n",
        "        Dense(1000, activation='relu'),\n",
        "        Dropout(0.5),\n",
        "        Dense(10, activation='softmax')  # 10 classes in CIFAR-10\n",
        "    ])\n",
        "\n",
        "    if optimizer_name == 'adam':\n",
        "        # optimizer = Adam(learning_rate=0.01, beta_1=0.9, beta_2=0.999, epsilon=1e-8)\n",
        "        optimizer = Adam(learning_rate=learning_rate, beta_1=beta_1, beta_2=beta_2, epsilon=1e-8)\n",
        "    elif optimizer_name == 'sgd':\n",
        "        # optimizer = SGD(learning_rate=0.0001, momentum=0.9, nesterov=True)\n",
        "        optimizer = SGD(learning_rate=learning_rate, momentum=0.9, nesterov=True)\n",
        "    else:\n",
        "        raise ValueError(\"Invalid optimizer name\")\n",
        "\n",
        "    cnn_model.compile(optimizer=optimizer, loss='sparse_categorical_crossentropy', metrics=['accuracy'])\n",
        "\n",
        "    return cnn_model"
      ],
      "metadata": {
        "id": "mRxd18DM6xkF"
      },
      "execution_count": 74,
      "outputs": []
    },
    {
      "cell_type": "markdown",
      "source": [
        "# Use SGD and Adam optimizers with Optuna to find the best hyperparameters for the models. (20)"
      ],
      "metadata": {
        "id": "xcuhtL878YA-"
      }
    },
    {
      "cell_type": "code",
      "source": [
        "!pip install --quiet optuna"
      ],
      "metadata": {
        "id": "jJMBHrAU8W7h"
      },
      "execution_count": 21,
      "outputs": []
    },
    {
      "cell_type": "code",
      "source": [
        "import optuna\n",
        "import math\n",
        "from sklearn.metrics import accuracy_score\n",
        "from keras.callbacks import Callback\n",
        "\n",
        "optuna.__version__"
      ],
      "metadata": {
        "colab": {
          "base_uri": "https://localhost:8080/",
          "height": 35
        },
        "id": "lU4-frCl97o-",
        "outputId": "77b73794-cfb2-49dc-ef22-34395542d695"
      },
      "execution_count": 22,
      "outputs": [
        {
          "output_type": "execute_result",
          "data": {
            "text/plain": [
              "'3.3.0'"
            ],
            "application/vnd.google.colaboratory.intrinsic+json": {
              "type": "string"
            }
          },
          "metadata": {},
          "execution_count": 22
        }
      ]
    },
    {
      "cell_type": "markdown",
      "source": [
        "# MNIST Dataset"
      ],
      "metadata": {
        "id": "iuxeBr_W-uHG"
      }
    },
    {
      "cell_type": "markdown",
      "source": [
        "## Load MNIST data"
      ],
      "metadata": {
        "id": "_eRLRdcsEZUY"
      }
    },
    {
      "cell_type": "code",
      "source": [
        "# Load the MNIST dataset\n",
        "(X_train, y_train), (X_test, y_test) = mnist.load_data()\n",
        "\n",
        "# Preprocess the data\n",
        "X_train = X_train / 255.0\n",
        "X_test = X_test / 255.0\n",
        "\n",
        "X_train = X_train.reshape(X_train.shape[0], -1)\n",
        "X_test = X_test.reshape(X_test.shape[0], -1)"
      ],
      "metadata": {
        "id": "gtnj-vjGEYt3",
        "colab": {
          "base_uri": "https://localhost:8080/"
        },
        "outputId": "97363a50-6978-4b6a-fbd7-a25f7e934da7"
      },
      "execution_count": 23,
      "outputs": [
        {
          "output_type": "stream",
          "name": "stdout",
          "text": [
            "Downloading data from https://storage.googleapis.com/tensorflow/tf-keras-datasets/mnist.npz\n",
            "11490434/11490434 [==============================] - 0s 0us/step\n"
          ]
        }
      ]
    },
    {
      "cell_type": "markdown",
      "source": [
        " ## Log_Reg for MNIST"
      ],
      "metadata": {
        "id": "uNdnERNP9h8n"
      }
    },
    {
      "cell_type": "code",
      "source": [
        "# Define a custom callback to track validation loss\n",
        "class ValidationLoss(Callback):\n",
        "    def __init__(self):\n",
        "        super(ValidationLoss, self).__init__()\n",
        "        self.validation_losses = []\n",
        "\n",
        "    def on_epoch_end(self, epoch, logs=None):\n",
        "        self.validation_losses.append(logs['val_loss'])"
      ],
      "metadata": {
        "id": "sq9r_ssCJ1G5"
      },
      "execution_count": 24,
      "outputs": []
    },
    {
      "cell_type": "code",
      "source": [
        "# Custom learning rate suggestion function with rate decay\n",
        "def custom_learning_rate_schedule(epoch):\n",
        "    t = epoch  # Use trial number as 't' or replace it with epoch number\n",
        "    lr = 0.001 / math.sqrt(t + 1)  # Initial LR 0.1, rate decay 1/sqrt(t+1) to avoid division by zero\n",
        "    return lr"
      ],
      "metadata": {
        "id": "dWbdZYO1tgE_"
      },
      "execution_count": 25,
      "outputs": []
    },
    {
      "cell_type": "code",
      "source": [
        "def objective(trial):\n",
        "\n",
        "  epochs = 200\n",
        "  # Create and compile the logistic regression model\n",
        "  optimizer_name = trial.suggest_categorical('optimizer', ['adam', 'sgd'])\n",
        "  learning_rate = trial.suggest_float('learning_rate', 1e-3, 1e-2, log=True)\n",
        "  # learning_rate = custom_learning_rate_schedule(trial)\n",
        "  # dropout_rate = trial.suggest_float('dropout_rate', 0.0, 0.5)\n",
        "  beta_1 = trial.suggest_float('beta_1', 0.0, 0.9)  # Vary beta_1 within [0, 0.9]\n",
        "  beta_2 = trial.suggest_float('beta_2', 0.99, 0.9999)  # Vary beta_2 within [0.99, 0.9999]\n",
        "  decay = trial.suggest_float('decay', 1e-6, 1e-2, log=True)\n",
        "  decay_steps = trial.suggest_int('decay_steps', 1, len(X_train) // 128)\n",
        "  # epsilon = trial.suggest_float('epsilon', 1e-9, 1e-7)\n",
        "  epsilon = 1e-8\n",
        "  # momentum = trial.suggest_float('momentum', 0.9, 0.99)\n",
        "  momentum = 0.9\n",
        "  l2_reg = trial.suggest_float('l2_reg', 1e-6, 1e-3, log=True)  # L2 regularization strength\n",
        "\n",
        "  # Implement the learning rate schedule for Adam\n",
        "  # def learning_rate_schedule(epoch, lr):\n",
        "      # t = epoch + 1  # Current epoch\n",
        "      # return initial_learning_rate / math.sqrt(t)\n",
        "\n",
        "  # decay_steps = len(X_train) // 128  # Adjust as needed\n",
        "  # decay_steps = epochs  # Adjust as needed\n",
        "  # lr_schedule = tf.keras.optimizers.schedules.ExponentialDecay(\n",
        "  #       learning_rate, decay_steps=decay_steps, decay_rate=1/np.sqrt(45.0), staircase=False\n",
        "  # )\n",
        "\n",
        "  # Define the custom learning rate scheduler\n",
        "  class CustomLRScheduler(tf.keras.callbacks.Callback):\n",
        "      def on_epoch_begin(self, epoch, logs=None):\n",
        "          new_lr = 0.001 / np.sqrt(epoch+1)\n",
        "          K.set_value(self.model.optimizer.lr, new_lr)\n",
        "          print(f'Epoch {epoch + 1}: Learning Rate = {new_lr}')\n",
        "\n",
        "  model = build_logistic_regression_model(optimizer_name, trial, learning_rate,\n",
        "                                          beta_1, beta_2)\n",
        "  # model = build_logistic_regression_model(optimizer_name, trial, learning_rate,\n",
        "  #                                       beta_1, beta_2)\n",
        "\n",
        "\n",
        "  # Create a custom callback to track validation loss\n",
        "  val_loss_callback = ValidationLoss()\n",
        "  lr_scheduler = CustomLRScheduler()\n",
        "\n",
        "  # Train the model\n",
        "  history = model.fit(X_train, y_train, epochs=epochs, batch_size=128,\n",
        "                      validation_data=(X_test, y_test), verbose=0,\n",
        "                      callbacks=[val_loss_callback, lr_scheduler])\n",
        "\n",
        "  # y_pred = model.predict_classes(X_test)\n",
        "  # accuracy = accuracy_score(y_test, y_pred)\n",
        "  # evaluation_score = model.evaluate(x_valid, y_valid, verbose=0)\n",
        "\n",
        "  # Get the minimum validation loss\n",
        "  min_val_loss = min(val_loss_callback.validation_losses)\n",
        "\n",
        "  return min_val_loss"
      ],
      "metadata": {
        "id": "zv1YQYSi-psa"
      },
      "execution_count": 26,
      "outputs": []
    },
    {
      "cell_type": "code",
      "source": [
        "# Create an Optuna study\n",
        "study = optuna.create_study(direction='minimize')\n",
        "\n",
        "# Optimize hyperparameters\n",
        "# study.optimize(objective, n_trials=45)\n",
        "study.optimize(objective, n_trials=1)\n",
        "\n",
        "# Get the best trial and hyperparameters\n",
        "best_trial = study.best_trial\n",
        "best_optimizer = best_trial.params['optimizer']\n",
        "best_lr = best_trial.params['learning_rate']\n",
        "best_beta_1 = best_trial.params['beta_1']\n",
        "best_beta_2 = best_trial.params['beta_2']\n",
        "\n",
        "# Print the best hyperparameters\n",
        "print(f'Best Optimizer: {best_optimizer}')\n",
        "print(f'Best Learning Rate: {best_lr}')"
      ],
      "metadata": {
        "colab": {
          "base_uri": "https://localhost:8080/"
        },
        "id": "5T_C3z8ILSTd",
        "outputId": "9e880c89-2003-4ab2-e638-b9dab87e761f"
      },
      "execution_count": 27,
      "outputs": [
        {
          "output_type": "stream",
          "name": "stderr",
          "text": [
            "[I 2023-10-07 16:07:44,227] A new study created in memory with name: no-name-e8101cda-534c-43cf-944f-5f9caf381059\n"
          ]
        },
        {
          "output_type": "stream",
          "name": "stdout",
          "text": [
            "Epoch 1: Learning Rate = 1.0\n",
            "Epoch 2: Learning Rate = 0.7071067811865475\n",
            "Epoch 3: Learning Rate = 0.5773502691896258\n",
            "Epoch 4: Learning Rate = 0.5\n",
            "Epoch 5: Learning Rate = 0.4472135954999579\n",
            "Epoch 6: Learning Rate = 0.4082482904638631\n",
            "Epoch 7: Learning Rate = 0.3779644730092272\n",
            "Epoch 8: Learning Rate = 0.35355339059327373\n",
            "Epoch 9: Learning Rate = 0.3333333333333333\n",
            "Epoch 10: Learning Rate = 0.31622776601683794\n",
            "Epoch 11: Learning Rate = 0.30151134457776363\n",
            "Epoch 12: Learning Rate = 0.2886751345948129\n",
            "Epoch 13: Learning Rate = 0.2773500981126146\n",
            "Epoch 14: Learning Rate = 0.2672612419124244\n",
            "Epoch 15: Learning Rate = 0.2581988897471611\n",
            "Epoch 16: Learning Rate = 0.25\n",
            "Epoch 17: Learning Rate = 0.24253562503633297\n",
            "Epoch 18: Learning Rate = 0.23570226039551587\n",
            "Epoch 19: Learning Rate = 0.22941573387056174\n",
            "Epoch 20: Learning Rate = 0.22360679774997896\n",
            "Epoch 21: Learning Rate = 0.2182178902359924\n",
            "Epoch 22: Learning Rate = 0.21320071635561041\n",
            "Epoch 23: Learning Rate = 0.20851441405707477\n",
            "Epoch 24: Learning Rate = 0.20412414523193154\n",
            "Epoch 25: Learning Rate = 0.2\n",
            "Epoch 26: Learning Rate = 0.19611613513818404\n",
            "Epoch 27: Learning Rate = 0.19245008972987526\n",
            "Epoch 28: Learning Rate = 0.1889822365046136\n",
            "Epoch 29: Learning Rate = 0.18569533817705186\n",
            "Epoch 30: Learning Rate = 0.18257418583505536\n",
            "Epoch 31: Learning Rate = 0.1796053020267749\n",
            "Epoch 32: Learning Rate = 0.17677669529663687\n",
            "Epoch 33: Learning Rate = 0.17407765595569785\n",
            "Epoch 34: Learning Rate = 0.17149858514250882\n",
            "Epoch 35: Learning Rate = 0.1690308509457033\n",
            "Epoch 36: Learning Rate = 0.16666666666666666\n",
            "Epoch 37: Learning Rate = 0.1643989873053573\n",
            "Epoch 38: Learning Rate = 0.16222142113076254\n",
            "Epoch 39: Learning Rate = 0.16012815380508713\n",
            "Epoch 40: Learning Rate = 0.15811388300841897\n",
            "Epoch 41: Learning Rate = 0.15617376188860607\n",
            "Epoch 42: Learning Rate = 0.1543033499620919\n",
            "Epoch 43: Learning Rate = 0.15249857033260467\n",
            "Epoch 44: Learning Rate = 0.15075567228888181\n",
            "Epoch 45: Learning Rate = 0.14907119849998599\n",
            "Epoch 46: Learning Rate = 0.14744195615489714\n",
            "Epoch 47: Learning Rate = 0.14586499149789456\n",
            "Epoch 48: Learning Rate = 0.14433756729740646\n",
            "Epoch 49: Learning Rate = 0.14285714285714285\n",
            "Epoch 50: Learning Rate = 0.1414213562373095\n",
            "Epoch 51: Learning Rate = 0.14002800840280097\n",
            "Epoch 52: Learning Rate = 0.1386750490563073\n",
            "Epoch 53: Learning Rate = 0.13736056394868904\n",
            "Epoch 54: Learning Rate = 0.13608276348795434\n",
            "Epoch 55: Learning Rate = 0.13483997249264842\n",
            "Epoch 56: Learning Rate = 0.1336306209562122\n",
            "Epoch 57: Learning Rate = 0.13245323570650439\n",
            "Epoch 58: Learning Rate = 0.13130643285972254\n",
            "Epoch 59: Learning Rate = 0.13018891098082389\n",
            "Epoch 60: Learning Rate = 0.12909944487358055\n",
            "Epoch 61: Learning Rate = 0.12803687993289598\n",
            "Epoch 62: Learning Rate = 0.1270001270001905\n",
            "Epoch 63: Learning Rate = 0.1259881576697424\n",
            "Epoch 64: Learning Rate = 0.125\n",
            "Epoch 65: Learning Rate = 0.12403473458920847\n",
            "Epoch 66: Learning Rate = 0.12309149097933272\n",
            "Epoch 67: Learning Rate = 0.12216944435630522\n",
            "Epoch 68: Learning Rate = 0.12126781251816648\n",
            "Epoch 69: Learning Rate = 0.1203858530857692\n",
            "Epoch 70: Learning Rate = 0.11952286093343936\n",
            "Epoch 71: Learning Rate = 0.11867816581938533\n",
            "Epoch 72: Learning Rate = 0.11785113019775793\n",
            "Epoch 73: Learning Rate = 0.11704114719613057\n",
            "Epoch 74: Learning Rate = 0.11624763874381928\n",
            "Epoch 75: Learning Rate = 0.11547005383792514\n",
            "Epoch 76: Learning Rate = 0.11470786693528087\n",
            "Epoch 77: Learning Rate = 0.11396057645963795\n",
            "Epoch 78: Learning Rate = 0.11322770341445956\n",
            "Epoch 79: Learning Rate = 0.1125087900926024\n",
            "Epoch 80: Learning Rate = 0.11180339887498948\n",
            "Epoch 81: Learning Rate = 0.1111111111111111\n",
            "Epoch 82: Learning Rate = 0.11043152607484653\n",
            "Epoch 83: Learning Rate = 0.10976425998969035\n",
            "Epoch 84: Learning Rate = 0.1091089451179962\n",
            "Epoch 85: Learning Rate = 0.10846522890932808\n",
            "Epoch 86: Learning Rate = 0.10783277320343841\n",
            "Epoch 87: Learning Rate = 0.10721125348377948\n",
            "Epoch 88: Learning Rate = 0.10660035817780521\n",
            "Epoch 89: Learning Rate = 0.105999788000636\n",
            "Epoch 90: Learning Rate = 0.10540925533894598\n",
            "Epoch 91: Learning Rate = 0.10482848367219183\n",
            "Epoch 92: Learning Rate = 0.10425720702853739\n",
            "Epoch 93: Learning Rate = 0.10369516947304253\n",
            "Epoch 94: Learning Rate = 0.10314212462587934\n",
            "Epoch 95: Learning Rate = 0.10259783520851541\n",
            "Epoch 96: Learning Rate = 0.10206207261596577\n",
            "Epoch 97: Learning Rate = 0.10153461651336192\n",
            "Epoch 98: Learning Rate = 0.10101525445522107\n",
            "Epoch 99: Learning Rate = 0.10050378152592121\n",
            "Epoch 100: Learning Rate = 0.1\n",
            "Epoch 101: Learning Rate = 0.09950371902099892\n",
            "Epoch 102: Learning Rate = 0.09901475429766744\n",
            "Epoch 103: Learning Rate = 0.09853292781642932\n",
            "Epoch 104: Learning Rate = 0.09805806756909202\n",
            "Epoch 105: Learning Rate = 0.09759000729485333\n",
            "Epoch 106: Learning Rate = 0.09712858623572641\n",
            "Epoch 107: Learning Rate = 0.09667364890456635\n",
            "Epoch 108: Learning Rate = 0.09622504486493763\n",
            "Epoch 109: Learning Rate = 0.09578262852211514\n",
            "Epoch 110: Learning Rate = 0.09534625892455924\n",
            "Epoch 111: Learning Rate = 0.0949157995752499\n",
            "Epoch 112: Learning Rate = 0.0944911182523068\n",
            "Epoch 113: Learning Rate = 0.09407208683835973\n",
            "Epoch 114: Learning Rate = 0.0936585811581694\n",
            "Epoch 115: Learning Rate = 0.09325048082403138\n",
            "Epoch 116: Learning Rate = 0.09284766908852593\n",
            "Epoch 117: Learning Rate = 0.09245003270420485\n",
            "Epoch 118: Learning Rate = 0.09205746178983235\n",
            "Epoch 119: Learning Rate = 0.09166984970282113\n",
            "Epoch 120: Learning Rate = 0.09128709291752768\n",
            "Epoch 121: Learning Rate = 0.09090909090909091\n",
            "Epoch 122: Learning Rate = 0.09053574604251853\n",
            "Epoch 123: Learning Rate = 0.09016696346674323\n",
            "Epoch 124: Learning Rate = 0.08980265101338746\n",
            "Epoch 125: Learning Rate = 0.08944271909999159\n",
            "Epoch 126: Learning Rate = 0.0890870806374748\n",
            "Epoch 127: Learning Rate = 0.08873565094161139\n",
            "Epoch 128: Learning Rate = 0.08838834764831843\n",
            "Epoch 129: Learning Rate = 0.08804509063256238\n",
            "Epoch 130: Learning Rate = 0.08770580193070293\n",
            "Epoch 131: Learning Rate = 0.0873704056661038\n",
            "Epoch 132: Learning Rate = 0.08703882797784893\n",
            "Epoch 133: Learning Rate = 0.086710996952412\n",
            "Epoch 134: Learning Rate = 0.08638684255813601\n",
            "Epoch 135: Learning Rate = 0.08606629658238704\n",
            "Epoch 136: Learning Rate = 0.08574929257125441\n",
            "Epoch 137: Learning Rate = 0.0854357657716761\n",
            "Epoch 138: Learning Rate = 0.08512565307587486\n",
            "Epoch 139: Learning Rate = 0.08481889296799709\n",
            "Epoch 140: Learning Rate = 0.08451542547285165\n",
            "Epoch 141: Learning Rate = 0.0842151921066519\n",
            "Epoch 142: Learning Rate = 0.08391813582966891\n",
            "Epoch 143: Learning Rate = 0.08362420100070908\n",
            "Epoch 144: Learning Rate = 0.08333333333333333\n",
            "Epoch 145: Learning Rate = 0.08304547985373997\n",
            "Epoch 146: Learning Rate = 0.0827605888602368\n",
            "Epoch 147: Learning Rate = 0.08247860988423225\n",
            "Epoch 148: Learning Rate = 0.08219949365267865\n",
            "Epoch 149: Learning Rate = 0.08192319205190406\n",
            "Epoch 150: Learning Rate = 0.08164965809277261\n",
            "Epoch 151: Learning Rate = 0.08137884587711594\n",
            "Epoch 152: Learning Rate = 0.08111071056538127\n",
            "Epoch 153: Learning Rate = 0.08084520834544433\n",
            "Epoch 154: Learning Rate = 0.08058229640253803\n",
            "Epoch 155: Learning Rate = 0.08032193289024989\n",
            "Epoch 156: Learning Rate = 0.08006407690254357\n",
            "Epoch 157: Learning Rate = 0.07980868844676221\n",
            "Epoch 158: Learning Rate = 0.079555728417573\n",
            "Epoch 159: Learning Rate = 0.07930515857181442\n",
            "Epoch 160: Learning Rate = 0.07905694150420949\n",
            "Epoch 161: Learning Rate = 0.07881104062391006\n",
            "Epoch 162: Learning Rate = 0.07856742013183861\n",
            "Epoch 163: Learning Rate = 0.07832604499879574\n",
            "Epoch 164: Learning Rate = 0.07808688094430304\n",
            "Epoch 165: Learning Rate = 0.0778498944161523\n",
            "Epoch 166: Learning Rate = 0.07761505257063328\n",
            "Epoch 167: Learning Rate = 0.07738232325341368\n",
            "Epoch 168: Learning Rate = 0.07715167498104596\n",
            "Epoch 169: Learning Rate = 0.07692307692307693\n",
            "Epoch 170: Learning Rate = 0.07669649888473704\n",
            "Epoch 171: Learning Rate = 0.07647191129018725\n",
            "Epoch 172: Learning Rate = 0.07624928516630233\n",
            "Epoch 173: Learning Rate = 0.07602859212697055\n",
            "Epoch 174: Learning Rate = 0.07580980435789034\n",
            "Epoch 175: Learning Rate = 0.07559289460184544\n",
            "Epoch 176: Learning Rate = 0.07537783614444091\n",
            "Epoch 177: Learning Rate = 0.07516460280028289\n",
            "Epoch 178: Learning Rate = 0.07495316889958614\n",
            "Epoch 179: Learning Rate = 0.07474350927519359\n",
            "Epoch 180: Learning Rate = 0.07453559924999299\n",
            "Epoch 181: Learning Rate = 0.07432941462471664\n",
            "Epoch 182: Learning Rate = 0.07412493166611012\n",
            "Epoch 183: Learning Rate = 0.07392212709545729\n",
            "Epoch 184: Learning Rate = 0.07372097807744857\n",
            "Epoch 185: Learning Rate = 0.07352146220938077\n",
            "Epoch 186: Learning Rate = 0.07332355751067665\n",
            "Epoch 187: Learning Rate = 0.07312724241271307\n",
            "Epoch 188: Learning Rate = 0.07293249574894728\n",
            "Epoch 189: Learning Rate = 0.07273929674533079\n",
            "Epoch 190: Learning Rate = 0.07254762501100116\n",
            "Epoch 191: Learning Rate = 0.07235746052924216\n",
            "Epoch 192: Learning Rate = 0.07216878364870323\n",
            "Epoch 193: Learning Rate = 0.07198157507486945\n",
            "Epoch 194: Learning Rate = 0.07179581586177382\n",
            "Epoch 195: Learning Rate = 0.0716114874039433\n",
            "Epoch 196: Learning Rate = 0.07142857142857142\n",
            "Epoch 197: Learning Rate = 0.07124704998790965\n",
            "Epoch 198: Learning Rate = 0.07106690545187015\n",
            "Epoch 199: Learning Rate = 0.07088812050083358\n",
            "Epoch 200: Learning Rate = 0.07071067811865475\n"
          ]
        },
        {
          "output_type": "stream",
          "name": "stderr",
          "text": [
            "[I 2023-10-07 16:12:10,739] Trial 0 finished with value: 0.28927814960479736 and parameters: {'optimizer': 'sgd', 'learning_rate': 0.0036132298044764073, 'beta_1': 0.26108547972311, 'beta_2': 0.9986691704338064, 'decay': 4.216458440951901e-06, 'decay_steps': 152, 'l2_reg': 3.6376854898462428e-06}. Best is trial 0 with value: 0.28927814960479736.\n"
          ]
        },
        {
          "output_type": "stream",
          "name": "stdout",
          "text": [
            "Best Optimizer: sgd\n",
            "Best Learning Rate: 0.0036132298044764073\n"
          ]
        }
      ]
    },
    {
      "cell_type": "code",
      "source": [
        "# Retrieve and print the best hyperparameters\n",
        "best_hyperparameters = best_trial.params\n",
        "print(\"Best Hyperparameters for logistic Regression on MNIST dataset:\")\n",
        "for param_name, param_value in best_hyperparameters.items():\n",
        "    print(f\"{param_name}: {param_value}\")"
      ],
      "metadata": {
        "colab": {
          "base_uri": "https://localhost:8080/"
        },
        "id": "-xNYO_R5RXQ_",
        "outputId": "0c0e79c9-d330-4d36-ae45-8bada56501b0"
      },
      "execution_count": 28,
      "outputs": [
        {
          "output_type": "stream",
          "name": "stdout",
          "text": [
            "Best Hyperparameters for logistic Regression on MNIST dataset:\n",
            "optimizer: sgd\n",
            "learning_rate: 0.0036132298044764073\n",
            "beta_1: 0.26108547972311\n",
            "beta_2: 0.9986691704338064\n",
            "decay: 4.216458440951901e-06\n",
            "decay_steps: 152\n",
            "l2_reg: 3.6376854898462428e-06\n"
          ]
        }
      ]
    },
    {
      "cell_type": "code",
      "source": [
        "# Get the best trial and hyperparameters\n",
        "best_trial = study.best_trial\n",
        "best_optimizer = best_trial.params['optimizer']\n",
        "best_lr = best_trial.params['learning_rate']\n",
        "best_beta_1 = best_trial.params['beta_1']\n",
        "best_beta_2 = best_trial.params['beta_2']"
      ],
      "metadata": {
        "id": "wMdKVWaDuwt4"
      },
      "execution_count": 29,
      "outputs": []
    },
    {
      "cell_type": "code",
      "source": [
        "# Build and train the final model with the best hyperparameters\n",
        "best_model = build_logistic_regression_model(best_optimizer, best_trial, best_lr,\n",
        "                                             best_beta_1, best_beta_2)\n",
        "history = best_model.fit(X_train, y_train, epochs=45, batch_size=128,\n",
        "                        validation_data=(X_test, y_test), verbose=1)\n",
        "\n",
        "# adam_history = best_model.fit(X_train, y_train, epochs=45, batch_size=128,\n",
        "#                         validation_data=(X_test, y_test), verbose=1)\n",
        "# sgd_history = best_model.fit(X_train, y_train, epochs=45, batch_size=128,\n",
        "                        # validation_data=(X_test, y_test), verbose=1)\n"
      ],
      "metadata": {
        "colab": {
          "base_uri": "https://localhost:8080/"
        },
        "id": "68lKPx93KrsK",
        "outputId": "99b652c9-0c34-470d-8198-fd947ec0e4d5"
      },
      "execution_count": 30,
      "outputs": [
        {
          "output_type": "stream",
          "name": "stdout",
          "text": [
            "Epoch 1/45\n",
            "469/469 [==============================] - 2s 4ms/step - loss: 0.8113 - accuracy: 0.8033 - val_loss: 0.4917 - val_accuracy: 0.8805\n",
            "Epoch 2/45\n",
            "469/469 [==============================] - 1s 3ms/step - loss: 0.4655 - accuracy: 0.8795 - val_loss: 0.4085 - val_accuracy: 0.8921\n",
            "Epoch 3/45\n",
            "469/469 [==============================] - 1s 3ms/step - loss: 0.4107 - accuracy: 0.8899 - val_loss: 0.3740 - val_accuracy: 0.8996\n",
            "Epoch 4/45\n",
            "469/469 [==============================] - 1s 3ms/step - loss: 0.3832 - accuracy: 0.8958 - val_loss: 0.3553 - val_accuracy: 0.9028\n",
            "Epoch 5/45\n",
            "469/469 [==============================] - 1s 3ms/step - loss: 0.3659 - accuracy: 0.9000 - val_loss: 0.3419 - val_accuracy: 0.9056\n",
            "Epoch 6/45\n",
            "469/469 [==============================] - 1s 3ms/step - loss: 0.3536 - accuracy: 0.9024 - val_loss: 0.3317 - val_accuracy: 0.9086\n",
            "Epoch 7/45\n",
            "469/469 [==============================] - 2s 4ms/step - loss: 0.3443 - accuracy: 0.9047 - val_loss: 0.3245 - val_accuracy: 0.9113\n",
            "Epoch 8/45\n",
            "469/469 [==============================] - 2s 4ms/step - loss: 0.3368 - accuracy: 0.9065 - val_loss: 0.3184 - val_accuracy: 0.9135\n",
            "Epoch 9/45\n",
            "469/469 [==============================] - 1s 3ms/step - loss: 0.3306 - accuracy: 0.9084 - val_loss: 0.3142 - val_accuracy: 0.9149\n",
            "Epoch 10/45\n",
            "469/469 [==============================] - 1s 3ms/step - loss: 0.3256 - accuracy: 0.9093 - val_loss: 0.3104 - val_accuracy: 0.9146\n",
            "Epoch 11/45\n",
            "469/469 [==============================] - 1s 3ms/step - loss: 0.3212 - accuracy: 0.9105 - val_loss: 0.3065 - val_accuracy: 0.9162\n",
            "Epoch 12/45\n",
            "469/469 [==============================] - 2s 3ms/step - loss: 0.3174 - accuracy: 0.9113 - val_loss: 0.3044 - val_accuracy: 0.9160\n",
            "Epoch 13/45\n",
            "469/469 [==============================] - 1s 3ms/step - loss: 0.3141 - accuracy: 0.9125 - val_loss: 0.3007 - val_accuracy: 0.9170\n",
            "Epoch 14/45\n",
            "469/469 [==============================] - 1s 3ms/step - loss: 0.3110 - accuracy: 0.9138 - val_loss: 0.2985 - val_accuracy: 0.9173\n",
            "Epoch 15/45\n",
            "469/469 [==============================] - 2s 4ms/step - loss: 0.3083 - accuracy: 0.9143 - val_loss: 0.2978 - val_accuracy: 0.9170\n",
            "Epoch 16/45\n",
            "469/469 [==============================] - 2s 5ms/step - loss: 0.3059 - accuracy: 0.9147 - val_loss: 0.2953 - val_accuracy: 0.9178\n",
            "Epoch 17/45\n",
            "469/469 [==============================] - 2s 3ms/step - loss: 0.3036 - accuracy: 0.9152 - val_loss: 0.2935 - val_accuracy: 0.9187\n",
            "Epoch 18/45\n",
            "469/469 [==============================] - 1s 3ms/step - loss: 0.3017 - accuracy: 0.9161 - val_loss: 0.2915 - val_accuracy: 0.9181\n",
            "Epoch 19/45\n",
            "469/469 [==============================] - 1s 3ms/step - loss: 0.2999 - accuracy: 0.9165 - val_loss: 0.2904 - val_accuracy: 0.9189\n",
            "Epoch 20/45\n",
            "469/469 [==============================] - 1s 3ms/step - loss: 0.2982 - accuracy: 0.9172 - val_loss: 0.2891 - val_accuracy: 0.9189\n",
            "Epoch 21/45\n",
            "469/469 [==============================] - 1s 3ms/step - loss: 0.2965 - accuracy: 0.9175 - val_loss: 0.2891 - val_accuracy: 0.9193\n",
            "Epoch 22/45\n",
            "469/469 [==============================] - 2s 4ms/step - loss: 0.2951 - accuracy: 0.9179 - val_loss: 0.2876 - val_accuracy: 0.9201\n",
            "Epoch 23/45\n",
            "469/469 [==============================] - 2s 5ms/step - loss: 0.2936 - accuracy: 0.9183 - val_loss: 0.2864 - val_accuracy: 0.9209\n",
            "Epoch 24/45\n",
            "469/469 [==============================] - 2s 5ms/step - loss: 0.2924 - accuracy: 0.9185 - val_loss: 0.2851 - val_accuracy: 0.9195\n",
            "Epoch 25/45\n",
            "469/469 [==============================] - 2s 4ms/step - loss: 0.2912 - accuracy: 0.9189 - val_loss: 0.2849 - val_accuracy: 0.9203\n",
            "Epoch 26/45\n",
            "469/469 [==============================] - 2s 3ms/step - loss: 0.2899 - accuracy: 0.9191 - val_loss: 0.2843 - val_accuracy: 0.9211\n",
            "Epoch 27/45\n",
            "469/469 [==============================] - 3s 7ms/step - loss: 0.2888 - accuracy: 0.9197 - val_loss: 0.2830 - val_accuracy: 0.9215\n",
            "Epoch 28/45\n",
            "469/469 [==============================] - 3s 6ms/step - loss: 0.2877 - accuracy: 0.9198 - val_loss: 0.2830 - val_accuracy: 0.9208\n",
            "Epoch 29/45\n",
            "469/469 [==============================] - 4s 8ms/step - loss: 0.2868 - accuracy: 0.9199 - val_loss: 0.2821 - val_accuracy: 0.9201\n",
            "Epoch 30/45\n",
            "469/469 [==============================] - 3s 7ms/step - loss: 0.2859 - accuracy: 0.9205 - val_loss: 0.2811 - val_accuracy: 0.9218\n",
            "Epoch 31/45\n",
            "469/469 [==============================] - 3s 7ms/step - loss: 0.2850 - accuracy: 0.9207 - val_loss: 0.2808 - val_accuracy: 0.9213\n",
            "Epoch 32/45\n",
            "469/469 [==============================] - 3s 7ms/step - loss: 0.2840 - accuracy: 0.9209 - val_loss: 0.2800 - val_accuracy: 0.9201\n",
            "Epoch 33/45\n",
            "469/469 [==============================] - 4s 9ms/step - loss: 0.2833 - accuracy: 0.9211 - val_loss: 0.2796 - val_accuracy: 0.9213\n",
            "Epoch 34/45\n",
            "469/469 [==============================] - 5s 11ms/step - loss: 0.2825 - accuracy: 0.9215 - val_loss: 0.2793 - val_accuracy: 0.9216\n",
            "Epoch 35/45\n",
            "469/469 [==============================] - 3s 5ms/step - loss: 0.2818 - accuracy: 0.9218 - val_loss: 0.2788 - val_accuracy: 0.9217\n",
            "Epoch 36/45\n",
            "469/469 [==============================] - 1s 3ms/step - loss: 0.2811 - accuracy: 0.9219 - val_loss: 0.2786 - val_accuracy: 0.9220\n",
            "Epoch 37/45\n",
            "469/469 [==============================] - 1s 3ms/step - loss: 0.2804 - accuracy: 0.9220 - val_loss: 0.2778 - val_accuracy: 0.9222\n",
            "Epoch 38/45\n",
            "469/469 [==============================] - 3s 5ms/step - loss: 0.2796 - accuracy: 0.9227 - val_loss: 0.2777 - val_accuracy: 0.9219\n",
            "Epoch 39/45\n",
            "469/469 [==============================] - 1s 3ms/step - loss: 0.2790 - accuracy: 0.9227 - val_loss: 0.2771 - val_accuracy: 0.9212\n",
            "Epoch 40/45\n",
            "469/469 [==============================] - 2s 4ms/step - loss: 0.2785 - accuracy: 0.9226 - val_loss: 0.2766 - val_accuracy: 0.9224\n",
            "Epoch 41/45\n",
            "469/469 [==============================] - 2s 4ms/step - loss: 0.2778 - accuracy: 0.9226 - val_loss: 0.2761 - val_accuracy: 0.9224\n",
            "Epoch 42/45\n",
            "469/469 [==============================] - 2s 4ms/step - loss: 0.2773 - accuracy: 0.9230 - val_loss: 0.2759 - val_accuracy: 0.9220\n",
            "Epoch 43/45\n",
            "469/469 [==============================] - 1s 3ms/step - loss: 0.2767 - accuracy: 0.9232 - val_loss: 0.2755 - val_accuracy: 0.9228\n",
            "Epoch 44/45\n",
            "469/469 [==============================] - 1s 3ms/step - loss: 0.2762 - accuracy: 0.9232 - val_loss: 0.2758 - val_accuracy: 0.9221\n",
            "Epoch 45/45\n",
            "469/469 [==============================] - 1s 3ms/step - loss: 0.2757 - accuracy: 0.9235 - val_loss: 0.2749 - val_accuracy: 0.9233\n"
          ]
        }
      ]
    },
    {
      "cell_type": "code",
      "source": [
        "sgd_model = build_logistic_regression_model(\"adam\", best_trial, best_lr,\n",
        "                                             best_beta_1, best_beta_2)\n",
        "\n",
        "sgd_history = best_model.fit(X_train, y_train, epochs=45, batch_size=128,\n",
        "                        validation_data=(X_test, y_test), verbose=1)"
      ],
      "metadata": {
        "colab": {
          "base_uri": "https://localhost:8080/"
        },
        "id": "wpTHOauKyez3",
        "outputId": "8fdf6777-fab8-409b-fee7-c694c34884a7"
      },
      "execution_count": 31,
      "outputs": [
        {
          "output_type": "stream",
          "name": "stdout",
          "text": [
            "Epoch 1/45\n",
            "469/469 [==============================] - 1s 3ms/step - loss: 0.2751 - accuracy: 0.9238 - val_loss: 0.2753 - val_accuracy: 0.9218\n",
            "Epoch 2/45\n",
            "469/469 [==============================] - 1s 3ms/step - loss: 0.2746 - accuracy: 0.9239 - val_loss: 0.2749 - val_accuracy: 0.9227\n",
            "Epoch 3/45\n",
            "469/469 [==============================] - 1s 3ms/step - loss: 0.2742 - accuracy: 0.9241 - val_loss: 0.2751 - val_accuracy: 0.9216\n",
            "Epoch 4/45\n",
            "469/469 [==============================] - 2s 5ms/step - loss: 0.2737 - accuracy: 0.9241 - val_loss: 0.2744 - val_accuracy: 0.9227\n",
            "Epoch 5/45\n",
            "469/469 [==============================] - 2s 4ms/step - loss: 0.2732 - accuracy: 0.9243 - val_loss: 0.2743 - val_accuracy: 0.9233\n",
            "Epoch 6/45\n",
            "469/469 [==============================] - 2s 3ms/step - loss: 0.2728 - accuracy: 0.9244 - val_loss: 0.2738 - val_accuracy: 0.9234\n",
            "Epoch 7/45\n",
            "469/469 [==============================] - 1s 3ms/step - loss: 0.2723 - accuracy: 0.9247 - val_loss: 0.2737 - val_accuracy: 0.9213\n",
            "Epoch 8/45\n",
            "469/469 [==============================] - 1s 3ms/step - loss: 0.2720 - accuracy: 0.9249 - val_loss: 0.2735 - val_accuracy: 0.9221\n",
            "Epoch 9/45\n",
            "469/469 [==============================] - 1s 3ms/step - loss: 0.2715 - accuracy: 0.9252 - val_loss: 0.2741 - val_accuracy: 0.9218\n",
            "Epoch 10/45\n",
            "469/469 [==============================] - 1s 3ms/step - loss: 0.2711 - accuracy: 0.9254 - val_loss: 0.2733 - val_accuracy: 0.9227\n",
            "Epoch 11/45\n",
            "469/469 [==============================] - 1s 3ms/step - loss: 0.2708 - accuracy: 0.9252 - val_loss: 0.2734 - val_accuracy: 0.9228\n",
            "Epoch 12/45\n",
            "469/469 [==============================] - 2s 4ms/step - loss: 0.2704 - accuracy: 0.9250 - val_loss: 0.2725 - val_accuracy: 0.9228\n",
            "Epoch 13/45\n",
            "469/469 [==============================] - 2s 5ms/step - loss: 0.2700 - accuracy: 0.9252 - val_loss: 0.2727 - val_accuracy: 0.9235\n",
            "Epoch 14/45\n",
            "469/469 [==============================] - 2s 3ms/step - loss: 0.2696 - accuracy: 0.9252 - val_loss: 0.2723 - val_accuracy: 0.9224\n",
            "Epoch 15/45\n",
            "469/469 [==============================] - 1s 3ms/step - loss: 0.2693 - accuracy: 0.9259 - val_loss: 0.2721 - val_accuracy: 0.9224\n",
            "Epoch 16/45\n",
            "469/469 [==============================] - 2s 3ms/step - loss: 0.2690 - accuracy: 0.9257 - val_loss: 0.2721 - val_accuracy: 0.9229\n",
            "Epoch 17/45\n",
            "469/469 [==============================] - 1s 3ms/step - loss: 0.2687 - accuracy: 0.9259 - val_loss: 0.2714 - val_accuracy: 0.9229\n",
            "Epoch 18/45\n",
            "469/469 [==============================] - 2s 3ms/step - loss: 0.2682 - accuracy: 0.9259 - val_loss: 0.2717 - val_accuracy: 0.9228\n",
            "Epoch 19/45\n",
            "469/469 [==============================] - 2s 3ms/step - loss: 0.2680 - accuracy: 0.9262 - val_loss: 0.2719 - val_accuracy: 0.9224\n",
            "Epoch 20/45\n",
            "469/469 [==============================] - 2s 3ms/step - loss: 0.2676 - accuracy: 0.9264 - val_loss: 0.2712 - val_accuracy: 0.9230\n",
            "Epoch 21/45\n",
            "469/469 [==============================] - 2s 5ms/step - loss: 0.2673 - accuracy: 0.9262 - val_loss: 0.2716 - val_accuracy: 0.9234\n",
            "Epoch 22/45\n",
            "469/469 [==============================] - 2s 4ms/step - loss: 0.2672 - accuracy: 0.9263 - val_loss: 0.2717 - val_accuracy: 0.9238\n",
            "Epoch 23/45\n",
            "469/469 [==============================] - 1s 3ms/step - loss: 0.2667 - accuracy: 0.9263 - val_loss: 0.2710 - val_accuracy: 0.9231\n",
            "Epoch 24/45\n",
            "469/469 [==============================] - 1s 3ms/step - loss: 0.2665 - accuracy: 0.9263 - val_loss: 0.2710 - val_accuracy: 0.9234\n",
            "Epoch 25/45\n",
            "469/469 [==============================] - 1s 3ms/step - loss: 0.2662 - accuracy: 0.9265 - val_loss: 0.2701 - val_accuracy: 0.9233\n",
            "Epoch 26/45\n",
            "469/469 [==============================] - 1s 3ms/step - loss: 0.2659 - accuracy: 0.9268 - val_loss: 0.2703 - val_accuracy: 0.9241\n",
            "Epoch 27/45\n",
            "469/469 [==============================] - 1s 3ms/step - loss: 0.2657 - accuracy: 0.9264 - val_loss: 0.2707 - val_accuracy: 0.9234\n",
            "Epoch 28/45\n",
            "469/469 [==============================] - 2s 3ms/step - loss: 0.2653 - accuracy: 0.9272 - val_loss: 0.2698 - val_accuracy: 0.9241\n",
            "Epoch 29/45\n",
            "469/469 [==============================] - 2s 4ms/step - loss: 0.2651 - accuracy: 0.9270 - val_loss: 0.2711 - val_accuracy: 0.9242\n",
            "Epoch 30/45\n",
            "469/469 [==============================] - 2s 5ms/step - loss: 0.2649 - accuracy: 0.9267 - val_loss: 0.2702 - val_accuracy: 0.9240\n",
            "Epoch 31/45\n",
            "469/469 [==============================] - 1s 3ms/step - loss: 0.2646 - accuracy: 0.9269 - val_loss: 0.2699 - val_accuracy: 0.9234\n",
            "Epoch 32/45\n",
            "469/469 [==============================] - 1s 3ms/step - loss: 0.2644 - accuracy: 0.9269 - val_loss: 0.2694 - val_accuracy: 0.9230\n",
            "Epoch 33/45\n",
            "469/469 [==============================] - 1s 3ms/step - loss: 0.2641 - accuracy: 0.9274 - val_loss: 0.2697 - val_accuracy: 0.9233\n",
            "Epoch 34/45\n",
            "469/469 [==============================] - 2s 3ms/step - loss: 0.2638 - accuracy: 0.9271 - val_loss: 0.2698 - val_accuracy: 0.9238\n",
            "Epoch 35/45\n",
            "469/469 [==============================] - 2s 4ms/step - loss: 0.2636 - accuracy: 0.9276 - val_loss: 0.2697 - val_accuracy: 0.9237\n",
            "Epoch 36/45\n",
            "469/469 [==============================] - 1s 3ms/step - loss: 0.2633 - accuracy: 0.9275 - val_loss: 0.2697 - val_accuracy: 0.9232\n",
            "Epoch 37/45\n",
            "469/469 [==============================] - 2s 4ms/step - loss: 0.2632 - accuracy: 0.9275 - val_loss: 0.2694 - val_accuracy: 0.9248\n",
            "Epoch 38/45\n",
            "469/469 [==============================] - 2s 5ms/step - loss: 0.2630 - accuracy: 0.9276 - val_loss: 0.2692 - val_accuracy: 0.9240\n",
            "Epoch 39/45\n",
            "469/469 [==============================] - 1s 3ms/step - loss: 0.2628 - accuracy: 0.9273 - val_loss: 0.2689 - val_accuracy: 0.9239\n",
            "Epoch 40/45\n",
            "469/469 [==============================] - 1s 3ms/step - loss: 0.2625 - accuracy: 0.9275 - val_loss: 0.2696 - val_accuracy: 0.9236\n",
            "Epoch 41/45\n",
            "469/469 [==============================] - 2s 3ms/step - loss: 0.2624 - accuracy: 0.9279 - val_loss: 0.2685 - val_accuracy: 0.9239\n",
            "Epoch 42/45\n",
            "469/469 [==============================] - 1s 3ms/step - loss: 0.2621 - accuracy: 0.9277 - val_loss: 0.2686 - val_accuracy: 0.9249\n",
            "Epoch 43/45\n",
            "469/469 [==============================] - 2s 3ms/step - loss: 0.2619 - accuracy: 0.9277 - val_loss: 0.2687 - val_accuracy: 0.9242\n",
            "Epoch 44/45\n",
            "469/469 [==============================] - 1s 3ms/step - loss: 0.2618 - accuracy: 0.9280 - val_loss: 0.2682 - val_accuracy: 0.9242\n",
            "Epoch 45/45\n",
            "469/469 [==============================] - 2s 4ms/step - loss: 0.2615 - accuracy: 0.9276 - val_loss: 0.2688 - val_accuracy: 0.9237\n"
          ]
        }
      ]
    },
    {
      "cell_type": "code",
      "source": [
        "# Extract training cost (loss) values from history\n",
        "adam_training_costs = history.history['loss']\n",
        "sgd_training_costs = sgd_history.history['loss']"
      ],
      "metadata": {
        "id": "Jgz9xDVgyMq8"
      },
      "execution_count": 32,
      "outputs": []
    },
    {
      "cell_type": "code",
      "source": [
        "# Plot training cost vs. epochs for both optimizers\n",
        "plt.figure(figsize=(10, 6))\n",
        "plt.plot(range(1, len(adam_training_costs) + 1), adam_training_costs, label='Adam', color='r')\n",
        "plt.plot(range(1, len(sgd_training_costs) + 1), sgd_training_costs, label='SGD', color='g')\n",
        "plt.xlabel('Epochs')\n",
        "plt.ylabel('Training Cost (Loss)')\n",
        "plt.title('Training Cost vs. Epochs for Adam and SGD')\n",
        "plt.legend()\n",
        "plt.grid(True)\n",
        "plt.show()"
      ],
      "metadata": {
        "colab": {
          "base_uri": "https://localhost:8080/",
          "height": 564
        },
        "id": "XPbOLKqU0g_5",
        "outputId": "9e57097c-864c-472f-ee18-d02a3237fa14"
      },
      "execution_count": 33,
      "outputs": [
        {
          "output_type": "display_data",
          "data": {
            "text/plain": [
              "<Figure size 1000x600 with 1 Axes>"
            ],
            "image/png": "[encoded data removed]"
          },
          "metadata": {}
        }
      ]
    },
    {
      "cell_type": "code",
      "source": [
        "# Extract training cost (loss) values from history\n",
        "adam_training_costs = history.history['val_loss']\n",
        "sgd_training_costs = sgd_history.history['val_loss']"
      ],
      "metadata": {
        "id": "CM99JSxwShOf"
      },
      "execution_count": 34,
      "outputs": []
    },
    {
      "cell_type": "code",
      "source": [
        "# Plot training cost vs. epochs for both optimizers\n",
        "plt.figure(figsize=(10, 6))\n",
        "plt.plot(range(1, len(adam_training_costs) + 1), adam_training_costs, label='Adam', color='r')\n",
        "plt.plot(range(1, len(sgd_training_costs) + 1), sgd_training_costs, label='SGD', color='g')\n",
        "plt.xlabel('Epochs')\n",
        "plt.ylabel('Training Cost (Loss)')\n",
        "plt.title('Validation Cost vs. Epochs for Adam and SGD')\n",
        "plt.legend()\n",
        "plt.grid(True)\n",
        "plt.show()"
      ],
      "metadata": {
        "colab": {
          "base_uri": "https://localhost:8080/",
          "height": 564
        },
        "id": "IAH11sDHT_H_",
        "outputId": "705bf0e6-c6bb-4eb7-8b1b-ea3eaa48b7c9"
      },
      "execution_count": 35,
      "outputs": [
        {
          "output_type": "display_data",
          "data": {
            "text/plain": [
              "<Figure size 1000x600 with 1 Axes>"
            ],
            "image/png": "[encoded data removed]"
          },
          "metadata": {}
        }
      ]
    },
    {
      "cell_type": "code",
      "source": [
        "# Plot training cost vs. epochs for the best optimizer\n",
        "plt.figure(figsize=(10, 6))\n",
        "plt.plot(range(1, len(history.history['loss']) + 1), history.history['loss'], label='Training Loss Best Optimiser', color='r')\n",
        "# plt.plot(range(1, len(history.history['val_loss']) + 1), history.history['val_loss'], label='Validation Loss', color='b')\n",
        "plt.xlabel('Epochs')\n",
        "plt.ylabel('Loss')\n",
        "plt.title('MNIST Logistic Regression Optuna')\n",
        "plt.legend()\n",
        "plt.grid(True)\n",
        "plt.show()"
      ],
      "metadata": {
        "colab": {
          "base_uri": "https://localhost:8080/",
          "height": 564
        },
        "id": "qssOeHB8O6ax",
        "outputId": "079a415d-f61b-4a95-e7f2-aaf350347c5f"
      },
      "execution_count": 73,
      "outputs": [
        {
          "output_type": "display_data",
          "data": {
            "text/plain": [
              "<Figure size 1000x600 with 1 Axes>"
            ],
            "image/png": "[encoded data removed]"
          },
          "metadata": {}
        }
      ]
    },
    {
      "cell_type": "markdown",
      "source": [
        "#### Observation Adam vs SGD\n",
        "As per the paper, we can also observe that fine tuned SGD with momenetum and best hyperparam values outperformed Adam, although adam is found to be the best optimizer.\n",
        "\n",
        "SGD without fine tuing and static values was not able to converge properly."
      ],
      "metadata": {
        "id": "zTyplM7A4j5w"
      }
    },
    {
      "cell_type": "markdown",
      "source": [
        "## MLP for MNIST"
      ],
      "metadata": {
        "id": "3B9JeEkNy_1h"
      }
    },
    {
      "cell_type": "code",
      "source": [
        "def objective(trial):\n",
        "\n",
        "  epochs = 45\n",
        "  # Create and compile the logistic regression model\n",
        "  optimizer_name = trial.suggest_categorical('optimizer', ['adam', 'sgd'])\n",
        "  learning_rate = trial.suggest_float('learning_rate', 1e-3, 1e-2, log=True)\n",
        "  dropout_rate = trial.suggest_float('dropout_rate', 0.5, 0.6)\n",
        "  beta_1 = trial.suggest_float('beta_1', 0.0, 0.9)  # Vary beta_1 within [0, 0.9]\n",
        "  # beta_1 = 0.9\n",
        "  # beta_2 = 0.99\n",
        "  beta_2 = trial.suggest_float('beta_2', 0.99, 0.9999)  # Vary beta_2 within [0.99, 0.9999]\n",
        "  epsilon = trial.suggest_float('epsilon', 1e-8, 1e-7)\n",
        "  # epsilon = 1e-8\n",
        "  momentum = trial.suggest_float('momentum', 0.9, 0.99)\n",
        "  # momentum = 0.9\n",
        "  l2_reg = trial.suggest_float('l2_reg', 1e-6, 1e-3, log=True)  # L2 regularization strength\n",
        "\n",
        "  # Implement the learning rate schedule for Adam\n",
        "  # def learning_rate_schedule(epoch, lr):\n",
        "      # t = epoch + 1  # Current epoch\n",
        "      # return initial_learning_rate / math.sqrt(t)\n",
        "\n",
        "  # decay_steps = len(X_train) // 128  # Adjust as needed\n",
        "  # decay_steps = epochs  # Adjust as needed\n",
        "  # lr_schedule = tf.keras.optimizers.schedules.ExponentialDecay(\n",
        "  #       learning_rate, decay_steps=decay_steps, decay_rate=1/np.sqrt(epochs), staircase=False\n",
        "  # )\n",
        "  # Define the custom learning rate scheduler\n",
        "  class CustomLRScheduler(tf.keras.callbacks.Callback):\n",
        "      def on_epoch_begin(self, epoch, logs=None):\n",
        "          new_lr = 0.001 / np.sqrt(epoch+1)\n",
        "          K.set_value(self.model.optimizer.lr, new_lr)\n",
        "          print(f'Epoch {epoch + 1}: Learning Rate = {new_lr}')\n",
        "\n",
        "  # Binary class\n",
        "  model = build_multi_layer_perceptrons_model(optimizer_name, trial, learning_rate,\n",
        "                                          beta_1, beta_2, l2_reg)\n",
        "\n",
        "  # Create a custom callback to track validation loss\n",
        "  val_loss_callback = ValidationLoss()\n",
        "  lr_scheduler_callback = CustomLRScheduler()\n",
        "\n",
        "  # Train the model\n",
        "  history = model.fit(X_train, y_train, epochs=epochs, batch_size=128,\n",
        "                      validation_data=(X_test, y_test), verbose=0,\n",
        "                      callbacks=[val_loss_callback, lr_scheduler_callback])\n",
        "\n",
        "  # Get the minimum validation loss\n",
        "  min_val_loss = min(val_loss_callback.validation_losses)\n",
        "\n",
        "  return min_val_loss"
      ],
      "metadata": {
        "id": "ebAMOClgzIPv"
      },
      "execution_count": 55,
      "outputs": []
    },
    {
      "cell_type": "code",
      "source": [
        "# Create an Optuna study\n",
        "study_mlp = optuna.create_study(direction='minimize')\n",
        "\n",
        "# Optimize hyperparameters\n",
        "# study.optimize(objective, n_trials=45)\n",
        "study_mlp.optimize(objective, n_trials=1)\n",
        "\n",
        "best_trial_mlp = study_mlp.best_trial\n",
        "\n",
        "# Print the best hyperparameters\n",
        "print(f'Best Optimizer: {best_trial_mlp.params['optimizer']}')\n",
        "print(f'Best Learning Rate: {best_trial_mlp.params['learning_rate']}')"
      ],
      "metadata": {
        "colab": {
          "base_uri": "https://localhost:8080/"
        },
        "id": "-Ak36eQs3KOx",
        "outputId": "48e2ec10-48c9-4150-cc62-49966975729a"
      },
      "execution_count": 56,
      "outputs": [
        {
          "output_type": "stream",
          "name": "stderr",
          "text": [
            "[I 2023-10-07 17:04:29,555] A new study created in memory with name: no-name-787c1035-de20-48ee-8af0-12324105ca4c\n"
          ]
        },
        {
          "output_type": "stream",
          "name": "stdout",
          "text": [
            "313/313 [==============================] - 3s 7ms/step - loss: 2.8608 - accuracy: 0.1231\n",
            "MLP - Test Loss: 2.860802412033081, Test Accuracy: 0.12309999763965607\n",
            "Epoch 1: Learning Rate = 0.001\n",
            "Epoch 2: Learning Rate = 0.0007071067811865475\n",
            "Epoch 3: Learning Rate = 0.0005773502691896258\n",
            "Epoch 4: Learning Rate = 0.0005\n",
            "Epoch 5: Learning Rate = 0.0004472135954999579\n",
            "Epoch 6: Learning Rate = 0.0004082482904638631\n",
            "Epoch 7: Learning Rate = 0.0003779644730092272\n",
            "Epoch 8: Learning Rate = 0.00035355339059327376\n",
            "Epoch 9: Learning Rate = 0.0003333333333333333\n",
            "Epoch 10: Learning Rate = 0.00031622776601683794\n",
            "Epoch 11: Learning Rate = 0.00030151134457776364\n",
            "Epoch 12: Learning Rate = 0.0002886751345948129\n",
            "Epoch 13: Learning Rate = 0.0002773500981126146\n",
            "Epoch 14: Learning Rate = 0.0002672612419124244\n",
            "Epoch 15: Learning Rate = 0.0002581988897471611\n",
            "Epoch 16: Learning Rate = 0.00025\n",
            "Epoch 17: Learning Rate = 0.000242535625036333\n",
            "Epoch 18: Learning Rate = 0.00023570226039551587\n",
            "Epoch 19: Learning Rate = 0.00022941573387056174\n",
            "Epoch 20: Learning Rate = 0.00022360679774997895\n",
            "Epoch 21: Learning Rate = 0.0002182178902359924\n",
            "Epoch 22: Learning Rate = 0.00021320071635561044\n",
            "Epoch 23: Learning Rate = 0.0002085144140570748\n",
            "Epoch 24: Learning Rate = 0.00020412414523193154\n",
            "Epoch 25: Learning Rate = 0.0002\n",
            "Epoch 26: Learning Rate = 0.00019611613513818404\n",
            "Epoch 27: Learning Rate = 0.00019245008972987527\n",
            "Epoch 28: Learning Rate = 0.0001889822365046136\n",
            "Epoch 29: Learning Rate = 0.0001856953381770519\n",
            "Epoch 30: Learning Rate = 0.00018257418583505537\n",
            "Epoch 31: Learning Rate = 0.00017960530202677493\n",
            "Epoch 32: Learning Rate = 0.00017677669529663688\n",
            "Epoch 33: Learning Rate = 0.00017407765595569785\n",
            "Epoch 34: Learning Rate = 0.00017149858514250885\n",
            "Epoch 35: Learning Rate = 0.0001690308509457033\n",
            "Epoch 36: Learning Rate = 0.00016666666666666666\n",
            "Epoch 37: Learning Rate = 0.0001643989873053573\n",
            "Epoch 38: Learning Rate = 0.00016222142113076255\n",
            "Epoch 39: Learning Rate = 0.00016012815380508712\n",
            "Epoch 40: Learning Rate = 0.00015811388300841897\n",
            "Epoch 41: Learning Rate = 0.00015617376188860606\n",
            "Epoch 42: Learning Rate = 0.00015430334996209192\n",
            "Epoch 43: Learning Rate = 0.00015249857033260467\n",
            "Epoch 44: Learning Rate = 0.00015075567228888182\n",
            "Epoch 45: Learning Rate = 0.00014907119849998598\n"
          ]
        },
        {
          "output_type": "stream",
          "name": "stderr",
          "text": [
            "[I 2023-10-07 17:20:49,866] Trial 0 finished with value: 0.09418720006942749 and parameters: {'optimizer': 'adam', 'learning_rate': 0.0030078035155307018, 'dropout_rate': 0.5360351232418614, 'beta_1': 0.060912971518701654, 'beta_2': 0.9976266796097788, 'epsilon': 3.638850233127473e-08, 'momentum': 0.9334336489509198, 'l2_reg': 0.0002975745276878929}. Best is trial 0 with value: 0.09418720006942749.\n"
          ]
        },
        {
          "output_type": "stream",
          "name": "stdout",
          "text": [
            "Best Optimizer: adam\n",
            "Best Learning Rate: 0.0030078035155307018\n"
          ]
        }
      ]
    },
    {
      "cell_type": "code",
      "source": [
        "# Get the best trial and hyperparameters\n",
        "best_optimizer_mlp = best_trial_mlp.params['optimizer']\n",
        "best_lr_mlp = best_trial_mlp.params['learning_rate']\n",
        "best_beta_1_mlp = best_trial_mlp.params['beta_1']\n",
        "best_beta_2_mlp = best_trial_mlp.params['beta_2']\n",
        "best_l2_reg_mlp = best_trial_mlp.params['l2_reg']"
      ],
      "metadata": {
        "id": "pH4QpYv5N_Di"
      },
      "execution_count": 65,
      "outputs": []
    },
    {
      "cell_type": "code",
      "source": [
        "# Retrieve and print the best hyperparameters\n",
        "best_mlp_hyperparameters = best_trial_mlp.params\n",
        "print(\"Best Hyperparameters for MLP on MNIST dataset:\")\n",
        "for param_name, param_value in best_mlp_hyperparameters.items():\n",
        "    print(f\"{param_name}: {param_value}\")"
      ],
      "metadata": {
        "colab": {
          "base_uri": "https://localhost:8080/"
        },
        "id": "9zPWD7B_C-cU",
        "outputId": "86d537fa-a9d4-4af4-bfa6-a0d5f81c0ce7"
      },
      "execution_count": 66,
      "outputs": [
        {
          "output_type": "stream",
          "name": "stdout",
          "text": [
            "Best Hyperparameters for MLP on MNIST dataset:\n",
            "optimizer: adam\n",
            "learning_rate: 0.0030078035155307018\n",
            "dropout_rate: 0.5360351232418614\n",
            "beta_1: 0.060912971518701654\n",
            "beta_2: 0.9976266796097788\n",
            "epsilon: 3.638850233127473e-08\n",
            "momentum: 0.9334336489509198\n",
            "l2_reg: 0.0002975745276878929\n"
          ]
        }
      ]
    },
    {
      "cell_type": "code",
      "source": [
        "if best_optimizer_mlp == 'adam':\n",
        "  # Build and train the final model with the best hyperparameters\n",
        "  best_model = build_multi_layer_perceptrons_model(best_optimizer_mlp, best_trial_mlp, best_lr_mlp,\n",
        "                                          best_beta_1_mlp, best_beta_2_mlp, best_l2_reg_mlp)\n",
        "  history = best_model.fit(X_train, y_train, epochs=45, batch_size=128,\n",
        "                        validation_data=(X_test, y_test), verbose=1)\n",
        "\n",
        "  sgd_model = build_multi_layer_perceptrons_model(\"sgd\", best_trial_mlp, best_lr_mlp,\n",
        "                                          best_beta_1_mlp, best_beta_2_mlp, best_l2_reg_mlp)\n",
        "\n",
        "  sgd_history = best_model.fit(X_train, y_train, epochs=45, batch_size=128,\n",
        "                        validation_data=(X_test, y_test), verbose=1)\n",
        "\n",
        "  adam_training_mlp_costs = history.history['loss']\n",
        "  sgd_training_mlp_costs = sgd_history.history['loss']\n",
        "\n",
        "elif best_optimizer_mlp == 'sgd':\n",
        "  # Build and train the final model with the best hyperparameters\n",
        "  best_model = build_multi_layer_perceptrons_model(best_optimizer_mlp, best_trial_mlp, best_lr_mlp,\n",
        "                                          best_beta_1_mlp, best_beta_2_mlp, best_l2_reg_mlp)\n",
        "  history = best_model.fit(X_train, y_train, epochs=45, batch_size=128,\n",
        "                        validation_data=(X_test, y_test), verbose=1)\n",
        "\n",
        "  adam_model = build_multi_layer_perceptrons_model(\"adam\", best_trial_mlp, best_lr_mlp,\n",
        "                                          best_beta_1_mlp, best_beta_2_mlp, best_l2_reg_mlp)\n",
        "\n",
        "  adam_history = best_model.fit(X_train, y_train, epochs=45, batch_size=128,\n",
        "                        validation_data=(X_test, y_test), verbose=1)\n",
        "\n",
        "  adam_training_mlp_costs = adam_history.history['loss']\n",
        "  sgd_training_mlp_costs = history.history['loss']\n",
        "else:\n",
        "    raise ValueError(\"Invalid optimizer name\")"
      ],
      "metadata": {
        "colab": {
          "base_uri": "https://localhost:8080/"
        },
        "id": "DakU7T_XDiMi",
        "outputId": "ce75c7ca-ab34-49b2-9310-17d440811df3"
      },
      "execution_count": 67,
      "outputs": [
        {
          "output_type": "stream",
          "name": "stdout",
          "text": [
            "313/313 [==============================] - 2s 7ms/step - loss: 2.8757 - accuracy: 0.1132\n",
            "MLP - Test Loss: 2.875709295272827, Test Accuracy: 0.11320000141859055\n",
            "Epoch 1/45\n",
            "469/469 [==============================] - 26s 54ms/step - loss: 0.7132 - accuracy: 0.8874 - val_loss: 0.5101 - val_accuracy: 0.9366\n",
            "Epoch 2/45\n",
            "469/469 [==============================] - 26s 56ms/step - loss: 0.5590 - accuracy: 0.9297 - val_loss: 0.4724 - val_accuracy: 0.9583\n",
            "Epoch 3/45\n",
            "469/469 [==============================] - 25s 53ms/step - loss: 0.5420 - accuracy: 0.9342 - val_loss: 0.4637 - val_accuracy: 0.9556\n",
            "Epoch 4/45\n",
            "469/469 [==============================] - 26s 56ms/step - loss: 0.5211 - accuracy: 0.9354 - val_loss: 0.4258 - val_accuracy: 0.9644\n",
            "Epoch 5/45\n",
            "469/469 [==============================] - 25s 53ms/step - loss: 0.5112 - accuracy: 0.9371 - val_loss: 0.6212 - val_accuracy: 0.8941\n",
            "Epoch 6/45\n",
            "469/469 [==============================] - 24s 52ms/step - loss: 0.4963 - accuracy: 0.9370 - val_loss: 0.3926 - val_accuracy: 0.9665\n",
            "Epoch 7/45\n",
            "469/469 [==============================] - 24s 52ms/step - loss: 0.4815 - accuracy: 0.9392 - val_loss: 0.3873 - val_accuracy: 0.9624\n",
            "Epoch 8/45\n",
            "469/469 [==============================] - 25s 53ms/step - loss: 0.4706 - accuracy: 0.9383 - val_loss: 0.3799 - val_accuracy: 0.9636\n",
            "Epoch 9/45\n",
            "469/469 [==============================] - 25s 53ms/step - loss: 0.4564 - accuracy: 0.9398 - val_loss: 0.3730 - val_accuracy: 0.9604\n",
            "Epoch 10/45\n",
            "469/469 [==============================] - 26s 56ms/step - loss: 0.4603 - accuracy: 0.9374 - val_loss: 0.3710 - val_accuracy: 0.9609\n",
            "Epoch 11/45\n",
            "469/469 [==============================] - 26s 55ms/step - loss: 0.4460 - accuracy: 0.9406 - val_loss: 0.3527 - val_accuracy: 0.9663\n",
            "Epoch 12/45\n",
            "469/469 [==============================] - 25s 54ms/step - loss: 0.4398 - accuracy: 0.9394 - val_loss: 0.3958 - val_accuracy: 0.9463\n",
            "Epoch 13/45\n",
            "469/469 [==============================] - 25s 54ms/step - loss: 0.4319 - accuracy: 0.9408 - val_loss: 0.3437 - val_accuracy: 0.9657\n",
            "Epoch 14/45\n",
            "469/469 [==============================] - 25s 53ms/step - loss: 0.4308 - accuracy: 0.9395 - val_loss: 0.4081 - val_accuracy: 0.9442\n",
            "Epoch 15/45\n",
            "469/469 [==============================] - 25s 53ms/step - loss: 0.4303 - accuracy: 0.9398 - val_loss: 0.3360 - val_accuracy: 0.9668\n",
            "Epoch 16/45\n",
            "469/469 [==============================] - 25s 53ms/step - loss: 0.4250 - accuracy: 0.9397 - val_loss: 0.3357 - val_accuracy: 0.9679\n",
            "Epoch 17/45\n",
            "469/469 [==============================] - 24s 51ms/step - loss: 0.4230 - accuracy: 0.9403 - val_loss: 0.3242 - val_accuracy: 0.9671\n",
            "Epoch 18/45\n",
            "469/469 [==============================] - 26s 55ms/step - loss: 0.4183 - accuracy: 0.9413 - val_loss: 0.3210 - val_accuracy: 0.9675\n",
            "Epoch 19/45\n",
            "469/469 [==============================] - 27s 58ms/step - loss: 0.4210 - accuracy: 0.9395 - val_loss: 0.3308 - val_accuracy: 0.9651\n",
            "Epoch 20/45\n",
            "469/469 [==============================] - 26s 55ms/step - loss: 0.4110 - accuracy: 0.9406 - val_loss: 0.3173 - val_accuracy: 0.9683\n",
            "Epoch 21/45\n",
            "469/469 [==============================] - 25s 53ms/step - loss: 0.4126 - accuracy: 0.9403 - val_loss: 0.3296 - val_accuracy: 0.9641\n",
            "Epoch 22/45\n",
            "469/469 [==============================] - 24s 51ms/step - loss: 0.4070 - accuracy: 0.9412 - val_loss: 0.3169 - val_accuracy: 0.9673\n",
            "Epoch 23/45\n",
            "469/469 [==============================] - 25s 54ms/step - loss: 0.4097 - accuracy: 0.9403 - val_loss: 0.3225 - val_accuracy: 0.9641\n",
            "Epoch 24/45\n",
            "469/469 [==============================] - 25s 54ms/step - loss: 0.4015 - accuracy: 0.9404 - val_loss: 0.3357 - val_accuracy: 0.9612\n",
            "Epoch 25/45\n",
            "469/469 [==============================] - 26s 56ms/step - loss: 0.4038 - accuracy: 0.9396 - val_loss: 0.3214 - val_accuracy: 0.9629\n",
            "Epoch 26/45\n",
            "469/469 [==============================] - 25s 53ms/step - loss: 0.4026 - accuracy: 0.9404 - val_loss: 0.3140 - val_accuracy: 0.9648\n",
            "Epoch 27/45\n",
            "469/469 [==============================] - 26s 56ms/step - loss: 0.4002 - accuracy: 0.9403 - val_loss: 0.3239 - val_accuracy: 0.9624\n",
            "Epoch 28/45\n",
            "469/469 [==============================] - 25s 53ms/step - loss: 0.4029 - accuracy: 0.9394 - val_loss: 0.3062 - val_accuracy: 0.9671\n",
            "Epoch 29/45\n",
            "469/469 [==============================] - 25s 54ms/step - loss: 0.4000 - accuracy: 0.9406 - val_loss: 0.3217 - val_accuracy: 0.9630\n",
            "Epoch 30/45\n",
            "469/469 [==============================] - 25s 53ms/step - loss: 0.3996 - accuracy: 0.9399 - val_loss: 0.3032 - val_accuracy: 0.9677\n",
            "Epoch 31/45\n",
            "469/469 [==============================] - 25s 54ms/step - loss: 0.3951 - accuracy: 0.9413 - val_loss: 0.2953 - val_accuracy: 0.9685\n",
            "Epoch 32/45\n",
            "469/469 [==============================] - 25s 53ms/step - loss: 0.4003 - accuracy: 0.9400 - val_loss: 0.3171 - val_accuracy: 0.9634\n",
            "Epoch 33/45\n",
            "469/469 [==============================] - 25s 54ms/step - loss: 0.3966 - accuracy: 0.9406 - val_loss: 0.3461 - val_accuracy: 0.9507\n",
            "Epoch 34/45\n",
            "469/469 [==============================] - 27s 58ms/step - loss: 0.3946 - accuracy: 0.9410 - val_loss: 0.3108 - val_accuracy: 0.9626\n",
            "Epoch 35/45\n",
            "469/469 [==============================] - 25s 53ms/step - loss: 0.3970 - accuracy: 0.9407 - val_loss: 0.3194 - val_accuracy: 0.9623\n",
            "Epoch 36/45\n",
            "469/469 [==============================] - 24s 52ms/step - loss: 0.3931 - accuracy: 0.9419 - val_loss: 0.3198 - val_accuracy: 0.9622\n",
            "Epoch 37/45\n",
            "469/469 [==============================] - 25s 53ms/step - loss: 0.3967 - accuracy: 0.9398 - val_loss: 0.3090 - val_accuracy: 0.9645\n",
            "Epoch 38/45\n",
            "469/469 [==============================] - 25s 54ms/step - loss: 0.3998 - accuracy: 0.9384 - val_loss: 0.3095 - val_accuracy: 0.9644\n",
            "Epoch 39/45\n",
            "469/469 [==============================] - 25s 53ms/step - loss: 0.3903 - accuracy: 0.9413 - val_loss: 0.2980 - val_accuracy: 0.9672\n",
            "Epoch 40/45\n",
            "469/469 [==============================] - 25s 53ms/step - loss: 0.3931 - accuracy: 0.9400 - val_loss: 0.3074 - val_accuracy: 0.9656\n",
            "Epoch 41/45\n",
            "469/469 [==============================] - 26s 55ms/step - loss: 0.3909 - accuracy: 0.9408 - val_loss: 0.3161 - val_accuracy: 0.9610\n",
            "Epoch 42/45\n",
            "469/469 [==============================] - 26s 56ms/step - loss: 0.3930 - accuracy: 0.9396 - val_loss: 0.2994 - val_accuracy: 0.9658\n",
            "Epoch 43/45\n",
            "469/469 [==============================] - 25s 53ms/step - loss: 0.3904 - accuracy: 0.9406 - val_loss: 0.3048 - val_accuracy: 0.9629\n",
            "Epoch 44/45\n",
            "469/469 [==============================] - 25s 53ms/step - loss: 0.3905 - accuracy: 0.9421 - val_loss: 0.3040 - val_accuracy: 0.9643\n",
            "Epoch 45/45\n",
            "469/469 [==============================] - 25s 53ms/step - loss: 0.3900 - accuracy: 0.9405 - val_loss: 0.3367 - val_accuracy: 0.9508\n",
            "313/313 [==============================] - 2s 7ms/step - loss: 2.8859 - accuracy: 0.0774\n",
            "MLP - Test Loss: 2.8858821392059326, Test Accuracy: 0.07739999890327454\n",
            "Epoch 1/45\n",
            "469/469 [==============================] - 26s 55ms/step - loss: 0.3926 - accuracy: 0.9404 - val_loss: 0.2854 - val_accuracy: 0.9686\n",
            "Epoch 2/45\n",
            "469/469 [==============================] - 25s 54ms/step - loss: 0.3850 - accuracy: 0.9415 - val_loss: 0.3204 - val_accuracy: 0.9565\n",
            "Epoch 3/45\n",
            "469/469 [==============================] - 28s 59ms/step - loss: 0.3850 - accuracy: 0.9411 - val_loss: 0.3393 - val_accuracy: 0.9529\n",
            "Epoch 4/45\n",
            "469/469 [==============================] - 27s 57ms/step - loss: 0.3899 - accuracy: 0.9389 - val_loss: 0.3188 - val_accuracy: 0.9615\n",
            "Epoch 5/45\n",
            "469/469 [==============================] - 25s 54ms/step - loss: 0.3902 - accuracy: 0.9405 - val_loss: 0.2931 - val_accuracy: 0.9673\n",
            "Epoch 6/45\n",
            "469/469 [==============================] - 26s 55ms/step - loss: 0.3882 - accuracy: 0.9402 - val_loss: 0.3583 - val_accuracy: 0.9481\n",
            "Epoch 7/45\n",
            "469/469 [==============================] - 25s 54ms/step - loss: 0.3882 - accuracy: 0.9401 - val_loss: 0.3192 - val_accuracy: 0.9613\n",
            "Epoch 8/45\n",
            "469/469 [==============================] - 26s 55ms/step - loss: 0.3878 - accuracy: 0.9397 - val_loss: 0.2892 - val_accuracy: 0.9677\n",
            "Epoch 9/45\n",
            "469/469 [==============================] - 25s 54ms/step - loss: 0.3825 - accuracy: 0.9414 - val_loss: 0.2974 - val_accuracy: 0.9656\n",
            "Epoch 10/45\n",
            "469/469 [==============================] - 25s 53ms/step - loss: 0.3872 - accuracy: 0.9402 - val_loss: 0.2849 - val_accuracy: 0.9714\n",
            "Epoch 11/45\n",
            "469/469 [==============================] - 26s 56ms/step - loss: 0.3853 - accuracy: 0.9413 - val_loss: 0.2769 - val_accuracy: 0.9707\n",
            "Epoch 12/45\n",
            "469/469 [==============================] - 27s 57ms/step - loss: 0.3850 - accuracy: 0.9396 - val_loss: 0.3021 - val_accuracy: 0.9623\n",
            "Epoch 13/45\n",
            "469/469 [==============================] - 27s 57ms/step - loss: 0.3843 - accuracy: 0.9402 - val_loss: 0.3128 - val_accuracy: 0.9605\n",
            "Epoch 14/45\n",
            "469/469 [==============================] - 25s 54ms/step - loss: 0.3856 - accuracy: 0.9393 - val_loss: 0.2833 - val_accuracy: 0.9685\n",
            "Epoch 15/45\n",
            "469/469 [==============================] - 27s 57ms/step - loss: 0.3817 - accuracy: 0.9399 - val_loss: 0.2909 - val_accuracy: 0.9680\n",
            "Epoch 16/45\n",
            "469/469 [==============================] - 25s 54ms/step - loss: 0.3819 - accuracy: 0.9421 - val_loss: 0.2959 - val_accuracy: 0.9657\n",
            "Epoch 17/45\n",
            "469/469 [==============================] - 25s 54ms/step - loss: 0.3861 - accuracy: 0.9401 - val_loss: 0.2931 - val_accuracy: 0.9638\n",
            "Epoch 18/45\n",
            "469/469 [==============================] - 27s 58ms/step - loss: 0.3862 - accuracy: 0.9386 - val_loss: 0.3037 - val_accuracy: 0.9617\n",
            "Epoch 19/45\n",
            "469/469 [==============================] - 26s 55ms/step - loss: 0.3804 - accuracy: 0.9410 - val_loss: 0.2887 - val_accuracy: 0.9671\n",
            "Epoch 20/45\n",
            "469/469 [==============================] - 24s 52ms/step - loss: 0.3819 - accuracy: 0.9406 - val_loss: 0.3061 - val_accuracy: 0.9599\n",
            "Epoch 21/45\n",
            "469/469 [==============================] - 25s 53ms/step - loss: 0.3834 - accuracy: 0.9407 - val_loss: 0.2874 - val_accuracy: 0.9670\n",
            "Epoch 22/45\n",
            "469/469 [==============================] - 25s 53ms/step - loss: 0.3793 - accuracy: 0.9411 - val_loss: 0.2875 - val_accuracy: 0.9675\n",
            "Epoch 23/45\n",
            "469/469 [==============================] - 26s 55ms/step - loss: 0.3846 - accuracy: 0.9395 - val_loss: 0.2902 - val_accuracy: 0.9669\n",
            "Epoch 24/45\n",
            "469/469 [==============================] - 25s 54ms/step - loss: 0.3828 - accuracy: 0.9400 - val_loss: 0.2862 - val_accuracy: 0.9680\n",
            "Epoch 25/45\n",
            "469/469 [==============================] - 25s 54ms/step - loss: 0.3789 - accuracy: 0.9404 - val_loss: 0.2853 - val_accuracy: 0.9695\n",
            "Epoch 26/45\n",
            "469/469 [==============================] - 28s 59ms/step - loss: 0.3794 - accuracy: 0.9406 - val_loss: 0.3076 - val_accuracy: 0.9603\n",
            "Epoch 27/45\n",
            "469/469 [==============================] - 25s 53ms/step - loss: 0.3766 - accuracy: 0.9413 - val_loss: 0.2909 - val_accuracy: 0.9661\n",
            "Epoch 28/45\n",
            "469/469 [==============================] - 25s 54ms/step - loss: 0.3807 - accuracy: 0.9406 - val_loss: 0.2988 - val_accuracy: 0.9643\n",
            "Epoch 29/45\n",
            "469/469 [==============================] - 25s 53ms/step - loss: 0.3811 - accuracy: 0.9398 - val_loss: 0.2885 - val_accuracy: 0.9656\n",
            "Epoch 30/45\n",
            "469/469 [==============================] - 25s 54ms/step - loss: 0.3774 - accuracy: 0.9409 - val_loss: 0.2889 - val_accuracy: 0.9685\n",
            "Epoch 31/45\n",
            "469/469 [==============================] - 25s 54ms/step - loss: 0.3790 - accuracy: 0.9405 - val_loss: 0.3330 - val_accuracy: 0.9525\n",
            "Epoch 32/45\n",
            "469/469 [==============================] - 25s 54ms/step - loss: 0.3753 - accuracy: 0.9416 - val_loss: 0.2809 - val_accuracy: 0.9685\n",
            "Epoch 33/45\n",
            "469/469 [==============================] - 25s 54ms/step - loss: 0.3835 - accuracy: 0.9403 - val_loss: 0.2862 - val_accuracy: 0.9661\n",
            "Epoch 34/45\n",
            "469/469 [==============================] - 26s 55ms/step - loss: 0.3815 - accuracy: 0.9407 - val_loss: 0.3038 - val_accuracy: 0.9611\n",
            "Epoch 35/45\n",
            "469/469 [==============================] - 25s 54ms/step - loss: 0.3776 - accuracy: 0.9409 - val_loss: 0.2876 - val_accuracy: 0.9649\n",
            "Epoch 36/45\n",
            "469/469 [==============================] - 26s 56ms/step - loss: 0.3746 - accuracy: 0.9408 - val_loss: 0.2952 - val_accuracy: 0.9633\n",
            "Epoch 37/45\n",
            "469/469 [==============================] - 25s 54ms/step - loss: 0.3852 - accuracy: 0.9384 - val_loss: 0.2780 - val_accuracy: 0.9691\n",
            "Epoch 38/45\n",
            "469/469 [==============================] - 25s 54ms/step - loss: 0.3797 - accuracy: 0.9404 - val_loss: 0.2837 - val_accuracy: 0.9679\n",
            "Epoch 39/45\n",
            "469/469 [==============================] - 26s 55ms/step - loss: 0.3780 - accuracy: 0.9406 - val_loss: 0.2946 - val_accuracy: 0.9663\n",
            "Epoch 40/45\n",
            "469/469 [==============================] - 27s 57ms/step - loss: 0.3742 - accuracy: 0.9418 - val_loss: 0.3146 - val_accuracy: 0.9569\n",
            "Epoch 41/45\n",
            "469/469 [==============================] - 27s 57ms/step - loss: 0.3797 - accuracy: 0.9392 - val_loss: 0.2994 - val_accuracy: 0.9647\n",
            "Epoch 42/45\n",
            "469/469 [==============================] - 26s 55ms/step - loss: 0.3762 - accuracy: 0.9405 - val_loss: 0.2915 - val_accuracy: 0.9641\n",
            "Epoch 43/45\n",
            "469/469 [==============================] - 25s 53ms/step - loss: 0.3821 - accuracy: 0.9399 - val_loss: 0.3059 - val_accuracy: 0.9576\n",
            "Epoch 44/45\n",
            "469/469 [==============================] - 26s 55ms/step - loss: 0.3769 - accuracy: 0.9396 - val_loss: 0.2950 - val_accuracy: 0.9632\n",
            "Epoch 45/45\n",
            "469/469 [==============================] - 25s 54ms/step - loss: 0.3798 - accuracy: 0.9401 - val_loss: 0.3024 - val_accuracy: 0.9597\n"
          ]
        }
      ]
    },
    {
      "cell_type": "code",
      "source": [
        "print(adam_training_mlp_costs)\n",
        "print(sgd_training_mlp_costs)"
      ],
      "metadata": {
        "colab": {
          "base_uri": "https://localhost:8080/"
        },
        "id": "ufawNEocdT3D",
        "outputId": "f6946dd8-acf1-4063-b477-0d67b14424be"
      },
      "execution_count": 71,
      "outputs": [
        {
          "output_type": "stream",
          "name": "stdout",
          "text": [
            "[0.713222861289978, 0.5590003728866577, 0.5419694781303406, 0.5210512280464172, 0.5112354755401611, 0.49628153443336487, 0.48153743147850037, 0.4705853760242462, 0.45636844635009766, 0.4602936804294586, 0.4459739029407501, 0.43979865312576294, 0.43190616369247437, 0.43080469965934753, 0.430274099111557, 0.4249860942363739, 0.4229927659034729, 0.418302983045578, 0.4210262894630432, 0.41097506880760193, 0.41261979937553406, 0.4070376753807068, 0.4096870422363281, 0.4014561176300049, 0.40378621220588684, 0.40258780121803284, 0.40015605092048645, 0.40293174982070923, 0.3999958038330078, 0.39957892894744873, 0.39513319730758667, 0.4003044366836548, 0.39664241671562195, 0.3946174681186676, 0.39701932668685913, 0.39308348298072815, 0.3966973125934601, 0.3998142182826996, 0.39033371210098267, 0.39313000440597534, 0.3908863961696625, 0.39301759004592896, 0.3904017508029938, 0.3904514014720917, 0.3899695575237274]\n",
            "[0.3926064074039459, 0.38499772548675537, 0.38499656319618225, 0.38994643092155457, 0.39022672176361084, 0.3882436752319336, 0.3881559669971466, 0.3877656161785126, 0.382520467042923, 0.38719266653060913, 0.38529345393180847, 0.384971022605896, 0.38425472378730774, 0.3855842649936676, 0.38170334696769714, 0.3819020688533783, 0.3861245810985565, 0.3862023651599884, 0.3803958296775818, 0.38191646337509155, 0.38342034816741943, 0.3792942762374878, 0.38457125425338745, 0.3827972710132599, 0.37893185019493103, 0.3793991208076477, 0.37657099962234497, 0.3807166814804077, 0.3810654580593109, 0.37735068798065186, 0.37896648049354553, 0.3752952218055725, 0.38350605964660645, 0.38148537278175354, 0.37762027978897095, 0.37458497285842896, 0.3851820230484009, 0.3796778917312622, 0.37798869609832764, 0.37419936060905457, 0.3796813488006592, 0.3762228190898895, 0.38207679986953735, 0.37692052125930786, 0.37983372807502747]\n"
          ]
        }
      ]
    },
    {
      "cell_type": "code",
      "source": [
        "# Plot training cost vs. epochs for both optimizers\n",
        "plt.figure(figsize=(10, 6))\n",
        "plt.plot(range(1, len(adam_training_mlp_costs) + 1), adam_training_mlp_costs, label='Adam', color='r')\n",
        "plt.plot(range(1, len(sgd_training_mlp_costs) + 1), sgd_training_mlp_costs, label='SGD', color='g')\n",
        "plt.xlabel('Epochs')\n",
        "plt.ylabel('Training Cost (Loss)')\n",
        "plt.title('MNIST Multilayer Neural Network + dropout')\n",
        "plt.legend()\n",
        "plt.grid(True)\n",
        "plt.show()"
      ],
      "metadata": {
        "colab": {
          "base_uri": "https://localhost:8080/",
          "height": 564
        },
        "id": "kX7DmgmKEEW2",
        "outputId": "dfb8cc27-d496-4a91-fc82-d852937b6537"
      },
      "execution_count": 69,
      "outputs": [
        {
          "output_type": "display_data",
          "data": {
            "text/plain": [
              "<Figure size 1000x600 with 1 Axes>"
            ],
            "image/png": "[encoded data removed]"
          },
          "metadata": {}
        }
      ]
    },
    {
      "cell_type": "markdown",
      "source": [
        "# IMDB Dataset"
      ],
      "metadata": {
        "id": "93JEGAMav4rI"
      }
    },
    {
      "cell_type": "markdown",
      "source": [
        "## Log Reg for IMDB\n"
      ],
      "metadata": {
        "id": "Z9afIrGIyMFA"
      }
    },
    {
      "cell_type": "code",
      "source": [
        "print(type(x_train_bow), type(x_test_bow))"
      ],
      "metadata": {
        "colab": {
          "base_uri": "https://localhost:8080/"
        },
        "id": "P_siNX2nyl0W",
        "outputId": "af94e975-0e82-42c4-cd79-c0484bdf6024"
      },
      "execution_count": 38,
      "outputs": [
        {
          "output_type": "stream",
          "name": "stdout",
          "text": [
            "<class 'scipy.sparse._csr.csr_matrix'> <class 'scipy.sparse._csr.csr_matrix'>\n"
          ]
        }
      ]
    },
    {
      "cell_type": "code",
      "source": [
        "from scipy.sparse import csr_matrix\n",
        "\n",
        "x_train_bow = tf.convert_to_tensor(x_train_bow.toarray(), dtype=tf.float32)\n",
        "x_test_bow = tf.convert_to_tensor(x_test_bow.toarray(), dtype=tf.float32)"
      ],
      "metadata": {
        "id": "ZO3sCdWLoe7d"
      },
      "execution_count": 39,
      "outputs": []
    },
    {
      "cell_type": "code",
      "source": [
        "# Preprocess the data (pad sequences to a fixed length)\n",
        "from keras.preprocessing.sequence import pad_sequences\n",
        "# max_length = 200  # You can adjust this as needed\n",
        "max_length = max(len(sample) for sample in x_train_bow)\n",
        "x_train_bow = pad_sequences(x_train_bow, maxlen=max_length, padding='post')"
      ],
      "metadata": {
        "id": "jIyVHEhA0llD"
      },
      "execution_count": 40,
      "outputs": []
    },
    {
      "cell_type": "code",
      "source": [
        "x_test_bow = pad_sequences(x_test_bow, maxlen=max_length, padding='post')"
      ],
      "metadata": {
        "id": "rKyai62t1bhD"
      },
      "execution_count": 41,
      "outputs": []
    },
    {
      "cell_type": "code",
      "source": [
        "print(np.where(x_train_bow != 0.0))\n",
        "print(np.where(x_test_bow != 0.0))"
      ],
      "metadata": {
        "colab": {
          "base_uri": "https://localhost:8080/"
        },
        "id": "h9luVm-QpXaY",
        "outputId": "e869d746-c23e-4ffe-8865-a4ccff881f5c"
      },
      "execution_count": 42,
      "outputs": [
        {
          "output_type": "stream",
          "name": "stdout",
          "text": [
            "(array([    0,     0,     0, ..., 24999, 24999, 24999]), array([ 230,  312,  387, ..., 9541, 9632, 9668]))\n",
            "(array([    0,     0,     0, ..., 24999, 24999, 24999]), array([ 387,  400,  405, ..., 9444, 9587, 9696]))\n"
          ]
        }
      ]
    },
    {
      "cell_type": "code",
      "source": [
        "def objective(trial):\n",
        "\n",
        "  epochs = 45\n",
        "  # Create and compile the logistic regression model\n",
        "  optimizer_name = trial.suggest_categorical('optimizer', ['adam', 'sgd'])\n",
        "  learning_rate = trial.suggest_float('learning_rate', 1e-3, 1e-2, log=True)\n",
        "  # dropout_rate = trial.suggest_float('dropout_rate', 0.0, 0.5)\n",
        "  beta_1 = trial.suggest_float('beta_1', 0.0, 0.9)  # Vary beta_1 within [0, 0.9]\n",
        "  beta_2 = trial.suggest_float('beta_2', 0.99, 0.9999)  # Vary beta_2 within [0.99, 0.9999]\n",
        "  decay = trial.suggest_float('decay', 1e-6, 1e-2, log=True)\n",
        "  decay_steps = trial.suggest_int('decay_steps', 1, len(x_train_bow) // 128)\n",
        "  epsilon = trial.suggest_float('epsilon', 1e-9, 1e-7)\n",
        "  momentum = trial.suggest_float('momentum', 0.9, 0.99)\n",
        "\n",
        "  # Binary class\n",
        "  model = build_logistic_regression_bin_model(optimizer_name, trial, learning_rate,\n",
        "                                          beta_1, beta_2)\n",
        "\n",
        "  # Define the custom learning rate scheduler\n",
        "  class CustomLRScheduler(tf.keras.callbacks.Callback):\n",
        "      def on_epoch_begin(self, epoch, logs=None):\n",
        "          new_lr = 0.001 / np.sqrt(epoch+1)\n",
        "          K.set_value(self.model.optimizer.lr, new_lr)\n",
        "          print(f'Epoch {epoch + 1}: Learning Rate = {new_lr}')\n",
        "\n",
        "  # Create a custom callback to track validation loss\n",
        "  val_loss_callback = ValidationLoss()\n",
        "  lr_scheduler = CustomLRScheduler()\n",
        "\n",
        "  # Train the model\n",
        "  history = model.fit(x_train_bow, y_train_bow, epochs=epochs, batch_size=128,\n",
        "                      validation_data=(x_test_bow, y_test_bow), verbose=0,\n",
        "                      callbacks=[val_loss_callback, lr_scheduler])\n",
        "\n",
        "  # Get the minimum validation loss\n",
        "  min_val_loss = min(val_loss_callback.validation_losses)\n",
        "\n",
        "  return min_val_loss"
      ],
      "metadata": {
        "id": "Da186VSJv1ID"
      },
      "execution_count": 43,
      "outputs": []
    },
    {
      "cell_type": "code",
      "source": [
        "# Create an Optuna study\n",
        "study_lg_imdb = optuna.create_study(direction='minimize')\n",
        "\n",
        "# Optimize hyperparameters\n",
        "# study.optimize(objective, n_trials=45)\n",
        "study_lg_imdb.optimize(objective, n_trials=1)\n",
        "\n",
        "# Get the best trial and hyperparameters\n",
        "best_trial_lg_imdb = study_lg_imdb.best_trial\n",
        "best_optimizer_lg_imdb = best_trial_lg_imdb.params['optimizer']\n",
        "best_lr_lg_imdb = best_trial_lg_imdb.params['learning_rate']\n",
        "best_beta_1_lg_imdb = best_trial_lg_imdb.params['beta_1']\n",
        "best_beta_2_lg_imdb = best_trial_lg_imdb.params['beta_2']\n",
        "\n",
        "# Print the best hyperparameters\n",
        "print(f'Best Optimizer: {best_optimizer_lg_imdb}')\n",
        "print(f'Best Learning Rate: {best_lr_lg_imdb}')"
      ],
      "metadata": {
        "colab": {
          "base_uri": "https://localhost:8080/"
        },
        "id": "ixe-XOPGP3s5",
        "outputId": "81763a5f-f93c-405a-b6c6-49f5e34a0394"
      },
      "execution_count": 44,
      "outputs": [
        {
          "output_type": "stream",
          "name": "stderr",
          "text": [
            "[I 2023-10-07 16:17:37,146] A new study created in memory with name: no-name-a55ef85f-53e1-4f62-8a73-8215047b2c2c\n"
          ]
        },
        {
          "output_type": "stream",
          "name": "stdout",
          "text": [
            "Epoch 1: Learning Rate = 1.0\n",
            "Epoch 2: Learning Rate = 0.7071067811865475\n",
            "Epoch 3: Learning Rate = 0.5773502691896258\n",
            "Epoch 4: Learning Rate = 0.5\n",
            "Epoch 5: Learning Rate = 0.4472135954999579\n",
            "Epoch 6: Learning Rate = 0.4082482904638631\n",
            "Epoch 7: Learning Rate = 0.3779644730092272\n",
            "Epoch 8: Learning Rate = 0.35355339059327373\n",
            "Epoch 9: Learning Rate = 0.3333333333333333\n",
            "Epoch 10: Learning Rate = 0.31622776601683794\n",
            "Epoch 11: Learning Rate = 0.30151134457776363\n",
            "Epoch 12: Learning Rate = 0.2886751345948129\n",
            "Epoch 13: Learning Rate = 0.2773500981126146\n",
            "Epoch 14: Learning Rate = 0.2672612419124244\n",
            "Epoch 15: Learning Rate = 0.2581988897471611\n",
            "Epoch 16: Learning Rate = 0.25\n",
            "Epoch 17: Learning Rate = 0.24253562503633297\n",
            "Epoch 18: Learning Rate = 0.23570226039551587\n",
            "Epoch 19: Learning Rate = 0.22941573387056174\n",
            "Epoch 20: Learning Rate = 0.22360679774997896\n",
            "Epoch 21: Learning Rate = 0.2182178902359924\n",
            "Epoch 22: Learning Rate = 0.21320071635561041\n",
            "Epoch 23: Learning Rate = 0.20851441405707477\n",
            "Epoch 24: Learning Rate = 0.20412414523193154\n",
            "Epoch 25: Learning Rate = 0.2\n",
            "Epoch 26: Learning Rate = 0.19611613513818404\n",
            "Epoch 27: Learning Rate = 0.19245008972987526\n",
            "Epoch 28: Learning Rate = 0.1889822365046136\n",
            "Epoch 29: Learning Rate = 0.18569533817705186\n",
            "Epoch 30: Learning Rate = 0.18257418583505536\n",
            "Epoch 31: Learning Rate = 0.1796053020267749\n",
            "Epoch 32: Learning Rate = 0.17677669529663687\n",
            "Epoch 33: Learning Rate = 0.17407765595569785\n",
            "Epoch 34: Learning Rate = 0.17149858514250882\n",
            "Epoch 35: Learning Rate = 0.1690308509457033\n",
            "Epoch 36: Learning Rate = 0.16666666666666666\n",
            "Epoch 37: Learning Rate = 0.1643989873053573\n",
            "Epoch 38: Learning Rate = 0.16222142113076254\n",
            "Epoch 39: Learning Rate = 0.16012815380508713\n",
            "Epoch 40: Learning Rate = 0.15811388300841897\n",
            "Epoch 41: Learning Rate = 0.15617376188860607\n",
            "Epoch 42: Learning Rate = 0.1543033499620919\n",
            "Epoch 43: Learning Rate = 0.15249857033260467\n",
            "Epoch 44: Learning Rate = 0.15075567228888181\n",
            "Epoch 45: Learning Rate = 0.14907119849998599\n"
          ]
        },
        {
          "output_type": "stream",
          "name": "stderr",
          "text": [
            "[I 2023-10-07 16:21:01,549] Trial 0 finished with value: 16.59992790222168 and parameters: {'optimizer': 'sgd', 'learning_rate': 0.0060180060264529685, 'beta_1': 0.3629224874118513, 'beta_2': 0.9984999619973528, 'decay': 0.004870768621823307, 'decay_steps': 185, 'epsilon': 3.188656906213701e-08, 'momentum': 0.9852339755385909}. Best is trial 0 with value: 16.59992790222168.\n"
          ]
        },
        {
          "output_type": "stream",
          "name": "stdout",
          "text": [
            "Best Optimizer: sgd\n",
            "Best Learning Rate: 0.0060180060264529685\n"
          ]
        }
      ]
    },
    {
      "cell_type": "code",
      "source": [
        "# Build and train the final model with the best hyperparameters\n",
        "best_model_lg_imdb = build_logistic_regression_bin_model(best_optimizer_lg_imdb, best_trial_lg_imdb, best_lr_lg_imdb,\n",
        "                                             best_beta_1_lg_imdb, best_beta_2_lg_imdb)\n",
        "history_lg_imdb = best_model_lg_imdb.fit(x_train_bow, y_train_bow, epochs=45, batch_size=128,\n",
        "                        validation_data=(x_test_bow, y_test_bow), verbose=1)\n",
        "\n",
        "sgd_model = build_logistic_regression_bin_model(\"adam\", best_trial_lg_imdb, best_lr_lg_imdb,\n",
        "                                             best_beta_1_lg_imdb, best_beta_2_lg_imdb)\n",
        "\n",
        "sgd_history_lg_imdb = best_model_lg_imdb.fit(x_train_bow, y_train_bow, epochs=45, batch_size=128,\n",
        "                        validation_data=(x_test_bow, y_test_bow), verbose=1)\n",
        "\n",
        "sgd_training_mlp_costs = history_lg_imdb.history['loss']\n",
        "adam_training_mlp_costs = sgd_history_lg_imdb.history['loss']"
      ],
      "metadata": {
        "colab": {
          "base_uri": "https://localhost:8080/"
        },
        "id": "qoGid6BXCT2_",
        "outputId": "e3dd6422-414e-417b-8c3e-ca1c2281c328"
      },
      "execution_count": 45,
      "outputs": [
        {
          "output_type": "stream",
          "name": "stdout",
          "text": [
            "Epoch 1/45\n",
            "196/196 [==============================] - 7s 34ms/step - loss: 0.5743 - accuracy: 0.7097 - val_loss: 0.6843 - val_accuracy: 0.5598\n",
            "Epoch 2/45\n",
            "196/196 [==============================] - 5s 24ms/step - loss: 0.4726 - accuracy: 0.7883 - val_loss: 0.6872 - val_accuracy: 0.5688\n",
            "Epoch 3/45\n",
            "196/196 [==============================] - 11s 55ms/step - loss: 0.4459 - accuracy: 0.8064 - val_loss: 0.6948 - val_accuracy: 0.5660\n",
            "Epoch 4/45\n",
            "196/196 [==============================] - 9s 45ms/step - loss: 0.4278 - accuracy: 0.8168 - val_loss: 0.7098 - val_accuracy: 0.5604\n",
            "Epoch 5/45\n",
            "196/196 [==============================] - 7s 38ms/step - loss: 0.4152 - accuracy: 0.8241 - val_loss: 0.7238 - val_accuracy: 0.5568\n",
            "Epoch 6/45\n",
            "196/196 [==============================] - 7s 38ms/step - loss: 0.3987 - accuracy: 0.8347 - val_loss: 0.7463 - val_accuracy: 0.5547\n",
            "Epoch 7/45\n",
            "196/196 [==============================] - 7s 37ms/step - loss: 0.3934 - accuracy: 0.8346 - val_loss: 0.7650 - val_accuracy: 0.5502\n",
            "Epoch 8/45\n",
            "196/196 [==============================] - 6s 32ms/step - loss: 0.3865 - accuracy: 0.8370 - val_loss: 0.7624 - val_accuracy: 0.5543\n",
            "Epoch 9/45\n",
            "196/196 [==============================] - 5s 25ms/step - loss: 0.3768 - accuracy: 0.8418 - val_loss: 0.7915 - val_accuracy: 0.5456\n",
            "Epoch 10/45\n",
            "196/196 [==============================] - 5s 24ms/step - loss: 0.3712 - accuracy: 0.8460 - val_loss: 0.8120 - val_accuracy: 0.5440\n",
            "Epoch 11/45\n",
            "196/196 [==============================] - 6s 28ms/step - loss: 0.3681 - accuracy: 0.8460 - val_loss: 0.8335 - val_accuracy: 0.5374\n",
            "Epoch 12/45\n",
            "196/196 [==============================] - 6s 30ms/step - loss: 0.3659 - accuracy: 0.8474 - val_loss: 0.8299 - val_accuracy: 0.5419\n",
            "Epoch 13/45\n",
            "196/196 [==============================] - 4s 23ms/step - loss: 0.3605 - accuracy: 0.8498 - val_loss: 0.8735 - val_accuracy: 0.5357\n",
            "Epoch 14/45\n",
            "196/196 [==============================] - 6s 28ms/step - loss: 0.3524 - accuracy: 0.8538 - val_loss: 0.8654 - val_accuracy: 0.5388\n",
            "Epoch 15/45\n",
            "196/196 [==============================] - 5s 24ms/step - loss: 0.3541 - accuracy: 0.8536 - val_loss: 0.8918 - val_accuracy: 0.5346\n",
            "Epoch 16/45\n",
            "196/196 [==============================] - 5s 26ms/step - loss: 0.3499 - accuracy: 0.8564 - val_loss: 0.8959 - val_accuracy: 0.5345\n",
            "Epoch 17/45\n",
            "196/196 [==============================] - 5s 24ms/step - loss: 0.3440 - accuracy: 0.8550 - val_loss: 0.9129 - val_accuracy: 0.5335\n",
            "Epoch 18/45\n",
            "196/196 [==============================] - 5s 24ms/step - loss: 0.3464 - accuracy: 0.8569 - val_loss: 0.9218 - val_accuracy: 0.5333\n",
            "Epoch 19/45\n",
            "196/196 [==============================] - 5s 27ms/step - loss: 0.3447 - accuracy: 0.8587 - val_loss: 0.9288 - val_accuracy: 0.5322\n",
            "Epoch 20/45\n",
            "196/196 [==============================] - 4s 22ms/step - loss: 0.3405 - accuracy: 0.8617 - val_loss: 0.9493 - val_accuracy: 0.5318\n",
            "Epoch 21/45\n",
            "196/196 [==============================] - 4s 22ms/step - loss: 0.3432 - accuracy: 0.8598 - val_loss: 0.9366 - val_accuracy: 0.5346\n",
            "Epoch 22/45\n",
            "196/196 [==============================] - 5s 27ms/step - loss: 0.3410 - accuracy: 0.8573 - val_loss: 0.9695 - val_accuracy: 0.5298\n",
            "Epoch 23/45\n",
            "196/196 [==============================] - 5s 28ms/step - loss: 0.3343 - accuracy: 0.8601 - val_loss: 0.9802 - val_accuracy: 0.5305\n",
            "Epoch 24/45\n",
            "196/196 [==============================] - 5s 25ms/step - loss: 0.3364 - accuracy: 0.8616 - val_loss: 0.9788 - val_accuracy: 0.5310\n",
            "Epoch 25/45\n",
            "196/196 [==============================] - 6s 28ms/step - loss: 0.3356 - accuracy: 0.8596 - val_loss: 1.0192 - val_accuracy: 0.5295\n",
            "Epoch 26/45\n",
            "196/196 [==============================] - 5s 25ms/step - loss: 0.3318 - accuracy: 0.8639 - val_loss: 1.0315 - val_accuracy: 0.5282\n",
            "Epoch 27/45\n",
            "196/196 [==============================] - 5s 28ms/step - loss: 0.3306 - accuracy: 0.8644 - val_loss: 1.0332 - val_accuracy: 0.5284\n",
            "Epoch 28/45\n",
            "196/196 [==============================] - 5s 25ms/step - loss: 0.3328 - accuracy: 0.8633 - val_loss: 1.0192 - val_accuracy: 0.5297\n",
            "Epoch 29/45\n",
            "196/196 [==============================] - 4s 21ms/step - loss: 0.3270 - accuracy: 0.8653 - val_loss: 1.0273 - val_accuracy: 0.5286\n",
            "Epoch 30/45\n",
            "196/196 [==============================] - 5s 27ms/step - loss: 0.3258 - accuracy: 0.8641 - val_loss: 1.0214 - val_accuracy: 0.5281\n",
            "Epoch 31/45\n",
            "196/196 [==============================] - 5s 27ms/step - loss: 0.3224 - accuracy: 0.8678 - val_loss: 1.0342 - val_accuracy: 0.5284\n",
            "Epoch 32/45\n",
            "196/196 [==============================] - 5s 23ms/step - loss: 0.3203 - accuracy: 0.8669 - val_loss: 1.0374 - val_accuracy: 0.5305\n",
            "Epoch 33/45\n",
            "196/196 [==============================] - 5s 27ms/step - loss: 0.3223 - accuracy: 0.8692 - val_loss: 1.0347 - val_accuracy: 0.5310\n",
            "Epoch 34/45\n",
            "196/196 [==============================] - 5s 24ms/step - loss: 0.3230 - accuracy: 0.8667 - val_loss: 1.0600 - val_accuracy: 0.5295\n",
            "Epoch 35/45\n",
            "196/196 [==============================] - 5s 24ms/step - loss: 0.3214 - accuracy: 0.8687 - val_loss: 1.0521 - val_accuracy: 0.5306\n",
            "Epoch 36/45\n",
            "196/196 [==============================] - 5s 26ms/step - loss: 0.3189 - accuracy: 0.8721 - val_loss: 1.0310 - val_accuracy: 0.5314\n",
            "Epoch 37/45\n",
            "196/196 [==============================] - 5s 24ms/step - loss: 0.3167 - accuracy: 0.8698 - val_loss: 1.0799 - val_accuracy: 0.5286\n",
            "Epoch 38/45\n",
            "196/196 [==============================] - 5s 25ms/step - loss: 0.3196 - accuracy: 0.8671 - val_loss: 1.0705 - val_accuracy: 0.5303\n",
            "Epoch 39/45\n",
            "196/196 [==============================] - 5s 24ms/step - loss: 0.3113 - accuracy: 0.8714 - val_loss: 1.0695 - val_accuracy: 0.5308\n",
            "Epoch 40/45\n",
            "196/196 [==============================] - 4s 22ms/step - loss: 0.3166 - accuracy: 0.8692 - val_loss: 1.0832 - val_accuracy: 0.5303\n",
            "Epoch 41/45\n",
            "196/196 [==============================] - 5s 26ms/step - loss: 0.3128 - accuracy: 0.8715 - val_loss: 1.0871 - val_accuracy: 0.5309\n",
            "Epoch 42/45\n",
            "196/196 [==============================] - 5s 23ms/step - loss: 0.3108 - accuracy: 0.8730 - val_loss: 1.0854 - val_accuracy: 0.5318\n",
            "Epoch 43/45\n",
            "196/196 [==============================] - 5s 24ms/step - loss: 0.3147 - accuracy: 0.8688 - val_loss: 1.0854 - val_accuracy: 0.5297\n",
            "Epoch 44/45\n",
            "196/196 [==============================] - 5s 28ms/step - loss: 0.3146 - accuracy: 0.8694 - val_loss: 1.1202 - val_accuracy: 0.5284\n",
            "Epoch 45/45\n",
            "196/196 [==============================] - 5s 24ms/step - loss: 0.3109 - accuracy: 0.8734 - val_loss: 1.1320 - val_accuracy: 0.5271\n",
            "Epoch 1/45\n",
            "196/196 [==============================] - 7s 36ms/step - loss: 0.3067 - accuracy: 0.8745 - val_loss: 1.1504 - val_accuracy: 0.5250\n",
            "Epoch 2/45\n",
            "196/196 [==============================] - 6s 29ms/step - loss: 0.3084 - accuracy: 0.8726 - val_loss: 1.1219 - val_accuracy: 0.5270\n",
            "Epoch 3/45\n",
            "196/196 [==============================] - 4s 22ms/step - loss: 0.3093 - accuracy: 0.8723 - val_loss: 1.1527 - val_accuracy: 0.5244\n",
            "Epoch 4/45\n",
            "196/196 [==============================] - 5s 24ms/step - loss: 0.3096 - accuracy: 0.8716 - val_loss: 1.1448 - val_accuracy: 0.5250\n",
            "Epoch 5/45\n",
            "196/196 [==============================] - 5s 26ms/step - loss: 0.3048 - accuracy: 0.8744 - val_loss: 1.1070 - val_accuracy: 0.5284\n",
            "Epoch 6/45\n",
            "196/196 [==============================] - 4s 22ms/step - loss: 0.3097 - accuracy: 0.8706 - val_loss: 1.1319 - val_accuracy: 0.5265\n",
            "Epoch 7/45\n",
            "196/196 [==============================] - 5s 28ms/step - loss: 0.3090 - accuracy: 0.8721 - val_loss: 1.1467 - val_accuracy: 0.5249\n",
            "Epoch 8/45\n",
            "196/196 [==============================] - 4s 22ms/step - loss: 0.3081 - accuracy: 0.8722 - val_loss: 1.1457 - val_accuracy: 0.5251\n",
            "Epoch 9/45\n",
            "196/196 [==============================] - 5s 24ms/step - loss: 0.3045 - accuracy: 0.8772 - val_loss: 1.1701 - val_accuracy: 0.5246\n",
            "Epoch 10/45\n",
            "196/196 [==============================] - 5s 26ms/step - loss: 0.3050 - accuracy: 0.8744 - val_loss: 1.1776 - val_accuracy: 0.5242\n",
            "Epoch 11/45\n",
            "196/196 [==============================] - 4s 22ms/step - loss: 0.3026 - accuracy: 0.8736 - val_loss: 1.1694 - val_accuracy: 0.5262\n",
            "Epoch 12/45\n",
            "196/196 [==============================] - 4s 23ms/step - loss: 0.3022 - accuracy: 0.8760 - val_loss: 1.1795 - val_accuracy: 0.5247\n",
            "Epoch 13/45\n",
            "196/196 [==============================] - 5s 24ms/step - loss: 0.2997 - accuracy: 0.8774 - val_loss: 1.1828 - val_accuracy: 0.5250\n",
            "Epoch 14/45\n",
            "196/196 [==============================] - 4s 22ms/step - loss: 0.3031 - accuracy: 0.8766 - val_loss: 1.1661 - val_accuracy: 0.5258\n",
            "Epoch 15/45\n",
            "196/196 [==============================] - 5s 25ms/step - loss: 0.3015 - accuracy: 0.8758 - val_loss: 1.1583 - val_accuracy: 0.5270\n",
            "Epoch 16/45\n",
            "196/196 [==============================] - 4s 22ms/step - loss: 0.3046 - accuracy: 0.8762 - val_loss: 1.1529 - val_accuracy: 0.5279\n",
            "Epoch 17/45\n",
            "196/196 [==============================] - 5s 24ms/step - loss: 0.3006 - accuracy: 0.8753 - val_loss: 1.1720 - val_accuracy: 0.5263\n",
            "Epoch 18/45\n",
            "196/196 [==============================] - 7s 37ms/step - loss: 0.3016 - accuracy: 0.8748 - val_loss: 1.1685 - val_accuracy: 0.5268\n",
            "Epoch 19/45\n",
            "196/196 [==============================] - 5s 24ms/step - loss: 0.2983 - accuracy: 0.8768 - val_loss: 1.1854 - val_accuracy: 0.5259\n",
            "Epoch 20/45\n",
            "196/196 [==============================] - 5s 28ms/step - loss: 0.2980 - accuracy: 0.8766 - val_loss: 1.1760 - val_accuracy: 0.5269\n",
            "Epoch 21/45\n",
            "196/196 [==============================] - 5s 24ms/step - loss: 0.2979 - accuracy: 0.8750 - val_loss: 1.1890 - val_accuracy: 0.5270\n",
            "Epoch 22/45\n",
            "196/196 [==============================] - 4s 22ms/step - loss: 0.2991 - accuracy: 0.8780 - val_loss: 1.1996 - val_accuracy: 0.5255\n",
            "Epoch 23/45\n",
            "196/196 [==============================] - 5s 27ms/step - loss: 0.2963 - accuracy: 0.8799 - val_loss: 1.2049 - val_accuracy: 0.5267\n",
            "Epoch 24/45\n",
            "196/196 [==============================] - 4s 23ms/step - loss: 0.2981 - accuracy: 0.8810 - val_loss: 1.1840 - val_accuracy: 0.5279\n",
            "Epoch 25/45\n",
            "196/196 [==============================] - 6s 32ms/step - loss: 0.2955 - accuracy: 0.8789 - val_loss: 1.2037 - val_accuracy: 0.5274\n",
            "Epoch 26/45\n",
            "196/196 [==============================] - 5s 25ms/step - loss: 0.2991 - accuracy: 0.8765 - val_loss: 1.2064 - val_accuracy: 0.5272\n",
            "Epoch 27/45\n",
            "196/196 [==============================] - 5s 23ms/step - loss: 0.2963 - accuracy: 0.8782 - val_loss: 1.2249 - val_accuracy: 0.5272\n",
            "Epoch 28/45\n",
            "196/196 [==============================] - 5s 27ms/step - loss: 0.2953 - accuracy: 0.8800 - val_loss: 1.2369 - val_accuracy: 0.5275\n",
            "Epoch 29/45\n",
            "196/196 [==============================] - 5s 25ms/step - loss: 0.2957 - accuracy: 0.8797 - val_loss: 1.2557 - val_accuracy: 0.5230\n",
            "Epoch 30/45\n",
            "196/196 [==============================] - 5s 26ms/step - loss: 0.2948 - accuracy: 0.8790 - val_loss: 1.2531 - val_accuracy: 0.5248\n",
            "Epoch 31/45\n",
            "196/196 [==============================] - 5s 25ms/step - loss: 0.2880 - accuracy: 0.8823 - val_loss: 1.2600 - val_accuracy: 0.5243\n",
            "Epoch 32/45\n",
            "196/196 [==============================] - 5s 25ms/step - loss: 0.2933 - accuracy: 0.8804 - val_loss: 1.2838 - val_accuracy: 0.5233\n",
            "Epoch 33/45\n",
            "196/196 [==============================] - 7s 34ms/step - loss: 0.2923 - accuracy: 0.8816 - val_loss: 1.2905 - val_accuracy: 0.5228\n",
            "Epoch 34/45\n",
            "196/196 [==============================] - 5s 24ms/step - loss: 0.2932 - accuracy: 0.8792 - val_loss: 1.3118 - val_accuracy: 0.5200\n",
            "Epoch 35/45\n",
            "196/196 [==============================] - 5s 24ms/step - loss: 0.2950 - accuracy: 0.8792 - val_loss: 1.3407 - val_accuracy: 0.5190\n",
            "Epoch 36/45\n",
            "196/196 [==============================] - 5s 25ms/step - loss: 0.2944 - accuracy: 0.8786 - val_loss: 1.3338 - val_accuracy: 0.5196\n",
            "Epoch 37/45\n",
            "196/196 [==============================] - 5s 24ms/step - loss: 0.2907 - accuracy: 0.8808 - val_loss: 1.3585 - val_accuracy: 0.5202\n",
            "Epoch 38/45\n",
            "196/196 [==============================] - 5s 26ms/step - loss: 0.2903 - accuracy: 0.8807 - val_loss: 1.3837 - val_accuracy: 0.5199\n",
            "Epoch 39/45\n",
            "196/196 [==============================] - 4s 23ms/step - loss: 0.2918 - accuracy: 0.8796 - val_loss: 1.3841 - val_accuracy: 0.5184\n",
            "Epoch 40/45\n",
            "196/196 [==============================] - 5s 23ms/step - loss: 0.2897 - accuracy: 0.8815 - val_loss: 1.4052 - val_accuracy: 0.5189\n",
            "Epoch 41/45\n",
            "196/196 [==============================] - 6s 30ms/step - loss: 0.2917 - accuracy: 0.8802 - val_loss: 1.4123 - val_accuracy: 0.5184\n",
            "Epoch 42/45\n",
            "196/196 [==============================] - 5s 25ms/step - loss: 0.2931 - accuracy: 0.8813 - val_loss: 1.3909 - val_accuracy: 0.5188\n",
            "Epoch 43/45\n",
            "196/196 [==============================] - 5s 25ms/step - loss: 0.2891 - accuracy: 0.8850 - val_loss: 1.4054 - val_accuracy: 0.5184\n",
            "Epoch 44/45\n",
            "196/196 [==============================] - 5s 24ms/step - loss: 0.2935 - accuracy: 0.8787 - val_loss: 1.4194 - val_accuracy: 0.5184\n",
            "Epoch 45/45\n",
            "196/196 [==============================] - 5s 25ms/step - loss: 0.2896 - accuracy: 0.8802 - val_loss: 1.4446 - val_accuracy: 0.5180\n"
          ]
        }
      ]
    },
    {
      "cell_type": "code",
      "source": [
        "\n",
        "# Plot training cost vs. epochs for both optimizers\n",
        "plt.figure(figsize=(10, 6))\n",
        "plt.plot(range(1, len(adam_training_costs) + 1), adam_training_costs, label='Adam+dropout', color='r')\n",
        "plt.plot(range(1, len(sgd_training_costs) + 1), sgd_training_costs, label='SGD+dropout', color='g')\n",
        "plt.xlabel('Epochs')\n",
        "plt.ylabel('Training Cost (Loss)')\n",
        "plt.title('IMDB BoW feature Logistic Regression')\n",
        "plt.legend()\n",
        "plt.grid(True)\n",
        "plt.show()"
      ],
      "metadata": {
        "id": "SpYUpmlZSRfv",
        "colab": {
          "base_uri": "https://localhost:8080/",
          "height": 564
        },
        "outputId": "595e33da-4672-4cf9-ef0d-c9d3bfef1ae6"
      },
      "execution_count": 46,
      "outputs": [
        {
          "output_type": "display_data",
          "data": {
            "text/plain": [
              "<Figure size 1000x600 with 1 Axes>"
            ],
            "image/png": "[encoded data removed]"
          },
          "metadata": {}
        }
      ]
    },
    {
      "cell_type": "code",
      "source": [
        "# Retrieve and print the best hyperparameters\n",
        "best_lg_imdb_hyperparameters = best_trial.params\n",
        "print(\"Best Hyperparameters for MLP on IMDB dataset:\")\n",
        "for param_name, param_value in best_lg_imdb_hyperparameters.items():\n",
        "    print(f\"{param_name}: {param_value}\")\n",
        "\n",
        "# Get the best trial and hyperparameters\n",
        "best_trial_lg_imdb = study.best_trial\n",
        "best_optimizer_lg_imdb = best_trial.params['optimizer']\n",
        "best_lr_lg_imdb = best_trial.params['learning_rate']\n",
        "best_beta_1_lg_imdb = best_trial.params['beta_1']\n",
        "best_beta_2_lg_imdb = best_trial.params['beta_2']"
      ],
      "metadata": {
        "id": "atbVz2lIQePS",
        "colab": {
          "base_uri": "https://localhost:8080/"
        },
        "outputId": "1fab40a7-7a1b-4702-c188-1041d239ccc4"
      },
      "execution_count": 49,
      "outputs": [
        {
          "output_type": "stream",
          "name": "stdout",
          "text": [
            "Best Hyperparameters for MLP on IMDB dataset:\n",
            "optimizer: sgd\n",
            "learning_rate: 0.0036132298044764073\n",
            "beta_1: 0.26108547972311\n",
            "beta_2: 0.9986691704338064\n",
            "decay: 4.216458440951901e-06\n",
            "decay_steps: 152\n",
            "l2_reg: 3.6376854898462428e-06\n"
          ]
        }
      ]
    },
    {
      "cell_type": "markdown",
      "source": [],
      "metadata": {
        "id": "_zG0tiiSywV7"
      }
    },
    {
      "cell_type": "code",
      "source": [
        "# Plot the cost function (loss) versus epoch using Optuna's visualization API\n",
        "optuna.visualization.plot_optimization_history(study_lg_imdb)"
      ],
      "metadata": {
        "colab": {
          "base_uri": "https://localhost:8080/",
          "height": 542
        },
        "id": "BY9WHZAJPuBL",
        "outputId": "cbef603f-8f14-4469-a9df-37cc9159e556"
      },
      "execution_count": 51,
      "outputs": [
        {
          "output_type": "display_data",
          "data": {
            "text/html": [
              "<html>\n",
              "<head><meta charset=\"utf-8\" /></head>\n",
              "<body>\n",
              "    <div>            <script src=\"https://cdnjs.cloudflare.com/ajax/libs/mathjax/2.7.5/MathJax.js?config=TeX-AMS-MML_SVG\"></script><script type=\"text/javascript\">if (window.MathJax && window.MathJax.Hub && window.MathJax.Hub.Config) {window.MathJax.Hub.Config({SVG: {font: \"STIX-Web\"}});}</script>                <script type=\"text/javascript\">window.PlotlyConfig = {MathJaxConfig: 'local'};</script>\n",
              "        <script charset=\"utf-8\" src=\"https://cdn.plot.ly/plotly-2.24.1.min.js\"></script>                <div id=\"8fb679eb-58da-4dbe-b5ad-10f5141840c7\" class=\"plotly-graph-div\" style=\"height:525px; width:100%;\"></div>            <script type=\"text/javascript\">                                    window.PLOTLYENV=window.PLOTLYENV || {};                                    if (document.getElementById(\"8fb679eb-58da-4dbe-b5ad-10f5141840c7\")) {                    Plotly.newPlot(                        \"8fb679eb-58da-4dbe-b5ad-10f5141840c7\",                        [{\"mode\":\"markers\",\"name\":\"Objective Value\",\"x\":[0],\"y\":[16.59992790222168],\"type\":\"scatter\"},{\"mode\":\"lines\",\"name\":\"Best Value\",\"x\":[0],\"y\":[16.59992790222168],\"type\":\"scatter\"},{\"marker\":{\"color\":\"#cccccc\"},\"mode\":\"markers\",\"name\":\"Infeasible Trial\",\"showlegend\":false,\"x\":[],\"y\":[],\"type\":\"scatter\"}],                        {\"title\":{\"text\":\"Optimization History Plot\"},\"xaxis\":{\"title\":{\"text\":\"Trial\"}},\"yaxis\":{\"title\":{\"text\":\"Objective Value\"}},\"template\":{\"data\":{\"histogram2dcontour\":[{\"type\":\"histogram2dcontour\",\"colorbar\":{\"outlinewidth\":0,\"ticks\":\"\"},\"colorscale\":[[0.0,\"#0d0887\"],[0.1111111111111111,\"#46039f\"],[0.2222222222222222,\"#7201a8\"],[0.3333333333333333,\"#9c179e\"],[0.4444444444444444,\"#bd3786\"],[0.5555555555555556,\"#d8576b\"],[0.6666666666666666,\"#ed7953\"],[0.7777777777777778,\"#fb9f3a\"],[0.8888888888888888,\"#fdca26\"],[1.0,\"#f0f921\"]]}],\"choropleth\":[{\"type\":\"choropleth\",\"colorbar\":{\"outlinewidth\":0,\"ticks\":\"\"}}],\"histogram2d\":[{\"type\":\"histogram2d\",\"colorbar\":{\"outlinewidth\":0,\"ticks\":\"\"},\"colorscale\":[[0.0,\"#0d0887\"],[0.1111111111111111,\"#46039f\"],[0.2222222222222222,\"#7201a8\"],[0.3333333333333333,\"#9c179e\"],[0.4444444444444444,\"#bd3786\"],[0.5555555555555556,\"#d8576b\"],[0.6666666666666666,\"#ed7953\"],[0.7777777777777778,\"#fb9f3a\"],[0.8888888888888888,\"#fdca26\"],[1.0,\"#f0f921\"]]}],\"heatmap\":[{\"type\":\"heatmap\",\"colorbar\":{\"outlinewidth\":0,\"ticks\":\"\"},\"colorscale\":[[0.0,\"#0d0887\"],[0.1111111111111111,\"#46039f\"],[0.2222222222222222,\"#7201a8\"],[0.3333333333333333,\"#9c179e\"],[0.4444444444444444,\"#bd3786\"],[0.5555555555555556,\"#d8576b\"],[0.6666666666666666,\"#ed7953\"],[0.7777777777777778,\"#fb9f3a\"],[0.8888888888888888,\"#fdca26\"],[1.0,\"#f0f921\"]]}],\"heatmapgl\":[{\"type\":\"heatmapgl\",\"colorbar\":{\"outlinewidth\":0,\"ticks\":\"\"},\"colorscale\":[[0.0,\"#0d0887\"],[0.1111111111111111,\"#46039f\"],[0.2222222222222222,\"#7201a8\"],[0.3333333333333333,\"#9c179e\"],[0.4444444444444444,\"#bd3786\"],[0.5555555555555556,\"#d8576b\"],[0.6666666666666666,\"#ed7953\"],[0.7777777777777778,\"#fb9f3a\"],[0.8888888888888888,\"#fdca26\"],[1.0,\"#f0f921\"]]}],\"contourcarpet\":[{\"type\":\"contourcarpet\",\"colorbar\":{\"outlinewidth\":0,\"ticks\":\"\"}}],\"contour\":[{\"type\":\"contour\",\"colorbar\":{\"outlinewidth\":0,\"ticks\":\"\"},\"colorscale\":[[0.0,\"#0d0887\"],[0.1111111111111111,\"#46039f\"],[0.2222222222222222,\"#7201a8\"],[0.3333333333333333,\"#9c179e\"],[0.4444444444444444,\"#bd3786\"],[0.5555555555555556,\"#d8576b\"],[0.6666666666666666,\"#ed7953\"],[0.7777777777777778,\"#fb9f3a\"],[0.8888888888888888,\"#fdca26\"],[1.0,\"#f0f921\"]]}],\"surface\":[{\"type\":\"surface\",\"colorbar\":{\"outlinewidth\":0,\"ticks\":\"\"},\"colorscale\":[[0.0,\"#0d0887\"],[0.1111111111111111,\"#46039f\"],[0.2222222222222222,\"#7201a8\"],[0.3333333333333333,\"#9c179e\"],[0.4444444444444444,\"#bd3786\"],[0.5555555555555556,\"#d8576b\"],[0.6666666666666666,\"#ed7953\"],[0.7777777777777778,\"#fb9f3a\"],[0.8888888888888888,\"#fdca26\"],[1.0,\"#f0f921\"]]}],\"mesh3d\":[{\"type\":\"mesh3d\",\"colorbar\":{\"outlinewidth\":0,\"ticks\":\"\"}}],\"scatter\":[{\"fillpattern\":{\"fillmode\":\"overlay\",\"size\":10,\"solidity\":0.2},\"type\":\"scatter\"}],\"parcoords\":[{\"type\":\"parcoords\",\"line\":{\"colorbar\":{\"outlinewidth\":0,\"ticks\":\"\"}}}],\"scatterpolargl\":[{\"type\":\"scatterpolargl\",\"marker\":{\"colorbar\":{\"outlinewidth\":0,\"ticks\":\"\"}}}],\"bar\":[{\"error_x\":{\"color\":\"#2a3f5f\"},\"error_y\":{\"color\":\"#2a3f5f\"},\"marker\":{\"line\":{\"color\":\"#E5ECF6\",\"width\":0.5},\"pattern\":{\"fillmode\":\"overlay\",\"size\":10,\"solidity\":0.2}},\"type\":\"bar\"}],\"scattergeo\":[{\"type\":\"scattergeo\",\"marker\":{\"colorbar\":{\"outlinewidth\":0,\"ticks\":\"\"}}}],\"scatterpolar\":[{\"type\":\"scatterpolar\",\"marker\":{\"colorbar\":{\"outlinewidth\":0,\"ticks\":\"\"}}}],\"histogram\":[{\"marker\":{\"pattern\":{\"fillmode\":\"overlay\",\"size\":10,\"solidity\":0.2}},\"type\":\"histogram\"}],\"scattergl\":[{\"type\":\"scattergl\",\"marker\":{\"colorbar\":{\"outlinewidth\":0,\"ticks\":\"\"}}}],\"scatter3d\":[{\"type\":\"scatter3d\",\"line\":{\"colorbar\":{\"outlinewidth\":0,\"ticks\":\"\"}},\"marker\":{\"colorbar\":{\"outlinewidth\":0,\"ticks\":\"\"}}}],\"scattermapbox\":[{\"type\":\"scattermapbox\",\"marker\":{\"colorbar\":{\"outlinewidth\":0,\"ticks\":\"\"}}}],\"scatterternary\":[{\"type\":\"scatterternary\",\"marker\":{\"colorbar\":{\"outlinewidth\":0,\"ticks\":\"\"}}}],\"scattercarpet\":[{\"type\":\"scattercarpet\",\"marker\":{\"colorbar\":{\"outlinewidth\":0,\"ticks\":\"\"}}}],\"carpet\":[{\"aaxis\":{\"endlinecolor\":\"#2a3f5f\",\"gridcolor\":\"white\",\"linecolor\":\"white\",\"minorgridcolor\":\"white\",\"startlinecolor\":\"#2a3f5f\"},\"baxis\":{\"endlinecolor\":\"#2a3f5f\",\"gridcolor\":\"white\",\"linecolor\":\"white\",\"minorgridcolor\":\"white\",\"startlinecolor\":\"#2a3f5f\"},\"type\":\"carpet\"}],\"table\":[{\"cells\":{\"fill\":{\"color\":\"#EBF0F8\"},\"line\":{\"color\":\"white\"}},\"header\":{\"fill\":{\"color\":\"#C8D4E3\"},\"line\":{\"color\":\"white\"}},\"type\":\"table\"}],\"barpolar\":[{\"marker\":{\"line\":{\"color\":\"#E5ECF6\",\"width\":0.5},\"pattern\":{\"fillmode\":\"overlay\",\"size\":10,\"solidity\":0.2}},\"type\":\"barpolar\"}],\"pie\":[{\"automargin\":true,\"type\":\"pie\"}]},\"layout\":{\"autotypenumbers\":\"strict\",\"colorway\":[\"#636efa\",\"#EF553B\",\"#00cc96\",\"#ab63fa\",\"#FFA15A\",\"#19d3f3\",\"#FF6692\",\"#B6E880\",\"#FF97FF\",\"#FECB52\"],\"font\":{\"color\":\"#2a3f5f\"},\"hovermode\":\"closest\",\"hoverlabel\":{\"align\":\"left\"},\"paper_bgcolor\":\"white\",\"plot_bgcolor\":\"#E5ECF6\",\"polar\":{\"bgcolor\":\"#E5ECF6\",\"angularaxis\":{\"gridcolor\":\"white\",\"linecolor\":\"white\",\"ticks\":\"\"},\"radialaxis\":{\"gridcolor\":\"white\",\"linecolor\":\"white\",\"ticks\":\"\"}},\"ternary\":{\"bgcolor\":\"#E5ECF6\",\"aaxis\":{\"gridcolor\":\"white\",\"linecolor\":\"white\",\"ticks\":\"\"},\"baxis\":{\"gridcolor\":\"white\",\"linecolor\":\"white\",\"ticks\":\"\"},\"caxis\":{\"gridcolor\":\"white\",\"linecolor\":\"white\",\"ticks\":\"\"}},\"coloraxis\":{\"colorbar\":{\"outlinewidth\":0,\"ticks\":\"\"}},\"colorscale\":{\"sequential\":[[0.0,\"#0d0887\"],[0.1111111111111111,\"#46039f\"],[0.2222222222222222,\"#7201a8\"],[0.3333333333333333,\"#9c179e\"],[0.4444444444444444,\"#bd3786\"],[0.5555555555555556,\"#d8576b\"],[0.6666666666666666,\"#ed7953\"],[0.7777777777777778,\"#fb9f3a\"],[0.8888888888888888,\"#fdca26\"],[1.0,\"#f0f921\"]],\"sequentialminus\":[[0.0,\"#0d0887\"],[0.1111111111111111,\"#46039f\"],[0.2222222222222222,\"#7201a8\"],[0.3333333333333333,\"#9c179e\"],[0.4444444444444444,\"#bd3786\"],[0.5555555555555556,\"#d8576b\"],[0.6666666666666666,\"#ed7953\"],[0.7777777777777778,\"#fb9f3a\"],[0.8888888888888888,\"#fdca26\"],[1.0,\"#f0f921\"]],\"diverging\":[[0,\"#8e0152\"],[0.1,\"#c51b7d\"],[0.2,\"#de77ae\"],[0.3,\"#f1b6da\"],[0.4,\"#fde0ef\"],[0.5,\"#f7f7f7\"],[0.6,\"#e6f5d0\"],[0.7,\"#b8e186\"],[0.8,\"#7fbc41\"],[0.9,\"#4d9221\"],[1,\"#276419\"]]},\"xaxis\":{\"gridcolor\":\"white\",\"linecolor\":\"white\",\"ticks\":\"\",\"title\":{\"standoff\":15},\"zerolinecolor\":\"white\",\"automargin\":true,\"zerolinewidth\":2},\"yaxis\":{\"gridcolor\":\"white\",\"linecolor\":\"white\",\"ticks\":\"\",\"title\":{\"standoff\":15},\"zerolinecolor\":\"white\",\"automargin\":true,\"zerolinewidth\":2},\"scene\":{\"xaxis\":{\"backgroundcolor\":\"#E5ECF6\",\"gridcolor\":\"white\",\"linecolor\":\"white\",\"showbackground\":true,\"ticks\":\"\",\"zerolinecolor\":\"white\",\"gridwidth\":2},\"yaxis\":{\"backgroundcolor\":\"#E5ECF6\",\"gridcolor\":\"white\",\"linecolor\":\"white\",\"showbackground\":true,\"ticks\":\"\",\"zerolinecolor\":\"white\",\"gridwidth\":2},\"zaxis\":{\"backgroundcolor\":\"#E5ECF6\",\"gridcolor\":\"white\",\"linecolor\":\"white\",\"showbackground\":true,\"ticks\":\"\",\"zerolinecolor\":\"white\",\"gridwidth\":2}},\"shapedefaults\":{\"line\":{\"color\":\"#2a3f5f\"}},\"annotationdefaults\":{\"arrowcolor\":\"#2a3f5f\",\"arrowhead\":0,\"arrowwidth\":1},\"geo\":{\"bgcolor\":\"white\",\"landcolor\":\"#E5ECF6\",\"subunitcolor\":\"white\",\"showland\":true,\"showlakes\":true,\"lakecolor\":\"white\"},\"title\":{\"x\":0.05},\"mapbox\":{\"style\":\"light\"}}}},                        {\"responsive\": true}                    ).then(function(){\n",
              "                            \n",
              "var gd = document.getElementById('8fb679eb-58da-4dbe-b5ad-10f5141840c7');\n",
              "var x = new MutationObserver(function (mutations, observer) {{\n",
              "        var display = window.getComputedStyle(gd).display;\n",
              "        if (!display || display === 'none') {{\n",
              "            console.log([gd, 'removed!']);\n",
              "            Plotly.purge(gd);\n",
              "            observer.disconnect();\n",
              "        }}\n",
              "}});\n",
              "\n",
              "// Listen for the removal of the full notebook cells\n",
              "var notebookContainer = gd.closest('#notebook-container');\n",
              "if (notebookContainer) {{\n",
              "    x.observe(notebookContainer, {childList: true});\n",
              "}}\n",
              "\n",
              "// Listen for the clearing of the current output cell\n",
              "var outputEl = gd.closest('.output');\n",
              "if (outputEl) {{\n",
              "    x.observe(outputEl, {childList: true});\n",
              "}}\n",
              "\n",
              "                        })                };                            </script>        </div>\n",
              "</body>\n",
              "</html>"
            ]
          },
          "metadata": {}
        }
      ]
    },
    {
      "cell_type": "markdown",
      "source": [
        "# CIFAR10"
      ],
      "metadata": {
        "id": "lC0p1CcSCL1o"
      }
    },
    {
      "cell_type": "markdown",
      "source": [
        "## CNN for Cifar10"
      ],
      "metadata": {
        "id": "RplK9jX-CbAN"
      }
    },
    {
      "cell_type": "code",
      "source": [
        "from keras.datasets import cifar10"
      ],
      "metadata": {
        "id": "lgpFYtc2Cfrw"
      },
      "execution_count": 75,
      "outputs": []
    },
    {
      "cell_type": "code",
      "source": [
        "# Load and preprocess the CIFAR-10 dataset\n",
        "(X_train, y_train), (X_test, y_test) = cifar10.load_data()\n",
        "X_train, X_test = X_train / 255.0, X_test / 255.0  # Normalize pixel values to [0, 1]\n",
        "\n",
        "# For RGB images (3 color channels)\n",
        "X_train = X_train.reshape(-1, 32, 32, 3)\n",
        "X_test = X_test.reshape(-1, 32, 32, 3)\n"
      ],
      "metadata": {
        "colab": {
          "base_uri": "https://localhost:8080/"
        },
        "id": "nTPk5cAXjbUn",
        "outputId": "d8deaa79-9264-48c8-da1f-f427eadb331f"
      },
      "execution_count": 76,
      "outputs": [
        {
          "output_type": "stream",
          "name": "stdout",
          "text": [
            "Downloading data from https://www.cs.toronto.edu/~kriz/cifar-10-python.tar.gz\n",
            "170498071/170498071 [==============================] - 5s 0us/step\n"
          ]
        }
      ]
    },
    {
      "cell_type": "code",
      "source": [
        "def objective(trial):\n",
        "\n",
        "  epochs = 45\n",
        "  # Create and compile the logistic regression model\n",
        "  optimizer_name = trial.suggest_categorical('optimizer', ['adam', 'sgd'])\n",
        "  learning_rate = trial.suggest_float('learning_rate', 1e-3, 1e-2, log=True)\n",
        "  dropout_rate = trial.suggest_float('dropout_rate', 0.5, 0.6)\n",
        "  beta_1 = trial.suggest_float('beta_1', 0.0, 0.9)  # Vary beta_1 within [0, 0.9]\n",
        "  # beta_1 = 0.9\n",
        "  # beta_2 = 0.99\n",
        "  beta_2 = trial.suggest_float('beta_2', 0.99, 0.9999)  # Vary beta_2 within [0.99, 0.9999]\n",
        "  epsilon = trial.suggest_float('epsilon', 1e-8, 1e-7)\n",
        "  # epsilon = 1e-8\n",
        "  momentum = trial.suggest_float('momentum', 0.9, 0.99)\n",
        "  # momentum = 0.9\n",
        "  l2_reg = trial.suggest_float('l2_reg', 1e-6, 1e-3, log=True)  # L2 regularization strength\n",
        "\n",
        "  # Define the custom learning rate scheduler\n",
        "  class CustomLRScheduler(tf.keras.callbacks.Callback):\n",
        "      def on_epoch_begin(self, epoch, logs=None):\n",
        "          new_lr = 0.001 / np.sqrt(epoch+1)\n",
        "          K.set_value(self.model.optimizer.lr, new_lr)\n",
        "          print(f'Epoch {epoch + 1}: Learning Rate = {new_lr}')\n",
        "\n",
        "  # Binary class\n",
        "  model = build_cnn_model(optimizer_name, trial, learning_rate,\n",
        "                          beta_1, beta_2, l2_reg)\n",
        "\n",
        "  # Create a custom callback to track validation loss\n",
        "  val_loss_callback = ValidationLoss()\n",
        "  lr_scheduler_callback = CustomLRScheduler()\n",
        "\n",
        "  # Train the model\n",
        "  history = model.fit(X_train, y_train, epochs=epochs, batch_size=128,\n",
        "                      validation_data=(X_test, y_test), verbose=0,\n",
        "                      callbacks=[val_loss_callback, lr_scheduler_callback])\n",
        "\n",
        "  # Get the minimum validation loss\n",
        "  min_val_loss = min(val_loss_callback.validation_losses)\n",
        "\n",
        "  return min_val_loss"
      ],
      "metadata": {
        "id": "FN22ppa9TFq_"
      },
      "execution_count": 77,
      "outputs": []
    },
    {
      "cell_type": "code",
      "source": [
        "# Create an Optuna study\n",
        "study_cnn = optuna.create_study(direction='minimize')\n",
        "\n",
        "# Optimize hyperparameters\n",
        "# study.optimize(objective, n_trials=45)\n",
        "study_cnn.optimize(objective, n_trials=3)\n",
        "\n",
        "best_trial_cnn = study_cnn.best_trial\n",
        "\n",
        "# Print the best hyperparameters\n",
        "print(f'Best Optimizer: {best_trial_cnn.params[\"optimizer\"]}')\n",
        "print(f'Best Learning Rate: {best_trial_cnn.params[\"learning_rate\"]}')"
      ],
      "metadata": {
        "colab": {
          "base_uri": "https://localhost:8080/"
        },
        "id": "NuL106_KXGGS",
        "outputId": "34b128b4-f833-4306-b579-df54d64df1f6"
      },
      "execution_count": null,
      "outputs": [
        {
          "output_type": "stream",
          "name": "stderr",
          "text": [
            "[I 2023-10-07 19:15:04,314] A new study created in memory with name: no-name-987e31fd-046c-4a32-86ac-a22b10dea2f8\n"
          ]
        },
        {
          "output_type": "stream",
          "name": "stdout",
          "text": [
            "Epoch 1: Learning Rate = 0.001\n",
            "Epoch 2: Learning Rate = 0.0007071067811865475\n",
            "Epoch 3: Learning Rate = 0.0005773502691896258\n",
            "Epoch 4: Learning Rate = 0.0005\n",
            "Epoch 5: Learning Rate = 0.0004472135954999579\n",
            "Epoch 6: Learning Rate = 0.0004082482904638631\n"
          ]
        }
      ]
    },
    {
      "cell_type": "code",
      "source": [
        "# Get the best trial and hyperparameters\n",
        "best_optimizer_cnn = best_trial_cnn.params['optimizer']\n",
        "best_lr_cnn = best_trial_cnn.params['learning_rate']\n",
        "best_beta_1_cnn = best_trial_cnn.params['beta_1']\n",
        "best_beta_2_cnn = best_trial_cnn.params['beta_2']\n",
        "best_l2_reg_cnn = best_trial_cnn.params['l2_reg']"
      ],
      "metadata": {
        "id": "_73_oRaMg4rG"
      },
      "execution_count": null,
      "outputs": []
    },
    {
      "cell_type": "code",
      "source": [
        "# Retrieve and print the best hyperparameters\n",
        "best_cnn_hyperparameters = best_trial_mlp.params\n",
        "print(\"Best Hyperparameters for CNN on CIFAR10 dataset:\")\n",
        "for param_name, param_value in best_cnn_hyperparameters.items():\n",
        "    print(f\"{param_name}: {param_value}\")"
      ],
      "metadata": {
        "id": "P0iJ_Vblg9gM"
      },
      "execution_count": null,
      "outputs": []
    },
    {
      "cell_type": "code",
      "source": [
        "if best_optimizer_cnn == 'adam':\n",
        "  # Build and train the final model with the best hyperparameters\n",
        "  best_model_cnn = build_cnn_model(best_optimizer_cnn, best_trial_mlp, best_lr_mlp,\n",
        "                                          best_beta_1_cnn, best_beta_2_cnn, best_l2_reg_cnn)\n",
        "  history_cnn = best_model.fit(X_train, y_train, epochs=3, batch_size=128,\n",
        "                        validation_data=(X_test, y_test), verbose=1)\n",
        "\n",
        "  sgd_model_cnn = build_cnn_model(\"sgd\", best_trial_cnn, best_lr_cnn,\n",
        "                                          best_beta_1_cnn, best_beta_2_cnn, best_l2_reg_cnn)\n",
        "\n",
        "  sgd_history_cnn = best_model.fit(X_train, y_train, epochs=3, batch_size=128,\n",
        "                        validation_data=(X_test, y_test), verbose=1)\n",
        "\n",
        "  adam_training_cnn_costs = history_cnn.history['loss']\n",
        "  sgd_training_cnn_costs = sgd_history_cnn.history['loss']\n",
        "\n",
        "elif best_optimizer_cnn == 'sgd':\n",
        "    # Build and train the final model with the best hyperparameters\n",
        "  best_model_cnn = build_cnn_model(best_optimizer_cnn, best_trial_mlp, best_lr_mlp,\n",
        "                                          best_beta_1_cnn, best_beta_2_cnn, best_l2_reg_cnn)\n",
        "  history_cnn = best_model.fit(X_train, y_train, epochs=3, batch_size=128,\n",
        "                        validation_data=(X_test, y_test), verbose=1)\n",
        "\n",
        "  adam_model_cnn = build_cnn_model(\"adam\", best_trial_cnn, best_lr_cnn,\n",
        "                                          best_beta_1_cnn, best_beta_2_cnn, best_l2_reg_cnn)\n",
        "\n",
        "  adam_history_cnn = best_model.fit(X_train, y_train, epochs=3, batch_size=128,\n",
        "                        validation_data=(X_test, y_test), verbose=1)\n",
        "\n",
        "  sgd_training_cnn_costs = history_cnn.history['loss']\n",
        "  adam_training_cnn_costs = adam_history_cnn.history['loss']\n",
        "else:\n",
        "    raise ValueError(\"Invalid optimizer name\")"
      ],
      "metadata": {
        "id": "8EguR1xFhENm"
      },
      "execution_count": null,
      "outputs": []
    },
    {
      "cell_type": "code",
      "source": [
        "# Plot training cost vs. epochs for both optimizers\n",
        "plt.figure(figsize=(10, 6))\n",
        "plt.plot(range(1, len(adam_training_cnn_costs) + 1), adam_training_cnn_costs, label='Adam', color='r')\n",
        "plt.plot(range(1, len(sgd_training_cnn_costs) + 1), sgd_training_cnn_costs, label='SGD', color='g')\n",
        "plt.xlabel('Epochs')\n",
        "plt.ylabel('Training Cost (Loss)')\n",
        "plt.title('CIFAR10 ConvNet First 3 Epoches')\n",
        "plt.legend()\n",
        "plt.grid(True)\n",
        "plt.show()"
      ],
      "metadata": {
        "id": "BS9BqgtRhRuH"
      },
      "execution_count": null,
      "outputs": []
    },
    {
      "cell_type": "code",
      "source": [
        "if best_optimizer_cnn == 'adam':\n",
        "  # Build and train the final model with the best hyperparameters\n",
        "  best_model_cnn = build_cnn_model(best_optimizer_cnn, best_trial_mlp, best_lr_mlp,\n",
        "                                          best_beta_1_cnn, best_beta_2_cnn, best_l2_reg_cnn)\n",
        "  history_cnn = best_model.fit(X_train, y_train, epochs=45, batch_size=128,\n",
        "                        validation_data=(X_test, y_test), verbose=1)\n",
        "\n",
        "  sgd_model_cnn = build_cnn_model(\"sgd\", best_trial_cnn, best_lr_cnn,\n",
        "                                          best_beta_1_cnn, best_beta_2_cnn, best_l2_reg_cnn)\n",
        "\n",
        "  sgd_history_cnn = best_model.fit(X_train, y_train, epochs=45, batch_size=128,\n",
        "                        validation_data=(X_test, y_test), verbose=1)\n",
        "\n",
        "  adam_training_cnn_costs = history_cnn.history['loss']\n",
        "  sgd_training_cnn_costs = sgd_history_cnn.history['loss']\n",
        "\n",
        "elif best_optimizer_cnn == 'sgd':\n",
        "  # Build and train the final model with the best hyperparameters\n",
        "  best_model_cnn = build_cnn_model(best_optimizer_cnn, best_trial_mlp, best_lr_mlp,\n",
        "                                          best_beta_1_cnn, best_beta_2_cnn, best_l2_reg_cnn)\n",
        "  history_cnn = best_model.fit(X_train, y_train, epochs=45, batch_size=128,\n",
        "                        validation_data=(X_test, y_test), verbose=1)\n",
        "\n",
        "  adam_model_cnn = build_cnn_model(\"adam\", best_trial_cnn, best_lr_cnn,\n",
        "                                          best_beta_1_cnn, best_beta_2_cnn, best_l2_reg_cnn)\n",
        "\n",
        "  adam_history_cnn = best_model.fit(X_train, y_train, epochs=45, batch_size=128,\n",
        "                        validation_data=(X_test, y_test), verbose=1)\n",
        "\n",
        "  sgd_training_cnn_costs = history_cnn.history['loss']\n",
        "  adam_training_cnn_costs = adam_history_cnn.history['loss']\n",
        "else:\n",
        "    raise ValueError(\"Invalid optimizer name\")"
      ],
      "metadata": {
        "id": "hQHzG9xzhiJk"
      },
      "execution_count": null,
      "outputs": []
    },
    {
      "cell_type": "code",
      "source": [
        "# Plot training cost vs. epochs for both optimizers\n",
        "plt.figure(figsize=(10, 6))\n",
        "plt.plot(range(1, len(adam_training_cnn_costs) + 1), adam_training_cnn_costs, label='Adam', color='r')\n",
        "plt.plot(range(1, len(sgd_training_cnn_costs) + 1), sgd_training_cnn_costs, label='SGD', color='g')\n",
        "plt.xlabel('Epochs')\n",
        "plt.ylabel('Training Cost (Loss)')\n",
        "plt.title('CIFAR10 ConvNet')\n",
        "plt.legend()\n",
        "plt.grid(True)\n",
        "plt.show()"
      ],
      "metadata": {
        "id": "FngJaGdCh2wQ"
      },
      "execution_count": null,
      "outputs": []
    },
    {
      "cell_type": "markdown",
      "source": [
        "# MISC: Complete implementation  without best optimizer or fine tuning\n",
        "\n",
        "#### direct values for hyperparameters used as mentioned in the paper\n"
      ],
      "metadata": {
        "id": "IZPXo0TM8RJi"
      }
    },
    {
      "cell_type": "code",
      "execution_count": null,
      "metadata": {
        "id": "ds-3jChb4ikz"
      },
      "outputs": [],
      "source": [
        "from sklearn.linear_model import LogisticRegression\n",
        "from sklearn.metrics import log_loss, accuracy_score\n",
        "from sklearn.model_selection import train_test_split\n",
        "from keras.datasets import mnist\n",
        "\n",
        "# from sklearn.linear_model import SGDClassifier\n",
        "\n",
        "from keras.models import Sequential\n",
        "from keras.layers import Flatten, Dense\n",
        "from keras.optimizers import Adam, SGD"
      ]
    },
    {
      "cell_type": "markdown",
      "source": [
        "## MNIST"
      ],
      "metadata": {
        "id": "ySOBWzaU6Cwb"
      }
    },
    {
      "cell_type": "code",
      "source": [
        "# Set hyperparameters\n",
        "learning_rate = 0.001\n",
        "beta1 = 0.9\n",
        "beta2 = 0.999\n",
        "epsilon = 1e-8\n",
        "num_iterations = 1000"
      ],
      "metadata": {
        "id": "k0a-CaVi7WC4"
      },
      "execution_count": null,
      "outputs": []
    },
    {
      "cell_type": "code",
      "execution_count": null,
      "metadata": {
        "id": "8iWP04gxlMTr"
      },
      "outputs": [],
      "source": [
        "# Loading the MNIST dataset\n",
        "(X_train, y_train), (X_test, y_test) = mnist.load_data()\n",
        "\n",
        "# Preprocess the data\n",
        "X_train = X_train / 255.0  # Normalize pixel values to the range [0, 1]\n",
        "X_test = X_test / 255.0\n",
        "\n",
        "# Flatten the images for logistic regression\n",
        "X_train = X_train.reshape(X_train.shape[0], -1)\n",
        "X_test = X_test.reshape(X_test.shape[0], -1)\n",
        "\n",
        "# function to build and train a logistic regression model\n",
        "def build_logistic_regression_model(optimizer_name):\n",
        "    model = Sequential()\n",
        "    model.add(Flatten(input_shape=(784,)))\n",
        "    model.add(Dense(10, activation='softmax'))\n",
        "\n",
        "    if optimizer_name == 'adam':\n",
        "        optimizer = Adam(learning_rate=0.001, beta_1=0.9, beta_2=0.999, epsilon=1e-8)\n",
        "    elif optimizer_name == 'sgd':\n",
        "        optimizer = SGD(learning_rate=0.001)\n",
        "    else:\n",
        "        raise ValueError(\"Invalid optimizer name\")\n",
        "\n",
        "    model.compile(optimizer=optimizer, loss='sparse_categorical_crossentropy', metrics=['accuracy'])\n",
        "\n",
        "    return model\n",
        "\n",
        "# Train logistic regression models with both Adam and SGD\n",
        "adam_model = build_logistic_regression_model('adam')\n",
        "sgd_model = build_logistic_regression_model('sgd')\n",
        "\n",
        "adam_history = adam_model.fit(X_train, y_train, epochs=10, validation_data=(X_test, y_test), verbose=0)\n",
        "sgd_history = sgd_model.fit(X_train, y_train, epochs=10, validation_data=(X_test, y_test), verbose=0)\n",
        "\n",
        "# Extract training cost (loss) values from history\n",
        "adam_training_costs = adam_history.history['loss']\n",
        "sgd_training_costs = sgd_history.history['loss']"
      ]
    },
    {
      "cell_type": "code",
      "execution_count": null,
      "metadata": {
        "id": "DCF_HwRulwqQ"
      },
      "outputs": [],
      "source": [
        "# Plot training cost vs. epochs (iterations over the dataset) for both optimizers\n",
        "plt.figure(figsize=(7, 5))\n",
        "plt.plot(range(1, len(adam_training_costs) + 1), adam_training_costs, label='Adam', color='r')\n",
        "plt.plot(range(1, len(sgd_training_costs) + 1), sgd_training_costs, label='SGD', color='g')\n",
        "plt.xlabel('Epochs')\n",
        "plt.ylabel('Training Cost (Loss)')\n",
        "plt.title('Training Cost vs. Epochs for Adam and SGD')\n",
        "plt.legend()\n",
        "plt.grid(True)\n",
        "plt.show()"
      ]
    },
    {
      "cell_type": "code",
      "execution_count": null,
      "metadata": {
        "id": "ZyrSttCRYiNK"
      },
      "outputs": [],
      "source": [
        "import numpy as np\n",
        "import tensorflow as tf\n",
        "from keras.datasets import cifar10\n",
        "from keras.models import Sequential\n",
        "from keras.layers import Conv2D, MaxPooling2D, Flatten, Dense, Dropout\n",
        "from keras.optimizers import Adam, SGD\n",
        "import matplotlib.pyplot as plt\n",
        "\n",
        "# Load and preprocess the CIFAR-10 dataset\n",
        "(X_train, y_train), (X_test, y_test) = cifar10.load_data()\n",
        "X_train, X_test = X_train / 255.0, X_test / 255.0  # Normalize pixel values to [0, 1]\n",
        "\n",
        "# For RGB images (3 color channels)\n",
        "X_train = X_train.reshape(-1, 32, 32, 3)\n",
        "X_test = X_test.reshape(-1, 32, 32, 3)\n",
        "\n",
        "# Create CNN model\n",
        "def build_cnn_model(optimizer_name):\n",
        "    # Define the CNN architecture\n",
        "    cnn_model = Sequential([\n",
        "        Conv2D(32, (5, 5), activation='relu', input_shape=(32, 32, 3), padding='same'),\n",
        "        MaxPooling2D(pool_size=(3, 3), strides=2),\n",
        "        Conv2D(64, (5, 5), activation='relu', padding='same'),\n",
        "        MaxPooling2D(pool_size=(3, 3), strides=2),\n",
        "        Conv2D(128, (5, 5), activation='relu', padding='same'),\n",
        "        MaxPooling2D(pool_size=(3, 3), strides=2),\n",
        "        Flatten(),\n",
        "        Dense(1000, activation='relu'),\n",
        "        Dropout(0.5),\n",
        "        Dense(10, activation='softmax')  # 10 classes in CIFAR-10\n",
        "    ])\n",
        "\n",
        "    if optimizer_name == 'adam':\n",
        "        optimizer = Adam(learning_rate=0.01, beta_1=0.9, beta_2=0.999, epsilon=1e-8)\n",
        "    elif optimizer_name == 'sgd':\n",
        "        optimizer = SGD(learning_rate=0.0001, momentum=0.9, nesterov=True)\n",
        "    else:\n",
        "        raise ValueError(\"Invalid optimizer name\")\n",
        "\n",
        "    # Compile the model with Adam optimizer\n",
        "    # adam_optimizer = Adam()\n",
        "    cnn_model.compile(optimizer=optimizer, loss='sparse_categorical_crossentropy', metrics=['accuracy'])\n",
        "\n",
        "    return cnn_model\n",
        "\n",
        "\n",
        "# Train CNN models with both Adam and SGD\n",
        "adam_model = build_cnn_model('adam')\n",
        "sgd_model = build_cnn_model('sgd')\n",
        "\n",
        "adam_history = adam_model.fit(X_train, y_train, epochs=3, batch_size = 128, validation_data=(X_test, y_test), verbose=0)\n",
        "sgd_history = sgd_model.fit(X_train, y_train, epochs=3, batch_size=128, validation_data=(X_test, y_test), verbose=0)\n",
        "\n",
        "# Extract training cost (loss) values from history\n",
        "adam_training_costs = adam_history.history['loss']\n",
        "sgd_training_costs = sgd_history.history['loss']\n",
        "\n",
        "# Plot training cost vs. epochs for both optimizers\n",
        "plt.figure(figsize=(10, 6))\n",
        "plt.plot(range(1, len(adam_training_costs) + 1), adam_training_costs, label='Adam+dropout', color='r')\n",
        "plt.plot(range(1, len(sgd_training_costs) + 1), sgd_training_costs, label='SGD+dropout', color='g')\n",
        "plt.xlabel('Epochs')\n",
        "plt.ylabel('Training Cost (Loss)')\n",
        "plt.title('CIFAR10 ConvNet First 3 Epoches')\n",
        "plt.legend()\n",
        "plt.grid(True)\n",
        "plt.show()"
      ]
    },
    {
      "cell_type": "code",
      "execution_count": null,
      "metadata": {
        "id": "q7UeSHRpZoCo"
      },
      "outputs": [],
      "source": [
        "import numpy as np\n",
        "import tensorflow as tf\n",
        "from keras.datasets import cifar10\n",
        "from keras.models import Sequential\n",
        "from keras.layers import Conv2D, MaxPooling2D, Flatten, Dense, Dropout\n",
        "from keras.optimizers import Adam, SGD\n",
        "import matplotlib.pyplot as plt\n",
        "\n",
        "# Load and preprocess the CIFAR-10 dataset\n",
        "(X_train, y_train), (X_test, y_test) = cifar10.load_data()\n",
        "X_train, X_test = X_train / 255.0, X_test / 255.0  # Normalize pixel values to [0, 1]\n",
        "\n",
        "# For RGB images (3 color channels)\n",
        "X_train = X_train.reshape(-1, 32, 32, 3)\n",
        "X_test = X_test.reshape(-1, 32, 32, 3)\n",
        "\n",
        "# Create CNN model\n",
        "def build_cnn_model(optimizer_name):\n",
        "    # Define the CNN architecture\n",
        "    cnn_model = Sequential([\n",
        "        Conv2D(32, (5, 5), activation='relu', input_shape=(32, 32, 3), padding='same'),\n",
        "        MaxPooling2D(pool_size=(3, 3), strides=2),\n",
        "        Conv2D(64, (5, 5), activation='relu', padding='same'),\n",
        "        MaxPooling2D(pool_size=(3, 3), strides=2),\n",
        "        Conv2D(128, (5, 5), activation='relu', padding='same'),\n",
        "        MaxPooling2D(pool_size=(3, 3), strides=2),\n",
        "        Flatten(),\n",
        "        Dense(1000, activation='relu'),\n",
        "        Dense(10, activation='softmax')  # 10 classes in CIFAR-10\n",
        "    ])\n",
        "\n",
        "    # Create a custom learning rate schedule that decreases as 1/sqrt(t)\n",
        "    initial_learning_rate = 0.001\n",
        "    decay_steps = len(X_train) // 128  # Adjust as needed\n",
        "    lr_schedule = tf.keras.optimizers.schedules.ExponentialDecay(\n",
        "        initial_learning_rate, decay_steps=decay_steps, decay_rate=1/np.sqrt(45.0), staircase=False\n",
        "    )\n",
        "\n",
        "    if optimizer_name == 'adam':\n",
        "        optimizer = Adam(learning_rate=lr_schedule, beta_1=0.9, beta_2=0.999, epsilon=1e-8)\n",
        "    elif optimizer_name == 'sgd':\n",
        "        optimizer = SGD(learning_rate=0.0001, momentum=0.9, nesterov=True)\n",
        "    else:\n",
        "        raise ValueError(\"Invalid optimizer name\")\n",
        "\n",
        "    # Compile the model with Adam optimizer\n",
        "    # adam_optimizer = Adam()\n",
        "    cnn_model.compile(optimizer=optimizer, loss='sparse_categorical_crossentropy', metrics=['accuracy'])\n",
        "\n",
        "    return cnn_model\n",
        "\n",
        "\n",
        "# Train CNN models with both Adam and SGD\n",
        "adam_model = build_cnn_model('adam')\n",
        "sgd_model = build_cnn_model('sgd')\n",
        "\n",
        "adam_history = adam_model.fit(X_train, y_train, epochs=45, batch_size = 128, validation_data=(X_test, y_test), verbose=0)\n",
        "sgd_history = sgd_model.fit(X_train, y_train, epochs=45, batch_size=128, validation_data=(X_test, y_test), verbose=0)\n",
        "\n",
        "# Extract training cost (loss) values from history\n",
        "adam_training_costs = adam_history.history['loss']\n",
        "sgd_training_costs = sgd_history.history['loss']\n",
        "\n",
        "# Plot training cost vs. epochs for both optimizers\n",
        "plt.figure(figsize=(10, 6))\n",
        "plt.plot(range(1, len(adam_training_costs) + 1), adam_training_costs, label='Adam+dropout', color='r')\n",
        "plt.plot(range(1, len(sgd_training_costs) + 1), sgd_training_costs, label='SGD+dropout', color='g')\n",
        "plt.xlabel('Epochs')\n",
        "plt.ylabel('Training Cost (Loss)')\n",
        "plt.title('CIFAR10 ConvNet')\n",
        "plt.legend()\n",
        "plt.grid(True)\n",
        "plt.show()"
      ]
    },
    {
      "cell_type": "markdown",
      "source": [
        "## IMDB dataset"
      ],
      "metadata": {
        "id": "jUPFmYXE7a3k"
      }
    },
    {
      "cell_type": "markdown",
      "source": [
        "# Log_reg from scratch"
      ],
      "metadata": {
        "id": "yi6p9i1e7lmq"
      }
    },
    {
      "cell_type": "code",
      "execution_count": null,
      "metadata": {
        "id": "w-Ld118OIc7j"
      },
      "outputs": [],
      "source": [
        "# # Load your IMDB BoW features and corresponding labels (X, y)\n",
        "\n",
        "# # Add a bias term to X\n",
        "# # X_bias = np.c_[np.ones((X.shape[0], 1)), X]  # Assuming X is your feature matrix\n",
        "\n",
        "# X = x_train_bow\n",
        "# y = y_train\n",
        "\n",
        "# # Convert data to TensorFlow tensors\n",
        "# X_tensor = tf.constant(X, dtype=tf.float32)\n",
        "# y_tensor = tf.constant(y, dtype=tf.float32)\n",
        "\n",
        "# # Initialize model parameters (weights and bias)\n",
        "# num_features = X.shape[1]\n",
        "# theta = tf.Variable(tf.zeros((num_features, 1), dtype=tf.float32))\n",
        "# bias = tf.Variable(0.0, dtype=tf.float32)\n",
        "# # Convert data to TensorFlow tensors\n",
        "# X_tensor = tf.constant(X_bias, dtype=tf.float32)\n",
        "# y_tensor = tf.constant(y, dtype=tf.float32)\n",
        "\n",
        "# # Initialize model parameters (weights and bias)\n",
        "# num_features = X_bias.shape[1]\n",
        "# theta = tf.Variable(tf.zeros((num_features, 1), dtype=tf.float32))\n",
        "\n",
        "# # Set hyperparameters\n",
        "# learning_rate = 0.001\n",
        "# beta1 = 0.9\n",
        "# beta2 = 0.999\n",
        "# epsilon = 1e-8\n",
        "# num_iterations = 1000\n",
        "\n",
        "# # Define the logistic regression model\n",
        "# def logistic_regression_model(X):\n",
        "#     logits = tf.matmul(X, theta)\n",
        "#     return tf.sigmoid(logits)\n",
        "\n",
        "# # Define the cost function (binary cross-entropy)\n",
        "# def compute_cost(y_true, y_pred):\n",
        "#     return -tf.reduce_mean(y_true * tf.math.log(y_pred) + (1 - y_true) * tf.math.log(1 - y_pred))\n",
        "\n",
        "# # Use the Adam optimizer\n",
        "# optimizer = tf.optimizers.Adam(learning_rate=learning_rate, beta_1=beta1, beta_2=beta2, epsilon=epsilon)\n",
        "\n",
        "# # Lists to store costs for plotting\n",
        "# costs = []\n",
        "\n",
        "# # Training loop\n",
        "# for i in range(num_iterations):\n",
        "#     with tf.GradientTape() as tape:\n",
        "#         y_pred = logistic_regression_model(X_tensor)\n",
        "#         cost = compute_cost(y_tensor, y_pred)\n",
        "\n",
        "#     gradients = tape.gradient(cost, [theta])\n",
        "#     optimizer.apply_gradients(zip(gradients, [theta]))\n",
        "\n",
        "#     costs.append(cost.numpy())\n",
        "\n",
        "# # Plot cost vs. iterations\n",
        "# plot.figure(figsize=(10, 6))\n",
        "# plot.plot(range(1, num_iterations + 1), costs, color='b')\n",
        "# plot.xlabel('Iterations')\n",
        "# plot.ylabel('Cost')\n",
        "# plot.title('Training Cost vs. Iterations')\n",
        "# plot.grid(True)\n",
        "# plot.show()\n"
      ]
    },
    {
      "cell_type": "markdown",
      "source": [
        "# Simple Adam optimiser with Log Reg implementation"
      ],
      "metadata": {
        "id": "95FBpPlE8PPa"
      }
    },
    {
      "cell_type": "code",
      "execution_count": null,
      "metadata": {
        "id": "bAhRuP5Uii9L"
      },
      "outputs": [],
      "source": [
        "import numpy as np\n",
        "import tensorflow as tf\n",
        "from keras.datasets import mnist\n",
        "from keras.models import Sequential\n",
        "from keras.layers import Dense\n",
        "import matplotlib.pyplot as plt\n",
        "\n",
        "# Load the MNIST dataset\n",
        "(X_train, y_train), (X_test, y_test) = mnist.load_data()\n",
        "\n",
        "# Flatten the images (convert 28x28 images to 784-dimensional vectors)\n",
        "X_train = X_train.reshape(X_train.shape[0], -1)\n",
        "X_test = X_test.reshape(X_test.shape[0], -1)\n",
        "\n",
        "# Normalize pixel values to be between 0 and 1\n",
        "X_train = X_train.astype('float32') / 255\n",
        "X_test = X_test.astype('float32') / 255\n",
        "\n",
        "# Define a simple logistic regression model\n",
        "model = Sequential()\n",
        "model.add(Dense(10, input_dim=784, activation='softmax'))  # 10 classes for MNIST\n",
        "\n",
        "# Compile the model\n",
        "model.compile(loss='sparse_categorical_crossentropy', optimizer='adam', metrics=['accuracy'])\n",
        "\n",
        "# Train the model\n",
        "history = model.fit(X_train, y_train, epochs=10, batch_size=128, validation_split=0.2)\n",
        "\n",
        "# Extract training cost (loss) values from history\n",
        "training_costs = history.history['loss']\n",
        "\n",
        "# Plot training cost vs. epochs\n",
        "plt.figure(figsize=(10, 6))\n",
        "plt.plot(range(1, len(training_costs) + 1), training_costs, color='b')\n",
        "plt.xlabel('Epochs')\n",
        "plt.ylabel('Training Loss')\n",
        "plt.title('Training Loss vs. Epochs')\n",
        "plt.grid(True)\n",
        "plt.show()\n",
        "\n",
        "# Evaluate the model on the test data\n",
        "test_loss, test_accuracy = model.evaluate(X_test, y_test)\n",
        "print(f\"Test Loss: {test_loss:.4f}\")\n",
        "print(f\"Test Accuracy: {test_accuracy:.4f}\")\n"
      ]
    }
  ],
  "metadata": {
    "colab": {
      "provenance": [],
      "collapsed_sections": [
        "yi6p9i1e7lmq"
      ],
      "toc_visible": true,
      "authorship_tag": "ABX9TyPcIIt+ld8b/Y3AQCjnopUD",
      "include_colab_link": true
    },
    "kernelspec": {
      "display_name": "Python 3",
      "name": "python3"
    },
    "language_info": {
      "name": "python"
    }
  },
  "nbformat": 4,
  "nbformat_minor": 0
}