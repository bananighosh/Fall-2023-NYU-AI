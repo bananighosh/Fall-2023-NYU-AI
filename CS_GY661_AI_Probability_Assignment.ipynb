{
  "nbformat": 4,
  "nbformat_minor": 0,
  "metadata": {
    "colab": {
      "provenance": [],
      "authorship_tag": "ABX9TyNlCAgoDhlnq6j6aQ2z0fys",
      "include_colab_link": true
    },
    "kernelspec": {
      "name": "python3",
      "display_name": "Python 3"
    },
    "language_info": {
      "name": "python"
    }
  },
  "cells": [
    {
      "cell_type": "markdown",
      "metadata": {
        "id": "view-in-github",
        "colab_type": "text"
      },
      "source": [
        "<a href=\"https://colab.research.google.com/github/bananighosh/Fall-2023-NYU-AI/blob/assignment_1_probability/CS_GY661_AI_Probability_Assignment.ipynb\" target=\"_parent\"><img src=\"https://colab.research.google.com/assets/colab-badge.svg\" alt=\"Open In Colab\"/></a>"
      ]
    },
    {
      "cell_type": "code",
      "execution_count": 2,
      "metadata": {
        "id": "CvdMligkKeUR"
      },
      "outputs": [],
      "source": [
        "import numpy as np\n",
        "import matplotlib.pyplot as plot"
      ]
    },
    {
      "cell_type": "markdown",
      "source": [
        "1a. Generate an array of 10^4 with mean =7.25 and standard deviation = 0.875 that will follow normal distribution"
      ],
      "metadata": {
        "id": "pWoqSQEqdS9j"
      }
    },
    {
      "cell_type": "code",
      "source": [
        "gs = np.random.normal(loc=7.25, scale=0.875, size=10000)"
      ],
      "metadata": {
        "id": "HekGaA8Rdjo0"
      },
      "execution_count": 11,
      "outputs": []
    },
    {
      "cell_type": "code",
      "source": [
        "plot.hist(gs, bins=50, edgecolor='black')"
      ],
      "metadata": {
        "colab": {
          "base_uri": "https://localhost:8080/",
          "height": 734
        },
        "id": "y8OxlQxvehb6",
        "outputId": "599d031f-3101-48d5-c49d-fecdf46e1f09"
      },
      "execution_count": 12,
      "outputs": [
        {
          "output_type": "execute_result",
          "data": {
            "text/plain": [
              "(array([  2.,   1.,   2.,   3.,   1.,   6.,   5.,  10.,  10.,  29.,  40.,\n",
              "         40.,  63., 111.,  92., 166., 196., 265., 282., 369., 435., 459.,\n",
              "        486., 544., 580., 617., 602., 614., 545., 580., 432., 425., 374.,\n",
              "        366., 282., 229., 191., 134., 123.,  91.,  64.,  29.,  45.,  27.,\n",
              "         13.,   3.,   9.,   5.,   1.,   2.]),\n",
              " array([ 3.7692277 ,  3.90146139,  4.03369509,  4.16592878,  4.29816248,\n",
              "         4.43039617,  4.56262987,  4.69486356,  4.82709725,  4.95933095,\n",
              "         5.09156464,  5.22379834,  5.35603203,  5.48826573,  5.62049942,\n",
              "         5.75273312,  5.88496681,  6.01720051,  6.1494342 ,  6.2816679 ,\n",
              "         6.41390159,  6.54613529,  6.67836898,  6.81060268,  6.94283637,\n",
              "         7.07507007,  7.20730376,  7.33953746,  7.47177115,  7.60400485,\n",
              "         7.73623854,  7.86847224,  8.00070593,  8.13293962,  8.26517332,\n",
              "         8.39740701,  8.52964071,  8.6618744 ,  8.7941081 ,  8.92634179,\n",
              "         9.05857549,  9.19080918,  9.32304288,  9.45527657,  9.58751027,\n",
              "         9.71974396,  9.85197766,  9.98421135, 10.11644505, 10.24867874,\n",
              "        10.38091244]),\n",
              " <BarContainer object of 50 artists>)"
            ]
          },
          "metadata": {},
          "execution_count": 12
        },
        {
          "output_type": "display_data",
          "data": {
            "text/plain": [
              "<Figure size 640x480 with 1 Axes>"
            ],
            "image/png": "[encoded data removed]"
          },
          "metadata": {}
        }
      ]
    },
    {
      "cell_type": "code",
      "source": [
        "sigma = np.matrix('1 0.6 -0.9; 0.6 1 -0.5; -0.9 -0.5 1')\n",
        "sigma"
      ],
      "metadata": {
        "colab": {
          "base_uri": "https://localhost:8080/"
        },
        "id": "014fdIumgQQc",
        "outputId": "73bce8c0-1c20-4879-ae9a-a4f0825bfc2d"
      },
      "execution_count": 14,
      "outputs": [
        {
          "output_type": "execute_result",
          "data": {
            "text/plain": [
              "matrix([[ 1. ,  0.6, -0.9],\n",
              "        [ 0.6,  1. , -0.5],\n",
              "        [-0.9, -0.5,  1. ]])"
            ]
          },
          "metadata": {},
          "execution_count": 14
        }
      ]
    }
  ]
}